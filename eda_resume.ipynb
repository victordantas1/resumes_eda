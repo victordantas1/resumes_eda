{
 "cells": [
  {
   "metadata": {},
   "cell_type": "markdown",
   "source": "# Resumes PDFs Text Analysis",
   "id": "7a81ada0243d2684"
  },
  {
   "cell_type": "code",
   "id": "initial_id",
   "metadata": {
    "collapsed": true,
    "ExecuteTime": {
     "end_time": "2025-05-08T22:28:13.925562Z",
     "start_time": "2025-05-08T22:28:13.150841Z"
    }
   },
   "source": [
    "import fitz\n",
    "import pandas as pd\n",
    "import numpy as np"
   ],
   "outputs": [],
   "execution_count": 1
  },
  {
   "metadata": {},
   "cell_type": "markdown",
   "source": "## Reading Resumes PDF with PyMuPDF",
   "id": "ce6e649403575177"
  },
  {
   "metadata": {
    "ExecuteTime": {
     "end_time": "2025-05-08T22:28:21.833366Z",
     "start_time": "2025-05-08T22:28:13.936556Z"
    }
   },
   "cell_type": "code",
   "source": [
    "cv_text_list = []\n",
    "for i in range(1, 1000):\n",
    "    try:\n",
    "        doc = fitz.open(f\"data/ResumesPDF/cv ({i}).pdf\")\n",
    "        page = doc[0]\n",
    "        text = page.get_text()\n",
    "        cv_text_list.append(text)\n",
    "        doc.close()\n",
    "    except Exception as e:\n",
    "        print(e)"
   ],
   "id": "81f4bebe96334a55",
   "outputs": [],
   "execution_count": 2
  },
  {
   "metadata": {
    "ExecuteTime": {
     "end_time": "2025-05-08T22:28:22.039452Z",
     "start_time": "2025-05-08T22:28:22.024441Z"
    }
   },
   "cell_type": "code",
   "source": [
    "for text in cv_text_list[:10]:\n",
    "    print(text)\n",
    "    print('\\n')\n",
    "    print('==========================')"
   ],
   "id": "7994c112aaf570e5",
   "outputs": [
    {
     "name": "stdout",
     "output_type": "stream",
     "text": [
      "One97 Communications Limited \n",
      "Data Scientist Jan 2019 to Till Date \n",
      "Detect important information from images and redact\n",
      "required fields. YOLO CNN Object-detection, OCR\n",
      "Insights, find anomaly or performance drop in all\n",
      "possible sub-space. \n",
      "Predict the Insurance claim probability. Estimate the\n",
      "premium amount to be charged\n",
      "B.Tech(Computer Science) from SGBAU university in\n",
      "2017. \n",
      "M.Tech (Computer Science Engineering) from Indian\n",
      "Institute of Technology (IIT), Kanpur in 2019\n",
      "WORK EXPERIENCE\n",
      "EDUCATION\n",
      "MACY WILLIAMS\n",
      "DATA SCIENTIST\n",
      "Data Scientist working  on problems related to market research and customer analysis. I want to expand my arsenal of\n",
      "application building and work on different kinds of problems. Looking for a role where I can work with a coordinative team\n",
      "and exchange knowledge during the process.\n",
      "Java, C++, Python, Machine Learning, Algorithms, Natural Language Processing, Deep Learning, Computer Vision, Pattern\n",
      "Recognition, Data Science, Data Analysis, Software Engineer, Data Analyst, C, PySpark, Kubeflow.\n",
      "ABOUT\n",
      "SKILLS\n",
      "Customer browsing patterns.\n",
      "Predict potential RTO(Return To Origin) orders for e-\n",
      "commerce.\n",
      "Object Detection.\n",
      "PROJECTS\n",
      "ACTIVITES\n",
      "\n",
      "\n",
      "\n",
      "==========================\n",
      "KEISUKE YAMAMOTO\n",
      "PROFILE\n",
      "Professional with 3 months of experience in Web\n",
      "Development and interested in ML.\n",
      "SKILLS\n",
      "Web Developer, Data Analyst, Web Development,\n",
      "Machine Learning, Python, FrontEnd, HTML,\n",
      "Javascript, PHP, CSS, MySQL, Java, Data\n",
      "Structures, OOP, Algorithms, C.\n",
      "EXPERIENCE\n",
      "SAI Technologies, \n",
      "Intern, Aug 2020 to Till Date \n",
      " \n",
      "Working at a cybersecurity company as an intern.\n",
      "Working on different projects which need python,\n",
      "cybersecurity, HTML, CSS, javascript, java, and\n",
      "Docker containers as main skills. \n",
      "EDUCATION\n",
      "B.Tech(Computers) from Shri Guru\n",
      "Gobind Singhji College of Engineering\n",
      "and Technology, Nanded in 2019 \n",
      "J U N I O R  S O F T W A R E  D E V E L O P E R\n",
      "ACTIVITIES\n",
      "Data Analyst, \n",
      "Python Programming.\n",
      "PROJECTS\n",
      "Character Detection using SVM\n",
      "Classification.\n",
      "\n",
      "\n",
      "\n",
      "==========================\n",
      "Stella Thatcher\n",
      "A S S O C I A T E  M A R K E T  A N A L Y S T\n",
      "Executive Profile\n",
      "I am a market research specialist with a\n",
      "grasp of machine learning and looking for\n",
      "a deeper dive into the career of being a\n",
      "professional machine learning engineer.\n",
      "Other Activities\n",
      "Certified Python Developer\n",
      "Projects\n",
      "Stock Market Analyzer.\n",
      "Skills\n",
      "Research Associate, Business Analyst,\n",
      "Business Analytics, Data Mining, Data\n",
      "Modeling, Predictive Analysis, Business\n",
      "Intelligence, Machine Learning, Market\n",
      "Research, Customer Engagement, Risk\n",
      "Management, Retention, Audience, Python.\n",
      "Work Experience\n",
      "Kripa Infotech \n",
      "Associate Market Research Analyst Intern, Apr 2020 - Sep 2020 \n",
      "Worked with clients to get an overall idea of how a product is\n",
      "perceived by a target audience. Focused on large groups of data both\n",
      "structured and unstructered for solutions. \n",
      "Education\n",
      "B.Tech(Mechanical) Bhavleesh Duggar College, Nasik 2020\n",
      "\n",
      "\n",
      "\n",
      "==========================\n",
      "P R O F I L E\n",
      "Software developer with a niche towards end to end machine learning projects.\n",
      "Motivated towards learning, solving and producing better results. \n",
      "KLN SOLUTIONS \n",
      "JUNIOR DATA EVANGELIST, JULY 2019 - TILL DATE\n",
      "Building applications and exploring data and its use over different\n",
      "management solutions.\n",
      "NOLAN DRUCKS\n",
      "S K I L L S\n",
      "Data Manipulation, Data Mining,\n",
      "Python, SQL, R Programming,\n",
      "PowerBI, Tableau, Machine\n",
      "Learning, PySpark, Azure\n",
      "Databricks, AWS.\n",
      "E X P E R I E N C E\n",
      "E D U C A T I O N\n",
      "B.TECH(INSTRUMENTATION), BABURAO PATIL COLLEGE AND\n",
      "UNIVERSITY, AURANGABAD, 2019.\n",
      "D A T A  D E S I G N E R\n",
      "P R O J E C T S\n",
      "Leveraged NLTK, Spacy, Fast text\n",
      "libraries to perform all kinds of\n",
      "NLP operations including but not\n",
      "limited to cleaning, stemming,\n",
      "lemmatization, word encoding,\n",
      "etc.\n",
      "A C T I V I T I E S  A N D  A W A R D S\n",
      "INTRODUCTION TO DATA ONTOLOGY.\n",
      "JB MANAGEMENT \n",
      "SOFTWARE DEVELOPER INTERN, JAN 2019 - JUN 2019\n",
      "Development of a python module to assist OCR models.\n",
      "\n",
      "\n",
      "\n",
      "==========================\n",
      "KELSEY STENS\n",
      "S O F T W A R E  D E V E L O P E R ( M A C H I N E  L E A R N I N G )\n",
      "SKILLS\n",
      "Software Engineer, Data Analyst,\n",
      "Machine Learning, Text Analytics,\n",
      "Software Development, Object\n",
      "Oriented Programming, Pandas,\n",
      "Numpy, Java, Python, SpringBoot,\n",
      "Laravel.\n",
      "EDUCATION\n",
      "B.Tech (ECE) Dr. Jagjiban Rao Engineering College, 2019\n",
      "PERSONAL PROFILE\n",
      "Software developer focused in the areas of\n",
      "Machine learning application development.\n",
      "Motivated to learn, grow and excel my\n",
      "experience by challenging myself.\n",
      "WORK BACKGROUND\n",
      "KLP Technology Solutions \n",
      "Software Engineer, Jan 2019 - till date \n",
      "Built predictive and decision models using machine learning\n",
      "algorithms for various business study cases with feature\n",
      "engineering and evaluation methods.\n",
      "OTHER ACTIVITIES\n",
      "OnDevice Machine Learning \n",
      "UI/UX development\n",
      "PROJECTS\n",
      "Built predictive and decision models\n",
      "using machine learning algorithms.\n",
      "Developed and integrated the UI\n",
      "components with HMI framework for\n",
      "Head Up Display.\n",
      "\n",
      "\n",
      "\n",
      "==========================\n",
      "MATTHEW HORRES\n",
      "JUNIOR DEVELOPER\n",
      "WORK EXPERIENCE\n",
      "Gruvil Technologies \n",
      "Intern Trainee, Apr 2020 - Ongoing \n",
      "Currently working on NLP project, Understanding\n",
      "business objectives, and implementing an end-to-\n",
      "end project. Scrapping the data using beautiful soup\n",
      "and converting that into a structured format. \n",
      "DRDO \n",
      "Intern Developer, Dec 2018 - Jul 2019 \n",
      "Worked on an Image identifier based on satellite\n",
      "captured images.\n",
      "ACADEMIC PROFILE\n",
      "B.Tech, Electrical, Punjab University 2019\n",
      "EXECUTIVE\n",
      "SUMMARY\n",
      "Individual with strong\n",
      "communication skills and\n",
      "coordination. I have strong\n",
      "attention to detail when it comes\n",
      "to project building and analytical\n",
      "skills to work on complex\n",
      "problems.\n",
      "PERSONAL\n",
      "SKILLS\n",
      "Python, Machine Learning, Deep\n",
      "Learning, R, Computer Vision,\n",
      "Numpy, Panda, Matplotlib, MySQL,\n",
      "OpenCV, PyTorch.\n",
      "PROJECTS\n",
      "Real -Time Face Mask Detection\n",
      "EXTRA-CURRICULARS\n",
      "Machine learning with Python\n",
      "Neural Network applied in PyTorch\n",
      "\n",
      "\n",
      "\n",
      "==========================\n",
      "BENJAMIN OSTA\n",
      "FRESHER DEVELOPER\n",
      "PROFESSIONAL PROFILE\n",
      "As a fresher I have in the field of Software\n",
      "Development and business management. \n",
      "And right now I am in search of a role\n",
      "where I can learn and apply machine\n",
      "learning models to real-life projects.\n",
      "PROFICIENT SKILLS\n",
      "Software Engineer, Software Developer,\n",
      "C++, C#, Jenkins, SpringBoot, Django,\n",
      "Python, SAP, Firebase.\n",
      "EMPLOYMENT HISTORY\n",
      "Working on a data compression delivery system, along with\n",
      "database management of business members.\n",
      "Intern Feb 2020 to Nov 2020\n",
      "Flipkart\n",
      "EDUCATIONAL HISTORY\n",
      " B.Tech(Civil) from Anna University in 2020\n",
      "\n",
      "\n",
      "\n",
      "==========================\n",
      "Coca-COla\n",
      " Big Data Analyst, Nov 2019 to Till Date \n",
      "Using the production and shipment data, create a\n",
      "delivery mechanism that would automate the process\n",
      "of data warehousing immediately after a batch is\n",
      "served out of the production line.\n",
      ": B.Tech(Electronics) from The Amity School of\n",
      "Engineering & Technology (ASET), Noida in 2019 \n",
      "WORK EXPERIENCE\n",
      "EDUCATION\n",
      "JEROME PELINSKY\n",
      "BIG DATA ANALYST\n",
      "Big data analytics working and database warehouse manager with robust experience in handling all kinds of data. I have\n",
      "also used multiple cloud infrastructure services and am well acquainted with them. Currently in search of role that offers\n",
      "more of development.\n",
      "Big Data, Hadoop, Hive, Python, Mapreduce, Spark, Java, Machine Learning, Cloud, Hdfs, YARN, Core Java, Data Science,\n",
      "C++, Data Structures, DBMS, RDBMS, Informatica, Talend, Amazon Redshift, Microsoft Azure.\n",
      "ABOUT\n",
      "SKILLS\n",
      "\n",
      "\n",
      "\n",
      "==========================\n",
      "LEHNA PATRICK\n",
      "PROFILE\n",
      "I have worked on grassroot level design of data based\n",
      "models and research on various data that is available.\n",
      "SKILLS\n",
      "Dataset Management, Requirements Gathering,\n",
      "Predictive Modeling, Data Mining, Data Insights,\n",
      "Artificial Intelligence, Programming Language,\n",
      "Process Improvement, Python.\n",
      "EXPERIENCE\n",
      "TTR Innovation labs \n",
      "Research Analyst, Apr 2018 - till Date \n",
      " \n",
      "Ontology for capturing and reasoning with knowledge\n",
      "based on NLP. Defect detection and classification for\n",
      "semiconductor wafers.\n",
      "EDUCATION\n",
      "B.Tech (Metallurgy) NIT Warangal 2017\n",
      "M.Tech from IIT Kanpur, 2019\n",
      "G R A D U A T E  R E S E A R C H  A S S I S T A N T\n",
      "ACTIVITIES\n",
      "Introduction to R \n",
      "Deep Learning and Neural networks\n",
      "PROJECTS\n",
      "Prediction of material properties,\n",
      "descriptor formulation, and machine\n",
      "learning for prediction of material\n",
      "properties.\n",
      "\n",
      "\n",
      "\n",
      "==========================\n",
      "Jaroslav Chechnik\n",
      "F R E S H E R\n",
      "Executive Profile\n",
      "Looking for a job opportunity in which I\n",
      "can interact, learn, and contribute\n",
      "solutions to the problems, which\n",
      "enhances company benefits along with\n",
      "my career.\n",
      "Other Activities\n",
      "Deep Learning Masters \n",
      "Machine Learning \n",
      "Projects\n",
      "Music Genre Classification \n",
      "Face, eye, smile recognition\n",
      "Skills\n",
      "Python, Anaconda, NumPy, Pandas,\n",
      "Matplotlib, Scikit Learn, TensorFlow,\n",
      "Streamlit, Arduino, Raspberry Pi.\n",
      "Work Experience\n",
      "Experts Hub \n",
      "Intern, May 2020 \n",
      "SMART PARKING SYSTEM\n",
      "Education\n",
      "B. Tech, ECE VIT-AP University 2021\n",
      "\n",
      "\n",
      "\n",
      "==========================\n"
     ]
    }
   ],
   "execution_count": 3
  },
  {
   "metadata": {},
   "cell_type": "markdown",
   "source": "## Reading Resumes PDF with pdfplumber",
   "id": "eba6f106dc2a3adc"
  },
  {
   "metadata": {
    "ExecuteTime": {
     "end_time": "2025-05-08T22:28:22.069688Z",
     "start_time": "2025-05-08T22:28:22.056694Z"
    }
   },
   "cell_type": "code",
   "source": [
    "\"\"\"import pdfplumber\n",
    "\n",
    "cv_text_list = []\n",
    "for i in range(1, 5035):\n",
    "    try:\n",
    "        with pdfplumber.open(f'data/ResumesPDF/cv ({i}).pdf') as pdf:\n",
    "            # Acessar a primeira página\n",
    "            if pdf.pages:\n",
    "                pagina = pdf.pages[0]\n",
    "\n",
    "            # Extrair texto\n",
    "            texto = pagina.extract_text()\n",
    "            cv_text_list.append(texto)\n",
    "    except Exception as e:\n",
    "        print(e)\"\"\""
   ],
   "id": "6153bd5211dd5e30",
   "outputs": [
    {
     "data": {
      "text/plain": [
       "\"import pdfplumber\\n\\ncv_text_list = []\\nfor i in range(1, 5035):\\n    try:\\n        with pdfplumber.open(f'data/ResumesPDF/cv ({i}).pdf') as pdf:\\n            # Acessar a primeira página\\n            if pdf.pages:\\n                pagina = pdf.pages[0]\\n\\n            # Extrair texto\\n            texto = pagina.extract_text()\\n            cv_text_list.append(texto)\\n    except Exception as e:\\n        print(e)\""
      ]
     },
     "execution_count": 4,
     "metadata": {},
     "output_type": "execute_result"
    }
   ],
   "execution_count": 4
  },
  {
   "metadata": {
    "ExecuteTime": {
     "end_time": "2025-05-08T22:28:22.164299Z",
     "start_time": "2025-05-08T22:28:22.151301Z"
    }
   },
   "cell_type": "code",
   "source": [
    "\"\"\"for text in cv_text_list[:10]:\n",
    "    print(text)\n",
    "    print('\\n')\n",
    "    print('==========================')\"\"\""
   ],
   "id": "c904b8351f194749",
   "outputs": [
    {
     "data": {
      "text/plain": [
       "\"for text in cv_text_list[:10]:\\n    print(text)\\n    print('\\n')\\n    print('==========================')\""
      ]
     },
     "execution_count": 5,
     "metadata": {},
     "output_type": "execute_result"
    }
   ],
   "execution_count": 5
  },
  {
   "metadata": {},
   "cell_type": "markdown",
   "source": "## Reading PDFs with PyPDF2",
   "id": "bd0a6974cc8f0aa0"
  },
  {
   "metadata": {
    "ExecuteTime": {
     "end_time": "2025-05-08T22:28:22.225845Z",
     "start_time": "2025-05-08T22:28:22.212844Z"
    }
   },
   "cell_type": "code",
   "source": [
    "\"\"\"import PyPDF2\n",
    "\n",
    "cv_text_list = []\n",
    "for i in range(1, 5035):\n",
    "    try:\n",
    "        with open(f'data/ResumesPDF/cv ({i}).pdf', 'rb') as file:\n",
    "            pdf = PyPDF2.PdfReader(file)\n",
    "            if pdf.pages:\n",
    "                pagina = pdf.pages[0]\n",
    "            texto = pagina.extract_text()\n",
    "            cv_text_list.append(texto)\n",
    "    except Exception as e:\n",
    "        print(e)\"\"\""
   ],
   "id": "67b678294c117335",
   "outputs": [
    {
     "data": {
      "text/plain": [
       "\"import PyPDF2\\n\\ncv_text_list = []\\nfor i in range(1, 5035):\\n    try:\\n        with open(f'data/ResumesPDF/cv ({i}).pdf', 'rb') as file:\\n            pdf = PyPDF2.PdfReader(file)\\n            if pdf.pages:\\n                pagina = pdf.pages[0]\\n            texto = pagina.extract_text()\\n            cv_text_list.append(texto)\\n    except Exception as e:\\n        print(e)\""
      ]
     },
     "execution_count": 6,
     "metadata": {},
     "output_type": "execute_result"
    }
   ],
   "execution_count": 6
  },
  {
   "metadata": {
    "ExecuteTime": {
     "end_time": "2025-05-08T22:28:22.256843Z",
     "start_time": "2025-05-08T22:28:22.239844Z"
    }
   },
   "cell_type": "code",
   "source": [
    "\"\"\"for text in cv_text_list[:10]:\n",
    "    print(text)\n",
    "    print('\\n')\n",
    "    print('==========================')\"\"\""
   ],
   "id": "b76d07bf31d18524",
   "outputs": [
    {
     "data": {
      "text/plain": [
       "\"for text in cv_text_list[:10]:\\n    print(text)\\n    print('\\n')\\n    print('==========================')\""
      ]
     },
     "execution_count": 7,
     "metadata": {},
     "output_type": "execute_result"
    }
   ],
   "execution_count": 7
  },
  {
   "metadata": {},
   "cell_type": "markdown",
   "source": "## Configure Spark ENV Vars",
   "id": "626c4190adcd09ad"
  },
  {
   "metadata": {
    "ExecuteTime": {
     "end_time": "2025-05-08T22:28:22.302856Z",
     "start_time": "2025-05-08T22:28:22.289846Z"
    }
   },
   "cell_type": "code",
   "source": [
    "import os\n",
    "os.environ[\"PYSPARK_PYTHON\"] = \"C:/Users/Victor Dantas/PycharmProjects/EDA_Resumes/.venv/Scripts/python.exe\"\n",
    "os.environ[\"PYSPARK_DRIVER_PYTHON\"] = \"C:/Users/Victor Dantas/PycharmProjects/EDA_Resumes/.venv/Scripts/python.exe\""
   ],
   "id": "45b46fa4c6de5550",
   "outputs": [],
   "execution_count": 8
  },
  {
   "metadata": {},
   "cell_type": "markdown",
   "source": "## Creating Spark Session",
   "id": "1773d6db708b4553"
  },
  {
   "metadata": {
    "ExecuteTime": {
     "end_time": "2025-05-08T22:28:27.817658Z",
     "start_time": "2025-05-08T22:28:22.320377Z"
    }
   },
   "cell_type": "code",
   "source": [
    "from pyspark.sql import SparkSession\n",
    "spark = SparkSession.builder.appName(\"EDA Resumes\").master(\"local[*]\").config(\"spark.driver.memory\", \"6g\").getOrCreate()\n",
    "spark"
   ],
   "id": "c7da43eb5c3bf233",
   "outputs": [
    {
     "data": {
      "text/plain": [
       "<pyspark.sql.session.SparkSession at 0x178491b2d40>"
      ],
      "text/html": [
       "\n",
       "            <div>\n",
       "                <p><b>SparkSession - in-memory</b></p>\n",
       "                \n",
       "        <div>\n",
       "            <p><b>SparkContext</b></p>\n",
       "\n",
       "            <p><a href=\"http://DESKTOP-JJ2CN05:4040\">Spark UI</a></p>\n",
       "\n",
       "            <dl>\n",
       "              <dt>Version</dt>\n",
       "                <dd><code>v3.5.5</code></dd>\n",
       "              <dt>Master</dt>\n",
       "                <dd><code>local[*]</code></dd>\n",
       "              <dt>AppName</dt>\n",
       "                <dd><code>EDA Resumes</code></dd>\n",
       "            </dl>\n",
       "        </div>\n",
       "        \n",
       "            </div>\n",
       "        "
      ]
     },
     "execution_count": 9,
     "metadata": {},
     "output_type": "execute_result"
    }
   ],
   "execution_count": 9
  },
  {
   "metadata": {
    "ExecuteTime": {
     "end_time": "2025-05-08T22:28:30.922892Z",
     "start_time": "2025-05-08T22:28:27.844663Z"
    }
   },
   "cell_type": "code",
   "source": [
    "resumes_data = spark.createDataFrame([(text, ) for text in cv_text_list], ['text_resume'])\n",
    "resumes_data.limit(5).show(truncate=False)"
   ],
   "id": "3cafd70d659a0c61",
   "outputs": [
    {
     "name": "stdout",
     "output_type": "stream",
     "text": [
      "+-----------------------------------------------------------------------------------------------------------------------------------------------------------------------------------------------------------------------------------------------------------------------------------------------------------------------------------------------------------------------------------------------------------------------------------------------------------------------------------------------------------------------------------------------------------------------------------------------------------------------------------------------------------------------------------------------------------------------------------------------------------------------------------------------------------------------------------------------------------------------------------------------------------------------------------------------------------------------------------------------------------------------------------------------------------------------------------------------------------------------------------------------------------------------------------------------------------------------------------------------+\n",
      "|text_resume                                                                                                                                                                                                                                                                                                                                                                                                                                                                                                                                                                                                                                                                                                                                                                                                                                                                                                                                                                                                                                                                                                                                                                                                                                    |\n",
      "+-----------------------------------------------------------------------------------------------------------------------------------------------------------------------------------------------------------------------------------------------------------------------------------------------------------------------------------------------------------------------------------------------------------------------------------------------------------------------------------------------------------------------------------------------------------------------------------------------------------------------------------------------------------------------------------------------------------------------------------------------------------------------------------------------------------------------------------------------------------------------------------------------------------------------------------------------------------------------------------------------------------------------------------------------------------------------------------------------------------------------------------------------------------------------------------------------------------------------------------------------+\n",
      "|One97 Communications Limited \\nData Scientist Jan 2019 to Till Date \\nDetect important information from images and redact\\nrequired fields. YOLO CNN Object-detection, OCR\\nInsights, find anomaly or performance drop in all\\npossible sub-space. \\nPredict the Insurance claim probability. Estimate the\\npremium amount to be charged\\nB.Tech(Computer Science) from SGBAU university in\\n2017. \\nM.Tech (Computer Science Engineering) from Indian\\nInstitute of Technology (IIT), Kanpur in 2019\\nWORK EXPERIENCE\\nEDUCATION\\nMACY WILLIAMS\\nDATA SCIENTIST\\nData Scientist working  on problems related to market research and customer analysis. I want to expand my arsenal of\\napplication building and work on different kinds of problems. Looking for a role where I can work with a coordinative team\\nand exchange knowledge during the process.\\nJava, C++, Python, Machine Learning, Algorithms, Natural Language Processing, Deep Learning, Computer Vision, Pattern\\nRecognition, Data Science, Data Analysis, Software Engineer, Data Analyst, C, PySpark, Kubeflow.\\nABOUT\\nSKILLS\\nCustomer browsing patterns.\\nPredict potential RTO(Return To Origin) orders for e-\\ncommerce.\\nObject Detection.\\nPROJECTS\\nACTIVITES\\n|\n",
      "|KEISUKE YAMAMOTO\\nPROFILE\\nProfessional with 3 months of experience in Web\\nDevelopment and interested in ML.\\nSKILLS\\nWeb Developer, Data Analyst, Web Development,\\nMachine Learning, Python, FrontEnd, HTML,\\nJavascript, PHP, CSS, MySQL, Java, Data\\nStructures, OOP, Algorithms, C.\\nEXPERIENCE\\nSAI Technologies, \\nIntern, Aug 2020 to Till Date \\n \\nWorking at a cybersecurity company as an intern.\\nWorking on different projects which need python,\\ncybersecurity, HTML, CSS, javascript, java, and\\nDocker containers as main skills. \\nEDUCATION\\nB.Tech(Computers) from Shri Guru\\nGobind Singhji College of Engineering\\nand Technology, Nanded in 2019 \\nJ U N I O R  S O F T W A R E  D E V E L O P E R\\nACTIVITIES\\nData Analyst, \\nPython Programming.\\nPROJECTS\\nCharacter Detection using SVM\\nClassification.\\n                                                                                                                                                                                                                                                                                                                                                                                                       |\n",
      "|Stella Thatcher\\nA S S O C I A T E  M A R K E T  A N A L Y S T\\nExecutive Profile\\nI am a market research specialist with a\\ngrasp of machine learning and looking for\\na deeper dive into the career of being a\\nprofessional machine learning engineer.\\nOther Activities\\nCertified Python Developer\\nProjects\\nStock Market Analyzer.\\nSkills\\nResearch Associate, Business Analyst,\\nBusiness Analytics, Data Mining, Data\\nModeling, Predictive Analysis, Business\\nIntelligence, Machine Learning, Market\\nResearch, Customer Engagement, Risk\\nManagement, Retention, Audience, Python.\\nWork Experience\\nKripa Infotech \\nAssociate Market Research Analyst Intern, Apr 2020 - Sep 2020 \\nWorked with clients to get an overall idea of how a product is\\nperceived by a target audience. Focused on large groups of data both\\nstructured and unstructered for solutions. \\nEducation\\nB.Tech(Mechanical) Bhavleesh Duggar College, Nasik 2020\\n                                                                                                                                                                                                                                                                                     |\n",
      "|P R O F I L E\\nSoftware developer with a niche towards end to end machine learning projects.\\nMotivated towards learning, solving and producing better results. \\nKLN SOLUTIONS \\nJUNIOR DATA EVANGELIST, JULY 2019 - TILL DATE\\nBuilding applications and exploring data and its use over different\\nmanagement solutions.\\nNOLAN DRUCKS\\nS K I L L S\\nData Manipulation, Data Mining,\\nPython, SQL, R Programming,\\nPowerBI, Tableau, Machine\\nLearning, PySpark, Azure\\nDatabricks, AWS.\\nE X P E R I E N C E\\nE D U C A T I O N\\nB.TECH(INSTRUMENTATION), BABURAO PATIL COLLEGE AND\\nUNIVERSITY, AURANGABAD, 2019.\\nD A T A  D E S I G N E R\\nP R O J E C T S\\nLeveraged NLTK, Spacy, Fast text\\nlibraries to perform all kinds of\\nNLP operations including but not\\nlimited to cleaning, stemming,\\nlemmatization, word encoding,\\netc.\\nA C T I V I T I E S  A N D  A W A R D S\\nINTRODUCTION TO DATA ONTOLOGY.\\nJB MANAGEMENT \\nSOFTWARE DEVELOPER INTERN, JAN 2019 - JUN 2019\\nDevelopment of a python module to assist OCR models.\\n                                                                                                                                                                                                 |\n",
      "|KELSEY STENS\\nS O F T W A R E  D E V E L O P E R ( M A C H I N E  L E A R N I N G )\\nSKILLS\\nSoftware Engineer, Data Analyst,\\nMachine Learning, Text Analytics,\\nSoftware Development, Object\\nOriented Programming, Pandas,\\nNumpy, Java, Python, SpringBoot,\\nLaravel.\\nEDUCATION\\nB.Tech (ECE) Dr. Jagjiban Rao Engineering College, 2019\\nPERSONAL PROFILE\\nSoftware developer focused in the areas of\\nMachine learning application development.\\nMotivated to learn, grow and excel my\\nexperience by challenging myself.\\nWORK BACKGROUND\\nKLP Technology Solutions \\nSoftware Engineer, Jan 2019 - till date \\nBuilt predictive and decision models using machine learning\\nalgorithms for various business study cases with feature\\nengineering and evaluation methods.\\nOTHER ACTIVITIES\\nOnDevice Machine Learning \\nUI/UX development\\nPROJECTS\\nBuilt predictive and decision models\\nusing machine learning algorithms.\\nDeveloped and integrated the UI\\ncomponents with HMI framework for\\nHead Up Display.\\n                                                                                                                                                                                                                |\n",
      "+-----------------------------------------------------------------------------------------------------------------------------------------------------------------------------------------------------------------------------------------------------------------------------------------------------------------------------------------------------------------------------------------------------------------------------------------------------------------------------------------------------------------------------------------------------------------------------------------------------------------------------------------------------------------------------------------------------------------------------------------------------------------------------------------------------------------------------------------------------------------------------------------------------------------------------------------------------------------------------------------------------------------------------------------------------------------------------------------------------------------------------------------------------------------------------------------------------------------------------------------------+\n",
      "\n"
     ]
    }
   ],
   "execution_count": 10
  },
  {
   "metadata": {
    "ExecuteTime": {
     "end_time": "2025-05-08T22:28:39.099958Z",
     "start_time": "2025-05-08T22:28:31.040325Z"
    }
   },
   "cell_type": "code",
   "source": "resumes_data.count()",
   "id": "9f23a599650bd728",
   "outputs": [
    {
     "data": {
      "text/plain": [
       "999"
      ]
     },
     "execution_count": 11,
     "metadata": {},
     "output_type": "execute_result"
    }
   ],
   "execution_count": 11
  },
  {
   "metadata": {},
   "cell_type": "markdown",
   "source": "## Data Pipeline",
   "id": "e6b2dc6b3ac22101"
  },
  {
   "metadata": {
    "ExecuteTime": {
     "end_time": "2025-05-08T22:28:43.804511Z",
     "start_time": "2025-05-08T22:28:39.108965Z"
    }
   },
   "cell_type": "code",
   "source": [
    "from pyspark.sql.types import ArrayType, StringType\n",
    "from pyspark.sql.functions import udf, col\n",
    "import spacy\n",
    "from pyspark.ml import Transformer\n",
    "\n",
    "class TokenFilterChar(Transformer):\n",
    "    def __init__(self, inputCol=None, outputCol=None):\n",
    "        super(TokenFilterChar, self).__init__()\n",
    "        self.inputCol = inputCol\n",
    "        self.outputCol = outputCol\n",
    "\n",
    "    def _transform(self, df):\n",
    "        def remove_single_char_tokens(tokens):\n",
    "            return [t for t in tokens if len(t) > 1]\n",
    "\n",
    "        filter_udf = udf(remove_single_char_tokens, ArrayType(StringType()))\n",
    "        return df.withColumn(self.outputCol, filter_udf(col(self.inputCol)))\n",
    "\n",
    "\n",
    "class NerTransformer(Transformer):\n",
    "    def __init__(self, inputCol=None, outputCol=None):\n",
    "        super(NerTransformer, self).__init__()\n",
    "        self.inputCol = inputCol\n",
    "        self.outputCol = outputCol\n",
    "\n",
    "    def _transform(self, df):\n",
    "        nlp = spacy.load(\"en_core_web_trf\")\n",
    "\n",
    "        def extract_entities(text):\n",
    "            if isinstance(text, list):\n",
    "                text = \" \".join(text)\n",
    "            if not isinstance(text, str):\n",
    "                return []\n",
    "            doc = nlp(text)\n",
    "            return [str(ent.text) for ent in doc.ents]\n",
    "\n",
    "        ner_udf = udf(extract_entities, ArrayType(StringType()))\n",
    "        return df.withColumn(self.outputCol, ner_udf(col(self.inputCol)))"
   ],
   "id": "458a65822f9ba5ff",
   "outputs": [],
   "execution_count": 12
  },
  {
   "metadata": {
    "ExecuteTime": {
     "end_time": "2025-05-08T22:28:44.008448Z",
     "start_time": "2025-05-08T22:28:43.837148Z"
    }
   },
   "cell_type": "code",
   "source": [
    "from pyspark.ml import Pipeline\n",
    "from pyspark.ml.feature import RegexTokenizer, StopWordsRemover, CountVectorizer\n",
    "\n",
    "tokenizer  = RegexTokenizer(inputCol=\"text_resume\", outputCol=\"words_resume\", pattern=\"[\\\\s+|\\\\W]\")\n",
    "remover = StopWordsRemover(inputCol=\"words_resume\", outputCol=\"words_clean\")\n",
    "token_filter_char = TokenFilterChar(inputCol=\"words_clean\", outputCol=\"words_resume\")\n",
    "ner_transformer = NerTransformer(inputCol=\"words_resume\", outputCol=\"words_ner\")\n",
    "vectorizer = CountVectorizer(inputCol=remover.getOutputCol(), outputCol=\"features_count\")\n",
    "\n",
    "pipeline = Pipeline(stages=[tokenizer, remover, token_filter_char, ner_transformer, vectorizer])"
   ],
   "id": "b7a4965bd1a0e67d",
   "outputs": [],
   "execution_count": 13
  },
  {
   "metadata": {
    "ExecuteTime": {
     "end_time": "2025-05-08T22:29:13.062067Z",
     "start_time": "2025-05-08T22:28:44.016458Z"
    }
   },
   "cell_type": "code",
   "source": [
    "resumes_data.cache()\n",
    "pipe = pipeline.fit(resumes_data)\n",
    "resumes_data = pipe.transform(resumes_data)\n",
    "resumes_data.limit(5).show(truncate=False)"
   ],
   "id": "6be3a7a67947d3ae",
   "outputs": [
    {
     "name": "stderr",
     "output_type": "stream",
     "text": [
      "C:\\Users\\Victor Dantas\\PycharmProjects\\EDA_Resumes\\.venv\\lib\\site-packages\\tqdm\\auto.py:21: TqdmWarning: IProgress not found. Please update jupyter and ipywidgets. See https://ipywidgets.readthedocs.io/en/stable/user_install.html\n",
      "  from .autonotebook import tqdm as notebook_tqdm\n"
     ]
    },
    {
     "name": "stdout",
     "output_type": "stream",
     "text": [
      "+-----------------------------------------------------------------------------------------------------------------------------------------------------------------------------------------------------------------------------------------------------------------------------------------------------------------------------------------------------------------------------------------------------------------------------------------------------------------------------------------------------------------------------------------------------------------------------------------------------------------------------------------------------------------------------------------------------------------------------------------------------------------------------------------------------------------------------------------------------------------------------------------------------------------------------------------------------------------------------------------------------------------------------------------------------------------------------------------------------------------------------------------------------------------------------------------------------------------------------------------------+-----------------------------------------------------------------------------------------------------------------------------------------------------------------------------------------------------------------------------------------------------------------------------------------------------------------------------------------------------------------------------------------------------------------------------------------------------------------------------------------------------------------------------------------------------------------------------------------------------------------------------------------------------------------------------------------------------------------------------------------------------------------------------------------------------------------------------------------------------------------------------------------------------------------------------------------------------------------------------------------------------------------------------------------------------------------------------------------------------------------------------------------------+--------------------------------------------------------------------------------------------------------------------------------------------------------------------------------------------------------------------------------------------------------------------------------------------------------------------------------------------------------------------------------------------------------------------------------------------------------------------------------------------------------------------------------------------------------------------------------------------------------------------------------------------------------------------------------------------------------------------------------------------------------------------------------------------------------------------------------------------------------------------------------------------------------------------------------------------------------------------------------------------------------------------------------------------------------------------------------------------------------------------------------------------------------------+------------------------------------------------------------------------------------------------------------------------------------------+-------------------------------------------------------------------------------------------------------------------------------------------------------------------------------------------------------------------------------------------------------------------------------------------------------------------------------------------------------------------------------------------------------------------------------------------------------------------------------------------------------------------------------------------------------------------------------------------------------------------------------------------------------------------------------------------------------------------------------------------------------------------------------------------------------------------------------------------------------------------------------------------------------------------------------------+\n",
      "|text_resume                                                                                                                                                                                                                                                                                                                                                                                                                                                                                                                                                                                                                                                                                                                                                                                                                                                                                                                                                                                                                                                                                                                                                                                                                                    |words_resume                                                                                                                                                                                                                                                                                                                                                                                                                                                                                                                                                                                                                                                                                                                                                                                                                                                                                                                                                                                                                                                                                                                                   |words_clean                                                                                                                                                                                                                                                                                                                                                                                                                                                                                                                                                                                                                                                                                                                                                                                                                                                                                                                                                                                                                                                                                                                                                   |words_ner                                                                                                                                 |features_count                                                                                                                                                                                                                                                                                                                                                                                                                                                                                                                                                                                                                                                                                                                                                                                                                                                                                                                       |\n",
      "+-----------------------------------------------------------------------------------------------------------------------------------------------------------------------------------------------------------------------------------------------------------------------------------------------------------------------------------------------------------------------------------------------------------------------------------------------------------------------------------------------------------------------------------------------------------------------------------------------------------------------------------------------------------------------------------------------------------------------------------------------------------------------------------------------------------------------------------------------------------------------------------------------------------------------------------------------------------------------------------------------------------------------------------------------------------------------------------------------------------------------------------------------------------------------------------------------------------------------------------------------+-----------------------------------------------------------------------------------------------------------------------------------------------------------------------------------------------------------------------------------------------------------------------------------------------------------------------------------------------------------------------------------------------------------------------------------------------------------------------------------------------------------------------------------------------------------------------------------------------------------------------------------------------------------------------------------------------------------------------------------------------------------------------------------------------------------------------------------------------------------------------------------------------------------------------------------------------------------------------------------------------------------------------------------------------------------------------------------------------------------------------------------------------+--------------------------------------------------------------------------------------------------------------------------------------------------------------------------------------------------------------------------------------------------------------------------------------------------------------------------------------------------------------------------------------------------------------------------------------------------------------------------------------------------------------------------------------------------------------------------------------------------------------------------------------------------------------------------------------------------------------------------------------------------------------------------------------------------------------------------------------------------------------------------------------------------------------------------------------------------------------------------------------------------------------------------------------------------------------------------------------------------------------------------------------------------------------+------------------------------------------------------------------------------------------------------------------------------------------+-------------------------------------------------------------------------------------------------------------------------------------------------------------------------------------------------------------------------------------------------------------------------------------------------------------------------------------------------------------------------------------------------------------------------------------------------------------------------------------------------------------------------------------------------------------------------------------------------------------------------------------------------------------------------------------------------------------------------------------------------------------------------------------------------------------------------------------------------------------------------------------------------------------------------------------+\n",
      "|One97 Communications Limited \\nData Scientist Jan 2019 to Till Date \\nDetect important information from images and redact\\nrequired fields. YOLO CNN Object-detection, OCR\\nInsights, find anomaly or performance drop in all\\npossible sub-space. \\nPredict the Insurance claim probability. Estimate the\\npremium amount to be charged\\nB.Tech(Computer Science) from SGBAU university in\\n2017. \\nM.Tech (Computer Science Engineering) from Indian\\nInstitute of Technology (IIT), Kanpur in 2019\\nWORK EXPERIENCE\\nEDUCATION\\nMACY WILLIAMS\\nDATA SCIENTIST\\nData Scientist working  on problems related to market research and customer analysis. I want to expand my arsenal of\\napplication building and work on different kinds of problems. Looking for a role where I can work with a coordinative team\\nand exchange knowledge during the process.\\nJava, C++, Python, Machine Learning, Algorithms, Natural Language Processing, Deep Learning, Computer Vision, Pattern\\nRecognition, Data Science, Data Analysis, Software Engineer, Data Analyst, C, PySpark, Kubeflow.\\nABOUT\\nSKILLS\\nCustomer browsing patterns.\\nPredict potential RTO(Return To Origin) orders for e-\\ncommerce.\\nObject Detection.\\nPROJECTS\\nACTIVITES\\n|[one97, communications, limited, data, scientist, jan, 2019, till, date, detect, important, information, images, redact, required, fields, yolo, cnn, object, detection, ocr, insights, find, anomaly, performance, drop, possible, sub, space, predict, insurance, claim, probability, estimate, premium, amount, charged, tech, computer, science, sgbau, university, 2017, tech, computer, science, engineering, indian, institute, technology, iit, kanpur, 2019, work, experience, education, macy, williams, data, scientist, data, scientist, working, problems, related, market, research, customer, analysis, want, expand, arsenal, application, building, work, different, kinds, problems, looking, role, work, coordinative, team, exchange, knowledge, process, java, python, machine, learning, algorithms, natural, language, processing, deep, learning, computer, vision, pattern, recognition, data, science, data, analysis, software, engineer, data, analyst, pyspark, kubeflow, skills, customer, browsing, patterns, predict, potential, rto, return, origin, orders, commerce, object, detection, projects, activites]|[one97, communications, limited, data, scientist, jan, 2019, till, date, detect, important, information, images, redact, required, fields, yolo, cnn, object, detection, ocr, insights, find, anomaly, performance, drop, possible, sub, space, predict, insurance, claim, probability, estimate, premium, amount, charged, b, tech, computer, science, sgbau, university, 2017, m, tech, computer, science, engineering, indian, institute, technology, iit, kanpur, 2019, work, experience, education, macy, williams, data, scientist, data, scientist, working, problems, related, market, research, customer, analysis, want, expand, arsenal, application, building, work, different, kinds, problems, looking, role, work, coordinative, team, exchange, knowledge, process, java, c, python, machine, learning, algorithms, natural, language, processing, deep, learning, computer, vision, pattern, recognition, data, science, data, analysis, software, engineer, data, analyst, c, pyspark, kubeflow, skills, customer, browsing, patterns, predict, potential, rto, return, origin, orders, e, commerce, object, detection, projects, activites]|[one97 communications, jan 2019, yolo cnn, sgbau university, 2017, indian institute, 2019, macy williams, arsenal, java, pyspark kubeflow]|(24174,[0,2,3,4,6,8,9,10,15,19,21,30,34,39,45,52,53,64,82,83,88,100,112,127,129,135,137,140,157,172,202,205,215,228,241,244,250,256,301,318,322,338,342,357,465,476,477,528,625,672,714,715,730,735,905,1022,1123,1130,1168,1404,1557,1581,1609,1760,1763,1912,1924,2048,2152,2173,2205,2289,2481,2625,2687,2803,3087,3453,3548,4075,4551,4570,4631,5578,5687,5740,5793,6566,6806,6875,6971,7804,7885,8102,8894,9053,9454,10584,11144,11223,12155,13926,16841,18677,19474,20659,23051],[1.0,3.0,1.0,1.0,1.0,1.0,1.0,1.0,1.0,2.0,1.0,1.0,1.0,3.0,1.0,1.0,1.0,6.0,1.0,1.0,2.0,1.0,1.0,2.0,1.0,1.0,1.0,3.0,1.0,1.0,1.0,2.0,2.0,1.0,1.0,1.0,1.0,1.0,1.0,1.0,1.0,1.0,1.0,1.0,1.0,1.0,1.0,2.0,1.0,1.0,1.0,1.0,1.0,1.0,1.0,1.0,1.0,1.0,2.0,1.0,1.0,1.0,1.0,1.0,1.0,1.0,2.0,1.0,1.0,1.0,1.0,2.0,1.0,1.0,1.0,1.0,1.0,1.0,1.0,3.0,1.0,1.0,1.0,1.0,1.0,2.0,1.0,1.0,1.0,1.0,1.0,1.0,1.0,1.0,1.0,1.0,1.0,1.0,1.0,1.0,1.0,1.0,1.0,1.0,1.0,1.0,1.0])|\n",
      "|KEISUKE YAMAMOTO\\nPROFILE\\nProfessional with 3 months of experience in Web\\nDevelopment and interested in ML.\\nSKILLS\\nWeb Developer, Data Analyst, Web Development,\\nMachine Learning, Python, FrontEnd, HTML,\\nJavascript, PHP, CSS, MySQL, Java, Data\\nStructures, OOP, Algorithms, C.\\nEXPERIENCE\\nSAI Technologies, \\nIntern, Aug 2020 to Till Date \\n \\nWorking at a cybersecurity company as an intern.\\nWorking on different projects which need python,\\ncybersecurity, HTML, CSS, javascript, java, and\\nDocker containers as main skills. \\nEDUCATION\\nB.Tech(Computers) from Shri Guru\\nGobind Singhji College of Engineering\\nand Technology, Nanded in 2019 \\nJ U N I O R  S O F T W A R E  D E V E L O P E R\\nACTIVITIES\\nData Analyst, \\nPython Programming.\\nPROJECTS\\nCharacter Detection using SVM\\nClassification.\\n                                                                                                                                                                                                                                                                                                                                                                                                       |[keisuke, yamamoto, profile, professional, months, experience, web, development, interested, ml, skills, web, developer, data, analyst, web, development, machine, learning, python, frontend, html, javascript, php, css, mysql, java, data, structures, oop, algorithms, experience, sai, technologies, intern, aug, 2020, till, date, working, cybersecurity, company, intern, working, different, projects, need, python, cybersecurity, html, css, javascript, java, docker, containers, main, skills, education, tech, computers, shri, guru, gobind, singhji, college, engineering, technology, nanded, 2019, activities, data, analyst, python, programming, projects, character, detection, using, svm, classification]                                                                                                                                                                                                                                                                                                                                                                                                               |[keisuke, yamamoto, profile, professional, 3, months, experience, web, development, interested, ml, skills, web, developer, data, analyst, web, development, machine, learning, python, frontend, html, javascript, php, css, mysql, java, data, structures, oop, algorithms, c, experience, sai, technologies, intern, aug, 2020, till, date, working, cybersecurity, company, intern, working, different, projects, need, python, cybersecurity, html, css, javascript, java, docker, containers, main, skills, education, b, tech, computers, shri, guru, gobind, singhji, college, engineering, technology, nanded, 2019, j, u, n, o, r, o, f, w, r, e, d, e, v, e, l, o, p, e, r, activities, data, analyst, python, programming, projects, character, detection, using, svm, classification]                                                                                                                                                                                                                                                                                                                                                            |[keisuke yamamoto, months, sai technologies, aug 2020, gobind singhji, 2019]                                                              |(24174,[0,3,4,6,8,16,17,19,25,26,30,34,37,47,52,53,59,64,82,85,87,88,91,93,95,132,135,136,186,197,215,229,256,307,351,357,413,434,437,532,536,589,661,672,730,808,905,951,1067,1159,1168,1215,1251,1467,1620,1874,1902,2152,2175,2289,2507,2521,2875,4323,5660,6975,7191,8901,8941,10454,12495,16820,17032,18576,21122,21582,24121],[2.0,2.0,4.0,1.0,1.0,1.0,3.0,1.0,1.0,1.0,2.0,1.0,1.0,1.0,2.0,1.0,1.0,3.0,1.0,2.0,1.0,1.0,3.0,1.0,1.0,1.0,1.0,1.0,1.0,1.0,1.0,1.0,1.0,1.0,1.0,1.0,1.0,1.0,1.0,3.0,1.0,1.0,2.0,2.0,2.0,1.0,3.0,1.0,2.0,1.0,1.0,1.0,1.0,1.0,2.0,1.0,1.0,1.0,1.0,1.0,1.0,2.0,1.0,1.0,1.0,1.0,1.0,1.0,1.0,2.0,1.0,1.0,1.0,1.0,1.0,1.0,1.0])                                                                                                                                                                                                                                                                           |\n",
      "|Stella Thatcher\\nA S S O C I A T E  M A R K E T  A N A L Y S T\\nExecutive Profile\\nI am a market research specialist with a\\ngrasp of machine learning and looking for\\na deeper dive into the career of being a\\nprofessional machine learning engineer.\\nOther Activities\\nCertified Python Developer\\nProjects\\nStock Market Analyzer.\\nSkills\\nResearch Associate, Business Analyst,\\nBusiness Analytics, Data Mining, Data\\nModeling, Predictive Analysis, Business\\nIntelligence, Machine Learning, Market\\nResearch, Customer Engagement, Risk\\nManagement, Retention, Audience, Python.\\nWork Experience\\nKripa Infotech \\nAssociate Market Research Analyst Intern, Apr 2020 - Sep 2020 \\nWorked with clients to get an overall idea of how a product is\\nperceived by a target audience. Focused on large groups of data both\\nstructured and unstructered for solutions. \\nEducation\\nB.Tech(Mechanical) Bhavleesh Duggar College, Nasik 2020\\n                                                                                                                                                                                                                                                                                     |[stella, thatcher, executive, profile, market, research, specialist, grasp, machine, learning, looking, deeper, dive, career, professional, machine, learning, engineer, activities, certified, python, developer, projects, stock, market, analyzer, skills, research, associate, business, analyst, business, analytics, data, mining, data, modeling, predictive, analysis, business, intelligence, machine, learning, market, research, customer, engagement, risk, management, retention, audience, python, work, experience, kripa, infotech, associate, market, research, analyst, intern, apr, 2020, sep, 2020, worked, clients, get, overall, idea, product, perceived, target, audience, focused, large, groups, data, structured, unstructered, solutions, education, tech, mechanical, bhavleesh, duggar, college, nasik, 2020]                                                                                                                                                                                                                                                                                                    |[stella, thatcher, o, c, e, m, r, k, e, n, l, y, executive, profile, market, research, specialist, grasp, machine, learning, looking, deeper, dive, career, professional, machine, learning, engineer, activities, certified, python, developer, projects, stock, market, analyzer, skills, research, associate, business, analyst, business, analytics, data, mining, data, modeling, predictive, analysis, business, intelligence, machine, learning, market, research, customer, engagement, risk, management, retention, audience, python, work, experience, kripa, infotech, associate, market, research, analyst, intern, apr, 2020, sep, 2020, worked, clients, get, overall, idea, product, perceived, target, audience, focused, large, groups, data, structured, unstructered, solutions, education, b, tech, mechanical, bhavleesh, duggar, college, nasik, 2020]                                                                                                                                                                                                                                                                                  |[stella thatcher, kripa infotech, apr 2020 sep 2020, mechanical bhavleesh duggar college, 2020]                                           |(24174,[0,2,3,4,8,13,15,16,17,19,21,27,37,52,53,54,64,71,88,91,93,95,119,127,132,136,147,202,205,208,215,256,291,296,301,369,476,591,606,607,727,730,746,749,808,873,904,905,958,1062,1067,1113,1331,1406,1520,1699,1702,1821,1902,2193,2351,2536,2743,3885,4301,4388,4552,5069,5382,7881,11089,13536,16087,17515,18483,20459,21951,22625,22657],[1.0,1.0,1.0,2.0,1.0,1.0,1.0,1.0,1.0,1.0,1.0,1.0,1.0,1.0,1.0,1.0,3.0,1.0,1.0,1.0,1.0,1.0,3.0,1.0,1.0,1.0,1.0,4.0,1.0,1.0,3.0,3.0,1.0,1.0,1.0,1.0,4.0,1.0,1.0,1.0,1.0,2.0,1.0,1.0,1.0,1.0,1.0,2.0,1.0,1.0,1.0,2.0,1.0,1.0,1.0,1.0,1.0,1.0,3.0,1.0,1.0,1.0,1.0,1.0,1.0,1.0,1.0,1.0,1.0,2.0,1.0,1.0,1.0,1.0,1.0,1.0,1.0,1.0,1.0])                                                                                                                                                                                                                                                      |\n",
      "|P R O F I L E\\nSoftware developer with a niche towards end to end machine learning projects.\\nMotivated towards learning, solving and producing better results. \\nKLN SOLUTIONS \\nJUNIOR DATA EVANGELIST, JULY 2019 - TILL DATE\\nBuilding applications and exploring data and its use over different\\nmanagement solutions.\\nNOLAN DRUCKS\\nS K I L L S\\nData Manipulation, Data Mining,\\nPython, SQL, R Programming,\\nPowerBI, Tableau, Machine\\nLearning, PySpark, Azure\\nDatabricks, AWS.\\nE X P E R I E N C E\\nE D U C A T I O N\\nB.TECH(INSTRUMENTATION), BABURAO PATIL COLLEGE AND\\nUNIVERSITY, AURANGABAD, 2019.\\nD A T A  D E S I G N E R\\nP R O J E C T S\\nLeveraged NLTK, Spacy, Fast text\\nlibraries to perform all kinds of\\nNLP operations including but not\\nlimited to cleaning, stemming,\\nlemmatization, word encoding,\\netc.\\nA C T I V I T I E S  A N D  A W A R D S\\nINTRODUCTION TO DATA ONTOLOGY.\\nJB MANAGEMENT \\nSOFTWARE DEVELOPER INTERN, JAN 2019 - JUN 2019\\nDevelopment of a python module to assist OCR models.\\n                                                                                                                                                                                                 |[software, developer, niche, towards, end, end, machine, learning, projects, motivated, towards, learning, solving, producing, better, results, kln, solutions, junior, data, evangelist, july, 2019, till, date, building, applications, exploring, data, use, different, management, solutions, nolan, drucks, data, manipulation, data, mining, python, sql, programming, powerbi, tableau, machine, learning, pyspark, azure, databricks, aws, tech, instrumentation, baburao, patil, college, university, aurangabad, 2019, leveraged, nltk, spacy, fast, text, libraries, perform, kinds, nlp, operations, including, limited, cleaning, stemming, lemmatization, word, encoding, etc, introduction, data, ontology, jb, management, software, developer, intern, jan, 2019, jun, 2019, development, python, module, assist, ocr, models]                                                                                                                                                                                                                                                                                                |[p, r, o, f, l, e, software, developer, niche, towards, end, end, machine, learning, projects, motivated, towards, learning, solving, producing, better, results, kln, solutions, junior, data, evangelist, july, 2019, till, date, building, applications, exploring, data, use, different, management, solutions, nolan, drucks, k, l, l, data, manipulation, data, mining, python, sql, r, programming, powerbi, tableau, machine, learning, pyspark, azure, databricks, aws, e, x, p, e, r, e, n, c, e, e, d, u, c, o, n, b, tech, instrumentation, baburao, patil, college, university, aurangabad, 2019, d, d, e, g, n, e, r, p, r, o, j, e, c, leveraged, nltk, spacy, fast, text, libraries, perform, kinds, nlp, operations, including, limited, cleaning, stemming, lemmatization, word, encoding, etc, c, v, e, n, d, w, r, d, introduction, data, ontology, jb, management, software, developer, intern, jan, 2019, jun, 2019, development, python, module, assist, ocr, models]                                                                                                                                                                  |[kln, july 2019, nolan drucks, baburao patil college university, aurangabad, 2019, nltk spacy, jan 2019 jun 2019]                         |(24174,[4,8,9,13,17,19,25,34,37,52,59,64,83,85,87,88,91,93,112,123,132,135,141,147,156,197,215,226,241,256,307,318,327,328,343,344,351,357,369,413,421,456,500,557,589,610,711,717,765,808,820,905,945,1008,1040,1067,1168,1271,1291,1426,1436,1699,2390,2803,3033,3197,3320,3882,4088,5195,5217,5578,5835,6106,7506,7885,8133,8166,8765,9385,10486,10737,10943,11588,11848,12365,13319,17390,17645,20282,20456,22145,23933,24152],[10.0,1.0,1.0,2.0,3.0,4.0,3.0,1.0,1.0,1.0,1.0,5.0,2.0,1.0,5.0,1.0,6.0,3.0,1.0,1.0,4.0,1.0,1.0,1.0,1.0,1.0,3.0,1.0,1.0,2.0,1.0,1.0,1.0,1.0,1.0,2.0,1.0,1.0,2.0,1.0,1.0,1.0,1.0,2.0,1.0,1.0,1.0,1.0,1.0,2.0,1.0,2.0,1.0,1.0,1.0,1.0,4.0,1.0,1.0,1.0,1.0,1.0,1.0,1.0,1.0,1.0,1.0,1.0,1.0,1.0,1.0,1.0,1.0,1.0,1.0,1.0,1.0,1.0,1.0,1.0,1.0,1.0,1.0,1.0,1.0,1.0,1.0,1.0,1.0,1.0,1.0,1.0,1.0,1.0])                                                                                                       |\n",
      "|KELSEY STENS\\nS O F T W A R E  D E V E L O P E R ( M A C H I N E  L E A R N I N G )\\nSKILLS\\nSoftware Engineer, Data Analyst,\\nMachine Learning, Text Analytics,\\nSoftware Development, Object\\nOriented Programming, Pandas,\\nNumpy, Java, Python, SpringBoot,\\nLaravel.\\nEDUCATION\\nB.Tech (ECE) Dr. Jagjiban Rao Engineering College, 2019\\nPERSONAL PROFILE\\nSoftware developer focused in the areas of\\nMachine learning application development.\\nMotivated to learn, grow and excel my\\nexperience by challenging myself.\\nWORK BACKGROUND\\nKLP Technology Solutions \\nSoftware Engineer, Jan 2019 - till date \\nBuilt predictive and decision models using machine learning\\nalgorithms for various business study cases with feature\\nengineering and evaluation methods.\\nOTHER ACTIVITIES\\nOnDevice Machine Learning \\nUI/UX development\\nPROJECTS\\nBuilt predictive and decision models\\nusing machine learning algorithms.\\nDeveloped and integrated the UI\\ncomponents with HMI framework for\\nHead Up Display.\\n                                                                                                                                                                                                                |[kelsey, stens, skills, software, engineer, data, analyst, machine, learning, text, analytics, software, development, object, oriented, programming, pandas, numpy, java, python, springboot, laravel, education, tech, ece, dr, jagjiban, rao, engineering, college, 2019, personal, profile, software, developer, focused, areas, machine, learning, application, development, motivated, learn, grow, excel, experience, challenging, work, background, klp, technology, solutions, software, engineer, jan, 2019, till, date, built, predictive, decision, models, using, machine, learning, algorithms, various, business, study, cases, feature, engineering, evaluation, methods, activities, ondevice, machine, learning, ui, ux, development, projects, built, predictive, decision, models, using, machine, learning, algorithms, developed, integrated, ui, components, hmi, framework, head, display]                                                                                                                                                                                                                              |[kelsey, stens, o, f, w, r, e, d, e, v, e, l, o, p, e, r, m, c, h, n, e, l, e, r, n, n, g, skills, software, engineer, data, analyst, machine, learning, text, analytics, software, development, object, oriented, programming, pandas, numpy, java, python, springboot, laravel, education, b, tech, ece, dr, jagjiban, rao, engineering, college, 2019, personal, profile, software, developer, focused, areas, machine, learning, application, development, motivated, learn, grow, excel, experience, challenging, work, background, klp, technology, solutions, software, engineer, jan, 2019, till, date, built, predictive, decision, models, using, machine, learning, algorithms, various, business, study, cases, feature, engineering, evaluation, methods, activities, ondevice, machine, learning, ui, ux, development, projects, built, predictive, decision, models, using, machine, learning, algorithms, developed, integrated, ui, components, hmi, framework, head, display]                                                                                                                                                               |[kelsey stens, pandas, numpy, springboot, ece dr, engineering college, 2019, jan 2019]                                                    |(24174,[0,2,3,4,6,8,15,17,19,21,25,34,37,52,53,58,64,76,82,83,85,86,87,88,91,93,95,119,132,135,136,141,186,189,197,199,215,228,256,260,318,321,345,351,367,369,413,421,451,520,577,589,657,672,730,743,808,818,905,985,1014,1040,1086,1168,1196,1273,1331,1702,1821,1924,1962,2144,2152,3003,3033,3081,3644,3859,3919,4366,5784,6023,7308,8886,14624,17988,18439,21886,22507,22841],[1.0,1.0,1.0,6.0,2.0,1.0,2.0,2.0,1.0,1.0,1.0,1.0,1.0,1.0,1.0,1.0,1.0,1.0,1.0,4.0,3.0,1.0,1.0,1.0,3.0,2.0,1.0,1.0,3.0,1.0,1.0,1.0,2.0,1.0,1.0,1.0,5.0,1.0,5.0,1.0,1.0,1.0,1.0,1.0,1.0,1.0,1.0,1.0,1.0,1.0,1.0,1.0,1.0,1.0,1.0,1.0,1.0,1.0,1.0,1.0,1.0,2.0,2.0,2.0,1.0,2.0,1.0,1.0,2.0,1.0,1.0,1.0,2.0,1.0,1.0,1.0,1.0,1.0,1.0,1.0,1.0,2.0,1.0,1.0,1.0,1.0,1.0,1.0,1.0,1.0])                                                                                                                                                                       |\n",
      "+-----------------------------------------------------------------------------------------------------------------------------------------------------------------------------------------------------------------------------------------------------------------------------------------------------------------------------------------------------------------------------------------------------------------------------------------------------------------------------------------------------------------------------------------------------------------------------------------------------------------------------------------------------------------------------------------------------------------------------------------------------------------------------------------------------------------------------------------------------------------------------------------------------------------------------------------------------------------------------------------------------------------------------------------------------------------------------------------------------------------------------------------------------------------------------------------------------------------------------------------------+-----------------------------------------------------------------------------------------------------------------------------------------------------------------------------------------------------------------------------------------------------------------------------------------------------------------------------------------------------------------------------------------------------------------------------------------------------------------------------------------------------------------------------------------------------------------------------------------------------------------------------------------------------------------------------------------------------------------------------------------------------------------------------------------------------------------------------------------------------------------------------------------------------------------------------------------------------------------------------------------------------------------------------------------------------------------------------------------------------------------------------------------------+--------------------------------------------------------------------------------------------------------------------------------------------------------------------------------------------------------------------------------------------------------------------------------------------------------------------------------------------------------------------------------------------------------------------------------------------------------------------------------------------------------------------------------------------------------------------------------------------------------------------------------------------------------------------------------------------------------------------------------------------------------------------------------------------------------------------------------------------------------------------------------------------------------------------------------------------------------------------------------------------------------------------------------------------------------------------------------------------------------------------------------------------------------------+------------------------------------------------------------------------------------------------------------------------------------------+-------------------------------------------------------------------------------------------------------------------------------------------------------------------------------------------------------------------------------------------------------------------------------------------------------------------------------------------------------------------------------------------------------------------------------------------------------------------------------------------------------------------------------------------------------------------------------------------------------------------------------------------------------------------------------------------------------------------------------------------------------------------------------------------------------------------------------------------------------------------------------------------------------------------------------------+\n",
      "\n"
     ]
    }
   ],
   "execution_count": 14
  },
  {
   "metadata": {},
   "cell_type": "markdown",
   "source": "## Tokens Frequency",
   "id": "712cae4daab99a4b"
  },
  {
   "metadata": {
    "ExecuteTime": {
     "end_time": "2025-05-08T22:29:13.140593Z",
     "start_time": "2025-05-08T22:29:13.126587Z"
    }
   },
   "cell_type": "code",
   "source": "pipe.stages",
   "id": "d0c23be7f2ed8352",
   "outputs": [
    {
     "data": {
      "text/plain": [
       "[RegexTokenizer_277b5410c63b,\n",
       " StopWordsRemover_4d789a236fb2,\n",
       " TokenFilterChar_64f02b93eaf5,\n",
       " NerTransformer_e15cbe97de09,\n",
       " CountVectorizerModel: uid=CountVectorizer_3110571913f0, vocabularySize=24174]"
      ]
     },
     "execution_count": 15,
     "metadata": {},
     "output_type": "execute_result"
    }
   ],
   "execution_count": 15
  },
  {
   "metadata": {
    "ExecuteTime": {
     "end_time": "2025-05-08T22:29:13.284108Z",
     "start_time": "2025-05-08T22:29:13.205097Z"
    }
   },
   "cell_type": "code",
   "source": [
    "count_vec_model = pipe.stages[4]\n",
    "vocab = count_vec_model.vocabulary"
   ],
   "id": "6cfc91afc8569791",
   "outputs": [],
   "execution_count": 16
  },
  {
   "metadata": {
    "ExecuteTime": {
     "end_time": "2025-05-08T22:29:13.958972Z",
     "start_time": "2025-05-08T22:29:13.301615Z"
    }
   },
   "cell_type": "code",
   "source": [
    "features = resumes_data.select(\"features_count\").toPandas()[\"features_count\"]\n",
    "features_array = np.array([vec.toArray() for vec in features])\n",
    "\n",
    "# Soma as frequências por coluna\n",
    "freq_total = np.sum(features_array, axis=0)"
   ],
   "id": "57673dfd9eda7bfa",
   "outputs": [],
   "execution_count": 17
  },
  {
   "metadata": {
    "ExecuteTime": {
     "end_time": "2025-05-08T22:29:13.989311Z",
     "start_time": "2025-05-08T22:29:13.975293Z"
    }
   },
   "cell_type": "code",
   "source": [
    "import pandas as pd\n",
    "\n",
    "freq_df = pd.DataFrame({\n",
    "    \"token\": vocab,\n",
    "    \"frequency\": freq_total\n",
    "}).sort_values(by=\"frequency\", ascending=False)"
   ],
   "id": "829f9188cc45b845",
   "outputs": [],
   "execution_count": 18
  },
  {
   "metadata": {
    "ExecuteTime": {
     "end_time": "2025-05-08T22:29:14.020427Z",
     "start_time": "2025-05-08T22:29:14.005428Z"
    }
   },
   "cell_type": "code",
   "source": "freq_df.head()",
   "id": "7a453d942b657a9d",
   "outputs": [
    {
     "data": {
      "text/plain": [
       "        token  frequency\n",
       "0  experience     1186.0\n",
       "1         com     1114.0\n",
       "2        work     1041.0\n",
       "3      skills      856.0\n",
       "4           e      827.0"
      ],
      "text/html": [
       "<div>\n",
       "<style scoped>\n",
       "    .dataframe tbody tr th:only-of-type {\n",
       "        vertical-align: middle;\n",
       "    }\n",
       "\n",
       "    .dataframe tbody tr th {\n",
       "        vertical-align: top;\n",
       "    }\n",
       "\n",
       "    .dataframe thead th {\n",
       "        text-align: right;\n",
       "    }\n",
       "</style>\n",
       "<table border=\"1\" class=\"dataframe\">\n",
       "  <thead>\n",
       "    <tr style=\"text-align: right;\">\n",
       "      <th></th>\n",
       "      <th>token</th>\n",
       "      <th>frequency</th>\n",
       "    </tr>\n",
       "  </thead>\n",
       "  <tbody>\n",
       "    <tr>\n",
       "      <th>0</th>\n",
       "      <td>experience</td>\n",
       "      <td>1186.0</td>\n",
       "    </tr>\n",
       "    <tr>\n",
       "      <th>1</th>\n",
       "      <td>com</td>\n",
       "      <td>1114.0</td>\n",
       "    </tr>\n",
       "    <tr>\n",
       "      <th>2</th>\n",
       "      <td>work</td>\n",
       "      <td>1041.0</td>\n",
       "    </tr>\n",
       "    <tr>\n",
       "      <th>3</th>\n",
       "      <td>skills</td>\n",
       "      <td>856.0</td>\n",
       "    </tr>\n",
       "    <tr>\n",
       "      <th>4</th>\n",
       "      <td>e</td>\n",
       "      <td>827.0</td>\n",
       "    </tr>\n",
       "  </tbody>\n",
       "</table>\n",
       "</div>"
      ]
     },
     "execution_count": 19,
     "metadata": {},
     "output_type": "execute_result"
    }
   ],
   "execution_count": 19
  },
  {
   "metadata": {
    "ExecuteTime": {
     "end_time": "2025-05-08T22:29:15.118868Z",
     "start_time": "2025-05-08T22:29:14.123233Z"
    }
   },
   "cell_type": "code",
   "source": [
    "import matplotlib.pyplot as plt\n",
    "top_k = 80\n",
    "freq_df.iloc[:top_k].plot(kind=\"bar\", x=\"token\", y=\"frequency\", figsize=(16, 8))\n",
    "plt.xticks(rotation=90)\n",
    "plt.title(f\"Top {top_k} Tokens Frequency\")\n",
    "plt.show()"
   ],
   "id": "a7551d5178e6193f",
   "outputs": [
    {
     "data": {
      "text/plain": [
       "<Figure size 1600x800 with 1 Axes>"
      ],
      "image/png": "[encoded data removed]"
     },
     "metadata": {},
     "output_type": "display_data"
    }
   ],
   "execution_count": 20
  },
  {
   "metadata": {},
   "cell_type": "markdown",
   "source": "## Mean and Median Tokens By Document",
   "id": "a2c07dcec7d6859f"
  },
  {
   "metadata": {
    "ExecuteTime": {
     "end_time": "2025-05-08T22:29:15.181651Z",
     "start_time": "2025-05-08T22:29:15.151640Z"
    }
   },
   "cell_type": "code",
   "source": [
    "freq_total_rows = np.sum(features_array, axis=1)\n",
    "print(f'Mean of tokens by Document: {freq_total_rows.mean():.0f}')"
   ],
   "id": "9c89482ff64abdc1",
   "outputs": [
    {
     "name": "stdout",
     "output_type": "stream",
     "text": [
      "Mean of tokens by Document: 170\n"
     ]
    }
   ],
   "execution_count": 21
  },
  {
   "metadata": {
    "ExecuteTime": {
     "end_time": "2025-05-08T22:29:15.322664Z",
     "start_time": "2025-05-08T22:29:15.288157Z"
    }
   },
   "cell_type": "code",
   "source": [
    "freq_total_rows = np.sum(features_array, axis=1)\n",
    "print(f'Median of tokens by Document: {np.median(freq_total_rows):.0f}')"
   ],
   "id": "5206a4a07eee9272",
   "outputs": [
    {
     "name": "stdout",
     "output_type": "stream",
     "text": [
      "Median of tokens by Document: 157\n"
     ]
    }
   ],
   "execution_count": 22
  },
  {
   "metadata": {
    "ExecuteTime": {
     "end_time": "2025-05-08T22:29:22.535252Z",
     "start_time": "2025-05-08T22:29:15.483203Z"
    }
   },
   "cell_type": "code",
   "source": "resumes_data.select('words_ner').limit(5).show(truncate=False)",
   "id": "7a5d47f8c4100f68",
   "outputs": [
    {
     "name": "stdout",
     "output_type": "stream",
     "text": [
      "+------------------------------------------------------------------------------------------------------------------------------------------+\n",
      "|words_ner                                                                                                                                 |\n",
      "+------------------------------------------------------------------------------------------------------------------------------------------+\n",
      "|[one97 communications, jan 2019, yolo cnn, sgbau university, 2017, indian institute, 2019, macy williams, arsenal, java, pyspark kubeflow]|\n",
      "|[keisuke yamamoto, months, sai technologies, aug 2020, gobind singhji, 2019]                                                              |\n",
      "|[stella thatcher, kripa infotech, apr 2020 sep 2020, mechanical bhavleesh duggar college, 2020]                                           |\n",
      "|[kln, july 2019, nolan drucks, baburao patil college university, aurangabad, 2019, nltk spacy, jan 2019 jun 2019]                         |\n",
      "|[kelsey stens, pandas, numpy, springboot, ece dr, engineering college, 2019, jan 2019]                                                    |\n",
      "+------------------------------------------------------------------------------------------------------------------------------------------+\n",
      "\n"
     ]
    }
   ],
   "execution_count": 23
  },
  {
   "metadata": {},
   "cell_type": "markdown",
   "source": "## Applying Transformations to Jobs Description",
   "id": "3a5f4c6d8abe2a63"
  },
  {
   "metadata": {
    "ExecuteTime": {
     "end_time": "2025-05-08T22:29:22.643781Z",
     "start_time": "2025-05-08T22:29:22.629782Z"
    }
   },
   "cell_type": "code",
   "source": [
    "job_descriptions = [\n",
    "    {\n",
    "        \"title\": \"Backend Developer (Python/Django)\",\n",
    "        \"location\": \"Remote\",\n",
    "        \"description\": (\n",
    "            \"We are seeking a highly skilled Python Developer with strong experience in Django and RESTful APIs. \"\n",
    "            \"The ideal candidate has a deep understanding of relational databases (PostgreSQL), unit testing, and CI/CD pipelines. \"\n",
    "            \"You will also be responsible for system architecture decisions and optimizing performance of data-intensive applications. \"\n",
    "            \"Required skills: Python, Django, Django REST Framework, PostgreSQL, Redis, Celery, PyTest, Docker, Git, \"\n",
    "            \"GitHub Actions or Jenkins, AWS (EC2, S3, Lambda), Linux CLI, Swagger/OpenAPI.\"\n",
    "        )\n",
    "    },\n",
    "    {\n",
    "        \"title\": \"Frontend Developer (React/TypeScript)\",\n",
    "        \"location\": \"San Francisco, CA (Hybrid)\",\n",
    "        \"description\": (\n",
    "            \"We are looking for a Frontend Engineer to build scalable and accessible web applications using React, Redux, and TypeScript. \"\n",
    "            \"You'll collaborate with designers and backend engineers to deliver polished, user-centered products and reusable components. \"\n",
    "            \"Required skills: React, Redux, TypeScript, Styled Components, Tailwind CSS, RESTful APIs, GraphQL, Jest, \"\n",
    "            \"React Testing Library, Webpack, Vite, Accessibility standards (WCAG), Responsive design.\"\n",
    "        )\n",
    "    },\n",
    "    {\n",
    "        \"title\": \"DevOps Engineer\",\n",
    "        \"location\": \"Berlin, Germany (Remote possible)\",\n",
    "        \"description\": (\n",
    "            \"Join our infrastructure team to automate and scale our cloud-native platform. \"\n",
    "            \"You'll build and maintain CI/CD pipelines, manage Kubernetes clusters, and enforce security best practices. \"\n",
    "            \"Required skills: Docker, Kubernetes, Helm, Terraform, Ansible, AWS (EKS, IAM, CloudWatch), GCP, Bash, Python or Go, \"\n",
    "            \"ArgoCD or Flux, Prometheus, Grafana, monitoring and logging systems.\"\n",
    "        )\n",
    "    },\n",
    "    {\n",
    "        \"title\": \"Full Stack Developer (Node.js + Vue.js)\",\n",
    "        \"location\": \"Toronto, ON (Remote)\",\n",
    "        \"description\": (\n",
    "            \"We’re hiring a Full Stack Developer to help build features end-to-end across our digital product. \"\n",
    "            \"Backend logic with Node.js and Express, frontend components in Vue.js. \"\n",
    "            \"Required skills: Node.js, Express.js, Vue.js 3, Vuex, Composition API, MongoDB, PostgreSQL, RESTful API design, \"\n",
    "            \"Swagger/OpenAPI, WebSockets, JWT, OAuth2, Jest, Cypress, Docker.\"\n",
    "        )\n",
    "    },\n",
    "    {\n",
    "        \"title\": \"Data Scientist\",\n",
    "        \"location\": \"New York, NY\",\n",
    "        \"description\": (\n",
    "            \"Join our analytics team to extract insights from customer data, build machine learning models, and support data-driven decisions. \"\n",
    "            \"You'll work with big data and real-time analytics systems. \"\n",
    "            \"Required skills: Python (Pandas, NumPy, scikit-learn), SQL, BigQuery, Data visualization (Tableau, Matplotlib, Seaborn), \"\n",
    "            \"A/B testing, Jupyter, Airflow, dbt, MLflow, Git.\"\n",
    "        )\n",
    "    },\n",
    "    {\n",
    "        \"title\": \"Cloud Solutions Architect (AWS)\",\n",
    "        \"location\": \"London, UK\",\n",
    "        \"description\": (\n",
    "            \"Design secure and scalable cloud architectures for enterprise-grade applications. \"\n",
    "            \"Work closely with development teams and support cloud migrations. \"\n",
    "            \"Required skills: AWS (EC2, S3, VPC, RDS, IAM, Lambda), Terraform, CloudFormation, Kubernetes, Docker, \"\n",
    "            \"Cloud security best practices (CIS, ISO 27001), CI/CD automation, cost optimization, governance policies.\"\n",
    "        )\n",
    "    },\n",
    "    {\n",
    "        \"title\": \"Cybersecurity Analyst\",\n",
    "        \"location\": \"Remote (US only)\",\n",
    "        \"description\": (\n",
    "            \"Monitor network activity for threats, conduct vulnerability scans, and respond to incidents. \"\n",
    "            \"Assist in policy creation and ensure compliance with industry standards. \"\n",
    "            \"Required skills: SIEM tools (Splunk, QRadar, ELK), TCP/IP, HTTP, DNS, threat modeling, penetration testing, \"\n",
    "            \"Nessus, Qualys, firewalls, antivirus, knowledge of SOC 2, HIPAA, or NIST frameworks.\"\n",
    "        )\n",
    "    },\n",
    "    {\n",
    "        \"title\": \"Machine Learning Engineer\",\n",
    "        \"location\": \"Remote\",\n",
    "        \"description\": (\n",
    "            \"Design and deploy ML models in production systems. \"\n",
    "            \"Collaborate with data engineers and product teams for end-to-end implementation. \"\n",
    "            \"Required skills: Python, PyTorch, TensorFlow, HuggingFace, MLflow, SageMaker, Kubeflow, Apache Kafka, Airflow, \"\n",
    "            \"ROC/AUC, Optuna, Hyperopt, Docker, Kubernetes.\"\n",
    "        )\n",
    "    },\n",
    "    {\n",
    "        \"title\": \"Mobile Developer (Flutter)\",\n",
    "        \"location\": \"São Paulo, Brazil (Hybrid)\",\n",
    "        \"description\": (\n",
    "            \"We are looking for a Mobile Developer to build modern cross-platform applications using Flutter. \"\n",
    "            \"You'll participate in full app lifecycle from prototype to deployment. \"\n",
    "            \"Required skills: Dart, Flutter SDK, Firebase (Auth, Firestore, Crashlytics), RESTful APIs, GraphQL, Fastlane, Codemagic, \"\n",
    "            \"Android/iOS deployment, BLoC pattern, Clean architecture.\"\n",
    "        )\n",
    "    },\n",
    "    {\n",
    "        \"title\": \"QA Automation Engineer\",\n",
    "        \"location\": \"Austin, TX\",\n",
    "        \"description\": (\n",
    "            \"Develop and maintain end-to-end automated test suites. \"\n",
    "            \"Collaborate with developers to define test strategies and ensure software quality across web and API layers. \"\n",
    "            \"Required skills: Selenium, Cypress, Playwright, Postman, RestAssured, Python or Java, Jenkins, GitLab CI/CD, \"\n",
    "            \"Test case management, Jira, JMeter or k6.\"\n",
    "        )\n",
    "    }\n",
    "]\n"
   ],
   "id": "e871b08093197ee5",
   "outputs": [],
   "execution_count": 24
  },
  {
   "metadata": {
    "ExecuteTime": {
     "end_time": "2025-05-08T22:29:22.689642Z",
     "start_time": "2025-05-08T22:29:22.655644Z"
    }
   },
   "cell_type": "code",
   "source": "jobs_df = spark.createDataFrame(job_descriptions, ['description', 'location', 'title'])",
   "id": "29d170f9fb02eaa6",
   "outputs": [],
   "execution_count": 25
  },
  {
   "metadata": {
    "ExecuteTime": {
     "end_time": "2025-05-08T22:29:28.085243Z",
     "start_time": "2025-05-08T22:29:22.707648Z"
    }
   },
   "cell_type": "code",
   "source": [
    "from pyspark.sql.functions import concat_ws\n",
    "jobs_df = jobs_df.withColumn('document', concat_ws(\" \", col('title'), col('description'), col('location')))\n",
    "jobs_df.limit(5).show()"
   ],
   "id": "36cdc81ce554b4a4",
   "outputs": [
    {
     "name": "stdout",
     "output_type": "stream",
     "text": [
      "+--------------------+--------------------+--------------------+--------------------+\n",
      "|         description|            location|               title|            document|\n",
      "+--------------------+--------------------+--------------------+--------------------+\n",
      "|We are seeking a ...|              Remote|Backend Developer...|Backend Developer...|\n",
      "|We are looking fo...|San Francisco, CA...|Frontend Develope...|Frontend Develope...|\n",
      "|Join our infrastr...|Berlin, Germany (...|     DevOps Engineer|DevOps Engineer J...|\n",
      "|We’re hiring a Fu...|Toronto, ON (Remote)|Full Stack Develo...|Full Stack Develo...|\n",
      "|Join our analytic...|        New York, NY|      Data Scientist|Data Scientist Jo...|\n",
      "+--------------------+--------------------+--------------------+--------------------+\n",
      "\n"
     ]
    }
   ],
   "execution_count": 26
  },
  {
   "metadata": {
    "ExecuteTime": {
     "end_time": "2025-05-08T22:29:28.211051Z",
     "start_time": "2025-05-08T22:29:28.150045Z"
    }
   },
   "cell_type": "code",
   "source": [
    "from pyspark.ml import Pipeline\n",
    "from pyspark.ml.feature import RegexTokenizer, StopWordsRemover, CountVectorizer\n",
    "\n",
    "tokenizer  = RegexTokenizer(inputCol=\"document\", outputCol=\"words_job\", pattern=\"[\\\\s+|\\\\W]\")\n",
    "remover = StopWordsRemover(inputCol=\"words_job\", outputCol=\"words_clean\")\n",
    "token_filter_char = TokenFilterChar(inputCol=\"words_clean\", outputCol=\"words_job\")\n",
    "ner_transformer = NerTransformer(inputCol=\"words_job\", outputCol=\"words_ner\")\n",
    "vectorizer = CountVectorizer(inputCol=remover.getOutputCol(), outputCol=\"features_count\")\n",
    "\n",
    "pipeline = Pipeline(stages=[tokenizer, remover, token_filter_char, ner_transformer, vectorizer])"
   ],
   "id": "db87b18a91106074",
   "outputs": [],
   "execution_count": 27
  },
  {
   "metadata": {
    "ExecuteTime": {
     "end_time": "2025-05-08T22:29:45.726071Z",
     "start_time": "2025-05-08T22:29:28.231566Z"
    }
   },
   "cell_type": "code",
   "source": [
    "jobs_df.cache()\n",
    "pipe = pipeline.fit(jobs_df)\n",
    "jobs_df = pipe.transform(jobs_df)"
   ],
   "id": "50ee91468e5b17a9",
   "outputs": [],
   "execution_count": 28
  },
  {
   "metadata": {
    "ExecuteTime": {
     "end_time": "2025-05-08T22:30:28.254663Z",
     "start_time": "2025-05-08T22:29:45.742425Z"
    }
   },
   "cell_type": "code",
   "source": "jobs_df.limit(5).show(truncate=False)",
   "id": "d411fbaf37e103f2",
   "outputs": [
    {
     "name": "stdout",
     "output_type": "stream",
     "text": [
      "+-----------------------------------------------------------------------------------------------------------------------------------------------------------------------------------------------------------------------------------------------------------------------------------------------------------------------------------------------------------------------------------------------------------------------------------------------------------------------------------------------------------------------------------------+---------------------------------+---------------------------------------+----------------------------------------------------------------------------------------------------------------------------------------------------------------------------------------------------------------------------------------------------------------------------------------------------------------------------------------------------------------------------------------------------------------------------------------------------------------------------------------------------------------------------------------------------------------------------------+-----------------------------------------------------------------------------------------------------------------------------------------------------------------------------------------------------------------------------------------------------------------------------------------------------------------------------------------------------------------------------------------------------------------------------------------------------------------------------------------------------------------------------------------------------+-----------------------------------------------------------------------------------------------------------------------------------------------------------------------------------------------------------------------------------------------------------------------------------------------------------------------------------------------------------------------------------------------------------------------------------------------------------------------------------------------------------------------------------------------------+-----------------------------------------------------------------------------------------------------+-----------------------------------------------------------------------------------------------------------------------------------------------------------------------------------------------------------------------------------------------------------------------------------------------------------------------------------------------------------------------------------------------------------------------+\n",
      "|description                                                                                                                                                                                                                                                                                                                                                                                                                                                                                                                              |location                         |title                                  |document                                                                                                                                                                                                                                                                                                                                                                                                                                                                                                                                                                          |words_job                                                                                                                                                                                                                                                                                                                                                                                                                                                                                                                                            |words_clean                                                                                                                                                                                                                                                                                                                                                                                                                                                                                                                                          |words_ner                                                                                            |features_count                                                                                                                                                                                                                                                                                                                                                                                                         |\n",
      "+-----------------------------------------------------------------------------------------------------------------------------------------------------------------------------------------------------------------------------------------------------------------------------------------------------------------------------------------------------------------------------------------------------------------------------------------------------------------------------------------------------------------------------------------+---------------------------------+---------------------------------------+----------------------------------------------------------------------------------------------------------------------------------------------------------------------------------------------------------------------------------------------------------------------------------------------------------------------------------------------------------------------------------------------------------------------------------------------------------------------------------------------------------------------------------------------------------------------------------+-----------------------------------------------------------------------------------------------------------------------------------------------------------------------------------------------------------------------------------------------------------------------------------------------------------------------------------------------------------------------------------------------------------------------------------------------------------------------------------------------------------------------------------------------------+-----------------------------------------------------------------------------------------------------------------------------------------------------------------------------------------------------------------------------------------------------------------------------------------------------------------------------------------------------------------------------------------------------------------------------------------------------------------------------------------------------------------------------------------------------+-----------------------------------------------------------------------------------------------------+-----------------------------------------------------------------------------------------------------------------------------------------------------------------------------------------------------------------------------------------------------------------------------------------------------------------------------------------------------------------------------------------------------------------------+\n",
      "|We are seeking a highly skilled Python Developer with strong experience in Django and RESTful APIs. The ideal candidate has a deep understanding of relational databases (PostgreSQL), unit testing, and CI/CD pipelines. You will also be responsible for system architecture decisions and optimizing performance of data-intensive applications. Required skills: Python, Django, Django REST Framework, PostgreSQL, Redis, Celery, PyTest, Docker, Git, GitHub Actions or Jenkins, AWS (EC2, S3, Lambda), Linux CLI, Swagger/OpenAPI.|Remote                           |Backend Developer (Python/Django)      |Backend Developer (Python/Django) We are seeking a highly skilled Python Developer with strong experience in Django and RESTful APIs. The ideal candidate has a deep understanding of relational databases (PostgreSQL), unit testing, and CI/CD pipelines. You will also be responsible for system architecture decisions and optimizing performance of data-intensive applications. Required skills: Python, Django, Django REST Framework, PostgreSQL, Redis, Celery, PyTest, Docker, Git, GitHub Actions or Jenkins, AWS (EC2, S3, Lambda), Linux CLI, Swagger/OpenAPI. Remote|[backend, developer, python, django, seeking, highly, skilled, python, developer, strong, experience, django, restful, apis, ideal, candidate, deep, understanding, relational, databases, postgresql, unit, testing, ci, cd, pipelines, also, responsible, system, architecture, decisions, optimizing, performance, data, intensive, applications, required, skills, python, django, django, rest, framework, postgresql, redis, celery, pytest, docker, git, github, actions, jenkins, aws, ec2, s3, lambda, linux, cli, swagger, openapi, remote]|[backend, developer, python, django, seeking, highly, skilled, python, developer, strong, experience, django, restful, apis, ideal, candidate, deep, understanding, relational, databases, postgresql, unit, testing, ci, cd, pipelines, also, responsible, system, architecture, decisions, optimizing, performance, data, intensive, applications, required, skills, python, django, django, rest, framework, postgresql, redis, celery, pytest, docker, git, github, actions, jenkins, aws, ec2, s3, lambda, linux, cli, swagger, openapi, remote]|[python, django, postgresql, django, django, postgresql, pytest, jenkins, ec2, s3]                   |(313,[0,1,3,4,5,8,10,13,14,15,16,17,19,21,23,25,26,38,40,45,46,49,53,66,68,77,82,95,104,113,120,123,128,145,146,157,159,167,168,175,180,185,198,202,212,220,228,233,239,257,265,276,285,306],[1.0,1.0,3.0,1.0,2.0,1.0,1.0,1.0,1.0,1.0,4.0,1.0,1.0,1.0,2.0,1.0,1.0,1.0,1.0,1.0,1.0,1.0,1.0,1.0,1.0,1.0,1.0,1.0,1.0,1.0,1.0,1.0,1.0,1.0,1.0,1.0,1.0,1.0,1.0,1.0,1.0,1.0,1.0,1.0,1.0,1.0,1.0,1.0,1.0,1.0,1.0,1.0,1.0,1.0])|\n",
      "|We are looking for a Frontend Engineer to build scalable and accessible web applications using React, Redux, and TypeScript. You'll collaborate with designers and backend engineers to deliver polished, user-centered products and reusable components. Required skills: React, Redux, TypeScript, Styled Components, Tailwind CSS, RESTful APIs, GraphQL, Jest, React Testing Library, Webpack, Vite, Accessibility standards (WCAG), Responsive design.                                                                              |San Francisco, CA (Hybrid)       |Frontend Developer (React/TypeScript)  |Frontend Developer (React/TypeScript) We are looking for a Frontend Engineer to build scalable and accessible web applications using React, Redux, and TypeScript. You'll collaborate with designers and backend engineers to deliver polished, user-centered products and reusable components. Required skills: React, Redux, TypeScript, Styled Components, Tailwind CSS, RESTful APIs, GraphQL, Jest, React Testing Library, Webpack, Vite, Accessibility standards (WCAG), Responsive design. San Francisco, CA (Hybrid)                                                      |[frontend, developer, react, typescript, looking, frontend, engineer, build, scalable, accessible, web, applications, using, react, redux, typescript, ll, collaborate, designers, backend, engineers, deliver, polished, user, centered, products, reusable, components, required, skills, react, redux, typescript, styled, components, tailwind, css, restful, apis, graphql, jest, react, testing, library, webpack, vite, accessibility, standards, wcag, responsive, design, san, francisco, ca, hybrid]                                       |[frontend, developer, react, typescript, looking, frontend, engineer, build, scalable, accessible, web, applications, using, react, redux, typescript, ll, collaborate, designers, backend, engineers, deliver, polished, user, centered, products, reusable, components, required, skills, react, redux, typescript, styled, components, tailwind, css, restful, apis, graphql, jest, react, testing, library, webpack, vite, accessibility, standards, wcag, responsive, design, san, francisco, ca, hybrid]                                       |[react, react redux, react redux, san francisco ca]                                                  |(313,[0,1,5,7,11,12,14,15,17,18,20,25,26,28,30,34,36,51,54,55,57,58,59,62,70,75,78,86,88,131,139,140,147,151,155,161,163,184,223,235,242,247,250,273,283,302,304],[1.0,1.0,1.0,1.0,1.0,1.0,1.0,1.0,1.0,1.0,4.0,1.0,1.0,2.0,1.0,3.0,2.0,1.0,1.0,1.0,2.0,1.0,1.0,1.0,1.0,1.0,1.0,1.0,1.0,1.0,1.0,1.0,1.0,1.0,1.0,1.0,1.0,1.0,1.0,1.0,1.0,1.0,1.0,1.0,1.0,1.0,1.0])                                                       |\n",
      "|Join our infrastructure team to automate and scale our cloud-native platform. You'll build and maintain CI/CD pipelines, manage Kubernetes clusters, and enforce security best practices. Required skills: Docker, Kubernetes, Helm, Terraform, Ansible, AWS (EKS, IAM, CloudWatch), GCP, Bash, Python or Go, ArgoCD or Flux, Prometheus, Grafana, monitoring and logging systems.                                                                                                                                                       |Berlin, Germany (Remote possible)|DevOps Engineer                        |DevOps Engineer Join our infrastructure team to automate and scale our cloud-native platform. You'll build and maintain CI/CD pipelines, manage Kubernetes clusters, and enforce security best practices. Required skills: Docker, Kubernetes, Helm, Terraform, Ansible, AWS (EKS, IAM, CloudWatch), GCP, Bash, Python or Go, ArgoCD or Flux, Prometheus, Grafana, monitoring and logging systems. Berlin, Germany (Remote possible)                                                                                                                                              |[devops, engineer, join, infrastructure, team, automate, scale, cloud, native, platform, ll, build, maintain, ci, cd, pipelines, manage, kubernetes, clusters, enforce, security, best, practices, required, skills, docker, kubernetes, helm, terraform, ansible, aws, eks, iam, cloudwatch, gcp, bash, python, go, argocd, flux, prometheus, grafana, monitoring, logging, systems, berlin, germany, remote, possible]                                                                                                                             |[devops, engineer, join, infrastructure, team, automate, scale, cloud, native, platform, ll, build, maintain, ci, cd, pipelines, manage, kubernetes, clusters, enforce, security, best, practices, required, skills, docker, kubernetes, helm, terraform, ansible, aws, eks, iam, cloudwatch, gcp, bash, python, go, argocd, flux, prometheus, grafana, monitoring, logging, systems, berlin, germany, remote, possible]                                                                                                                             |[kubernetes clusters, docker kubernetes, terraform, iam cloudwatch, flux, prometheus, berlin germany]|(313,[0,1,3,7,8,9,10,12,13,18,19,21,22,27,42,47,48,60,61,63,65,69,74,82,90,91,93,125,134,138,142,162,173,191,192,201,203,210,214,224,225,262,264,288,290,295,309,312],[1.0,1.0,1.0,1.0,1.0,1.0,1.0,1.0,1.0,1.0,1.0,1.0,2.0,1.0,1.0,1.0,1.0,1.0,1.0,1.0,1.0,1.0,1.0,1.0,1.0,1.0,1.0,1.0,1.0,1.0,1.0,1.0,1.0,1.0,1.0,1.0,1.0,1.0,1.0,1.0,1.0,1.0,1.0,1.0,1.0,1.0,1.0,1.0])                                               |\n",
      "|We’re hiring a Full Stack Developer to help build features end-to-end across our digital product. Backend logic with Node.js and Express, frontend components in Vue.js. Required skills: Node.js, Express.js, Vue.js 3, Vuex, Composition API, MongoDB, PostgreSQL, RESTful API design, Swagger/OpenAPI, WebSockets, JWT, OAuth2, Jest, Cypress, Docker.                                                                                                                                                                                |Toronto, ON (Remote)             |Full Stack Developer (Node.js + Vue.js)|Full Stack Developer (Node.js + Vue.js) We’re hiring a Full Stack Developer to help build features end-to-end across our digital product. Backend logic with Node.js and Express, frontend components in Vue.js. Required skills: Node.js, Express.js, Vue.js 3, Vuex, Composition API, MongoDB, PostgreSQL, RESTful API design, Swagger/OpenAPI, WebSockets, JWT, OAuth2, Jest, Cypress, Docker. Toronto, ON (Remote)                                                                                                                                                            |[full, stack, developer, node, js, vue, js, re, hiring, full, stack, developer, help, build, features, end, end, across, digital, product, backend, logic, node, js, express, frontend, components, vue, js, required, skills, node, js, express, js, vue, js, vuex, composition, api, mongodb, postgresql, restful, api, design, swagger, openapi, websockets, jwt, oauth2, jest, cypress, docker, toronto, remote]                                                                                                                                 |[full, stack, developer, node, js, vue, js, re, hiring, full, stack, developer, help, build, features, end, end, across, digital, product, backend, logic, node, js, express, frontend, components, vue, js, required, skills, node, js, express, js, vue, js, 3, vuex, composition, api, mongodb, postgresql, restful, api, design, swagger, openapi, websockets, jwt, oauth2, jest, cypress, docker, toronto, remote]                                                                                                                              |[vue, mongodb, swagger, jwt, oauth2, jest cypress, toronto]                                          |(313,[0,1,2,5,6,7,8,10,11,15,23,25,28,31,32,33,35,36,40,44,56,62,66,67,71,83,101,108,136,160,172,204,215,232,238,260,292,303,305,308],[1.0,1.0,7.0,2.0,2.0,1.0,1.0,1.0,1.0,1.0,1.0,1.0,1.0,2.0,3.0,2.0,3.0,1.0,1.0,2.0,1.0,1.0,1.0,1.0,1.0,2.0,1.0,1.0,1.0,1.0,1.0,1.0,1.0,1.0,1.0,1.0,1.0,1.0,1.0,1.0])                                                                                                               |\n",
      "|Join our analytics team to extract insights from customer data, build machine learning models, and support data-driven decisions. You'll work with big data and real-time analytics systems. Required skills: Python (Pandas, NumPy, scikit-learn), SQL, BigQuery, Data visualization (Tableau, Matplotlib, Seaborn), A/B testing, Jupyter, Airflow, dbt, MLflow, Git.                                                                                                                                                                   |New York, NY                     |Data Scientist                         |Data Scientist Join our analytics team to extract insights from customer data, build machine learning models, and support data-driven decisions. You'll work with big data and real-time analytics systems. Required skills: Python (Pandas, NumPy, scikit-learn), SQL, BigQuery, Data visualization (Tableau, Matplotlib, Seaborn), A/B testing, Jupyter, Airflow, dbt, MLflow, Git. New York, NY                                                                                                                                                                                |[data, scientist, join, analytics, team, extract, insights, customer, data, build, machine, learning, models, support, data, driven, decisions, ll, work, big, data, real, time, analytics, systems, required, skills, python, pandas, numpy, scikit, learn, sql, bigquery, data, visualization, tableau, matplotlib, seaborn, testing, jupyter, airflow, dbt, mlflow, git, new, york, ny]                                                                                                                                                           |[data, scientist, join, analytics, team, extract, insights, customer, data, build, machine, learning, models, support, data, driven, decisions, ll, work, big, data, real, time, analytics, systems, required, skills, python, pandas, numpy, scikit, learn, sql, bigquery, data, visualization, tableau, matplotlib, seaborn, b, testing, jupyter, airflow, dbt, mlflow, git, new, york, ny]                                                                                                                                                        |[python, pandas, numpy, matplotlib, seaborn, jupyter, mlflow, new york]                              |(313,[0,1,3,4,7,12,14,27,37,43,45,46,50,60,61,64,73,76,79,80,94,107,116,118,119,121,141,150,153,169,178,179,187,193,195,244,245,248,255,267,268,294,298,307],[1.0,1.0,1.0,5.0,1.0,1.0,1.0,1.0,1.0,1.0,1.0,1.0,1.0,1.0,1.0,1.0,1.0,1.0,2.0,1.0,1.0,1.0,1.0,1.0,1.0,1.0,1.0,1.0,1.0,1.0,1.0,1.0,1.0,1.0,1.0,1.0,1.0,1.0,1.0,1.0,1.0,1.0,1.0,1.0])                                                                        |\n",
      "+-----------------------------------------------------------------------------------------------------------------------------------------------------------------------------------------------------------------------------------------------------------------------------------------------------------------------------------------------------------------------------------------------------------------------------------------------------------------------------------------------------------------------------------------+---------------------------------+---------------------------------------+----------------------------------------------------------------------------------------------------------------------------------------------------------------------------------------------------------------------------------------------------------------------------------------------------------------------------------------------------------------------------------------------------------------------------------------------------------------------------------------------------------------------------------------------------------------------------------+-----------------------------------------------------------------------------------------------------------------------------------------------------------------------------------------------------------------------------------------------------------------------------------------------------------------------------------------------------------------------------------------------------------------------------------------------------------------------------------------------------------------------------------------------------+-----------------------------------------------------------------------------------------------------------------------------------------------------------------------------------------------------------------------------------------------------------------------------------------------------------------------------------------------------------------------------------------------------------------------------------------------------------------------------------------------------------------------------------------------------+-----------------------------------------------------------------------------------------------------+-----------------------------------------------------------------------------------------------------------------------------------------------------------------------------------------------------------------------------------------------------------------------------------------------------------------------------------------------------------------------------------------------------------------------+\n",
      "\n"
     ]
    }
   ],
   "execution_count": 29
  },
  {
   "metadata": {},
   "cell_type": "markdown",
   "source": "## Join Words Filtered",
   "id": "26b489c49a5c64b"
  },
  {
   "metadata": {
    "ExecuteTime": {
     "end_time": "2025-05-08T22:30:51.116299Z",
     "start_time": "2025-05-08T22:30:28.507176Z"
    }
   },
   "cell_type": "code",
   "source": [
    "jobs_df = jobs_df.withColumn('document', concat_ws(' ', col('words_job')))\n",
    "jobs_df.limit(5).show()"
   ],
   "id": "52feb5b495710c9a",
   "outputs": [
    {
     "name": "stdout",
     "output_type": "stream",
     "text": [
      "+--------------------+--------------------+--------------------+--------------------+--------------------+--------------------+--------------------+--------------------+\n",
      "|         description|            location|               title|            document|           words_job|         words_clean|           words_ner|      features_count|\n",
      "+--------------------+--------------------+--------------------+--------------------+--------------------+--------------------+--------------------+--------------------+\n",
      "|We are seeking a ...|              Remote|Backend Developer...|backend developer...|[backend, develop...|[backend, develop...|[python, django, ...|(313,[0,1,3,4,5,8...|\n",
      "|We are looking fo...|San Francisco, CA...|Frontend Develope...|frontend develope...|[frontend, develo...|[frontend, develo...|[react, react red...|(313,[0,1,5,7,11,...|\n",
      "|Join our infrastr...|Berlin, Germany (...|     DevOps Engineer|devops engineer j...|[devops, engineer...|[devops, engineer...|[kubernetes clust...|(313,[0,1,3,7,8,9...|\n",
      "|We’re hiring a Fu...|Toronto, ON (Remote)|Full Stack Develo...|full stack develo...|[full, stack, dev...|[full, stack, dev...|[vue, mongodb, sw...|(313,[0,1,2,5,6,7...|\n",
      "|Join our analytic...|        New York, NY|      Data Scientist|data scientist jo...|[data, scientist,...|[data, scientist,...|[python, pandas, ...|(313,[0,1,3,4,7,1...|\n",
      "+--------------------+--------------------+--------------------+--------------------+--------------------+--------------------+--------------------+--------------------+\n",
      "\n"
     ]
    }
   ],
   "execution_count": 30
  },
  {
   "metadata": {
    "ExecuteTime": {
     "end_time": "2025-05-08T22:30:58.590052Z",
     "start_time": "2025-05-08T22:30:51.146820Z"
    }
   },
   "cell_type": "code",
   "source": [
    "resumes_data = resumes_data.withColumn('document', concat_ws(' ', col('words_resume')))\n",
    "resumes_data.limit(5).show(10, truncate=False)"
   ],
   "id": "2d9439b1c7d694d1",
   "outputs": [
    {
     "name": "stdout",
     "output_type": "stream",
     "text": [
      "+-----------------------------------------------------------------------------------------------------------------------------------------------------------------------------------------------------------------------------------------------------------------------------------------------------------------------------------------------------------------------------------------------------------------------------------------------------------------------------------------------------------------------------------------------------------------------------------------------------------------------------------------------------------------------------------------------------------------------------------------------------------------------------------------------------------------------------------------------------------------------------------------------------------------------------------------------------------------------------------------------------------------------------------------------------------------------------------------------------------------------------------------------------------------------------------------------------------------------------------------------+-----------------------------------------------------------------------------------------------------------------------------------------------------------------------------------------------------------------------------------------------------------------------------------------------------------------------------------------------------------------------------------------------------------------------------------------------------------------------------------------------------------------------------------------------------------------------------------------------------------------------------------------------------------------------------------------------------------------------------------------------------------------------------------------------------------------------------------------------------------------------------------------------------------------------------------------------------------------------------------------------------------------------------------------------------------------------------------------------------------------------------------------------+--------------------------------------------------------------------------------------------------------------------------------------------------------------------------------------------------------------------------------------------------------------------------------------------------------------------------------------------------------------------------------------------------------------------------------------------------------------------------------------------------------------------------------------------------------------------------------------------------------------------------------------------------------------------------------------------------------------------------------------------------------------------------------------------------------------------------------------------------------------------------------------------------------------------------------------------------------------------------------------------------------------------------------------------------------------------------------------------------------------------------------------------------------------+------------------------------------------------------------------------------------------------------------------------------------------+-------------------------------------------------------------------------------------------------------------------------------------------------------------------------------------------------------------------------------------------------------------------------------------------------------------------------------------------------------------------------------------------------------------------------------------------------------------------------------------------------------------------------------------------------------------------------------------------------------------------------------------------------------------------------------------------------------------------------------------------------------------------------------------------------------------------------------------------------------------------------------------------------------------------------------------+-----------------------------------------------------------------------------------------------------------------------------------------------------------------------------------------------------------------------------------------------------------------------------------------------------------------------------------------------------------------------------------------------------------------------------------------------------------------------------------------------------------------------------------------------------------------------------------------------------------------------------------------------------------------------------------------------------------------------------------------------------------------------------------------------------------------------------------------------------------------------------------------------------------------------------------------------------------------------------------------------------------------+\n",
      "|text_resume                                                                                                                                                                                                                                                                                                                                                                                                                                                                                                                                                                                                                                                                                                                                                                                                                                                                                                                                                                                                                                                                                                                                                                                                                                    |words_resume                                                                                                                                                                                                                                                                                                                                                                                                                                                                                                                                                                                                                                                                                                                                                                                                                                                                                                                                                                                                                                                                                                                                   |words_clean                                                                                                                                                                                                                                                                                                                                                                                                                                                                                                                                                                                                                                                                                                                                                                                                                                                                                                                                                                                                                                                                                                                                                   |words_ner                                                                                                                                 |features_count                                                                                                                                                                                                                                                                                                                                                                                                                                                                                                                                                                                                                                                                                                                                                                                                                                                                                                                       |document                                                                                                                                                                                                                                                                                                                                                                                                                                                                                                                                                                                                                                                                                                                                                                                                                                                                                                                                                                                                         |\n",
      "+-----------------------------------------------------------------------------------------------------------------------------------------------------------------------------------------------------------------------------------------------------------------------------------------------------------------------------------------------------------------------------------------------------------------------------------------------------------------------------------------------------------------------------------------------------------------------------------------------------------------------------------------------------------------------------------------------------------------------------------------------------------------------------------------------------------------------------------------------------------------------------------------------------------------------------------------------------------------------------------------------------------------------------------------------------------------------------------------------------------------------------------------------------------------------------------------------------------------------------------------------+-----------------------------------------------------------------------------------------------------------------------------------------------------------------------------------------------------------------------------------------------------------------------------------------------------------------------------------------------------------------------------------------------------------------------------------------------------------------------------------------------------------------------------------------------------------------------------------------------------------------------------------------------------------------------------------------------------------------------------------------------------------------------------------------------------------------------------------------------------------------------------------------------------------------------------------------------------------------------------------------------------------------------------------------------------------------------------------------------------------------------------------------------+--------------------------------------------------------------------------------------------------------------------------------------------------------------------------------------------------------------------------------------------------------------------------------------------------------------------------------------------------------------------------------------------------------------------------------------------------------------------------------------------------------------------------------------------------------------------------------------------------------------------------------------------------------------------------------------------------------------------------------------------------------------------------------------------------------------------------------------------------------------------------------------------------------------------------------------------------------------------------------------------------------------------------------------------------------------------------------------------------------------------------------------------------------------+------------------------------------------------------------------------------------------------------------------------------------------+-------------------------------------------------------------------------------------------------------------------------------------------------------------------------------------------------------------------------------------------------------------------------------------------------------------------------------------------------------------------------------------------------------------------------------------------------------------------------------------------------------------------------------------------------------------------------------------------------------------------------------------------------------------------------------------------------------------------------------------------------------------------------------------------------------------------------------------------------------------------------------------------------------------------------------------+-----------------------------------------------------------------------------------------------------------------------------------------------------------------------------------------------------------------------------------------------------------------------------------------------------------------------------------------------------------------------------------------------------------------------------------------------------------------------------------------------------------------------------------------------------------------------------------------------------------------------------------------------------------------------------------------------------------------------------------------------------------------------------------------------------------------------------------------------------------------------------------------------------------------------------------------------------------------------------------------------------------------+\n",
      "|One97 Communications Limited \\nData Scientist Jan 2019 to Till Date \\nDetect important information from images and redact\\nrequired fields. YOLO CNN Object-detection, OCR\\nInsights, find anomaly or performance drop in all\\npossible sub-space. \\nPredict the Insurance claim probability. Estimate the\\npremium amount to be charged\\nB.Tech(Computer Science) from SGBAU university in\\n2017. \\nM.Tech (Computer Science Engineering) from Indian\\nInstitute of Technology (IIT), Kanpur in 2019\\nWORK EXPERIENCE\\nEDUCATION\\nMACY WILLIAMS\\nDATA SCIENTIST\\nData Scientist working  on problems related to market research and customer analysis. I want to expand my arsenal of\\napplication building and work on different kinds of problems. Looking for a role where I can work with a coordinative team\\nand exchange knowledge during the process.\\nJava, C++, Python, Machine Learning, Algorithms, Natural Language Processing, Deep Learning, Computer Vision, Pattern\\nRecognition, Data Science, Data Analysis, Software Engineer, Data Analyst, C, PySpark, Kubeflow.\\nABOUT\\nSKILLS\\nCustomer browsing patterns.\\nPredict potential RTO(Return To Origin) orders for e-\\ncommerce.\\nObject Detection.\\nPROJECTS\\nACTIVITES\\n|[one97, communications, limited, data, scientist, jan, 2019, till, date, detect, important, information, images, redact, required, fields, yolo, cnn, object, detection, ocr, insights, find, anomaly, performance, drop, possible, sub, space, predict, insurance, claim, probability, estimate, premium, amount, charged, tech, computer, science, sgbau, university, 2017, tech, computer, science, engineering, indian, institute, technology, iit, kanpur, 2019, work, experience, education, macy, williams, data, scientist, data, scientist, working, problems, related, market, research, customer, analysis, want, expand, arsenal, application, building, work, different, kinds, problems, looking, role, work, coordinative, team, exchange, knowledge, process, java, python, machine, learning, algorithms, natural, language, processing, deep, learning, computer, vision, pattern, recognition, data, science, data, analysis, software, engineer, data, analyst, pyspark, kubeflow, skills, customer, browsing, patterns, predict, potential, rto, return, origin, orders, commerce, object, detection, projects, activites]|[one97, communications, limited, data, scientist, jan, 2019, till, date, detect, important, information, images, redact, required, fields, yolo, cnn, object, detection, ocr, insights, find, anomaly, performance, drop, possible, sub, space, predict, insurance, claim, probability, estimate, premium, amount, charged, b, tech, computer, science, sgbau, university, 2017, m, tech, computer, science, engineering, indian, institute, technology, iit, kanpur, 2019, work, experience, education, macy, williams, data, scientist, data, scientist, working, problems, related, market, research, customer, analysis, want, expand, arsenal, application, building, work, different, kinds, problems, looking, role, work, coordinative, team, exchange, knowledge, process, java, c, python, machine, learning, algorithms, natural, language, processing, deep, learning, computer, vision, pattern, recognition, data, science, data, analysis, software, engineer, data, analyst, c, pyspark, kubeflow, skills, customer, browsing, patterns, predict, potential, rto, return, origin, orders, e, commerce, object, detection, projects, activites]|[one97 communications, jan 2019, yolo cnn, sgbau university, 2017, indian institute, 2019, macy williams, arsenal, java, pyspark kubeflow]|(24174,[0,2,3,4,6,8,9,10,15,19,21,30,34,39,45,52,53,64,82,83,88,100,112,127,129,135,137,140,157,172,202,205,215,228,241,244,250,256,301,318,322,338,342,357,465,476,477,528,625,672,714,715,730,735,905,1022,1123,1130,1168,1404,1557,1581,1609,1760,1763,1912,1924,2048,2152,2173,2205,2289,2481,2625,2687,2803,3087,3453,3548,4075,4551,4570,4631,5578,5687,5740,5793,6566,6806,6875,6971,7804,7885,8102,8894,9053,9454,10584,11144,11223,12155,13926,16841,18677,19474,20659,23051],[1.0,3.0,1.0,1.0,1.0,1.0,1.0,1.0,1.0,2.0,1.0,1.0,1.0,3.0,1.0,1.0,1.0,6.0,1.0,1.0,2.0,1.0,1.0,2.0,1.0,1.0,1.0,3.0,1.0,1.0,1.0,2.0,2.0,1.0,1.0,1.0,1.0,1.0,1.0,1.0,1.0,1.0,1.0,1.0,1.0,1.0,1.0,2.0,1.0,1.0,1.0,1.0,1.0,1.0,1.0,1.0,1.0,1.0,2.0,1.0,1.0,1.0,1.0,1.0,1.0,1.0,2.0,1.0,1.0,1.0,1.0,2.0,1.0,1.0,1.0,1.0,1.0,1.0,1.0,3.0,1.0,1.0,1.0,1.0,1.0,2.0,1.0,1.0,1.0,1.0,1.0,1.0,1.0,1.0,1.0,1.0,1.0,1.0,1.0,1.0,1.0,1.0,1.0,1.0,1.0,1.0,1.0])|one97 communications limited data scientist jan 2019 till date detect important information images redact required fields yolo cnn object detection ocr insights find anomaly performance drop possible sub space predict insurance claim probability estimate premium amount charged tech computer science sgbau university 2017 tech computer science engineering indian institute technology iit kanpur 2019 work experience education macy williams data scientist data scientist working problems related market research customer analysis want expand arsenal application building work different kinds problems looking role work coordinative team exchange knowledge process java python machine learning algorithms natural language processing deep learning computer vision pattern recognition data science data analysis software engineer data analyst pyspark kubeflow skills customer browsing patterns predict potential rto return origin orders commerce object detection projects activites|\n",
      "|KEISUKE YAMAMOTO\\nPROFILE\\nProfessional with 3 months of experience in Web\\nDevelopment and interested in ML.\\nSKILLS\\nWeb Developer, Data Analyst, Web Development,\\nMachine Learning, Python, FrontEnd, HTML,\\nJavascript, PHP, CSS, MySQL, Java, Data\\nStructures, OOP, Algorithms, C.\\nEXPERIENCE\\nSAI Technologies, \\nIntern, Aug 2020 to Till Date \\n \\nWorking at a cybersecurity company as an intern.\\nWorking on different projects which need python,\\ncybersecurity, HTML, CSS, javascript, java, and\\nDocker containers as main skills. \\nEDUCATION\\nB.Tech(Computers) from Shri Guru\\nGobind Singhji College of Engineering\\nand Technology, Nanded in 2019 \\nJ U N I O R  S O F T W A R E  D E V E L O P E R\\nACTIVITIES\\nData Analyst, \\nPython Programming.\\nPROJECTS\\nCharacter Detection using SVM\\nClassification.\\n                                                                                                                                                                                                                                                                                                                                                                                                       |[keisuke, yamamoto, profile, professional, months, experience, web, development, interested, ml, skills, web, developer, data, analyst, web, development, machine, learning, python, frontend, html, javascript, php, css, mysql, java, data, structures, oop, algorithms, experience, sai, technologies, intern, aug, 2020, till, date, working, cybersecurity, company, intern, working, different, projects, need, python, cybersecurity, html, css, javascript, java, docker, containers, main, skills, education, tech, computers, shri, guru, gobind, singhji, college, engineering, technology, nanded, 2019, activities, data, analyst, python, programming, projects, character, detection, using, svm, classification]                                                                                                                                                                                                                                                                                                                                                                                                               |[keisuke, yamamoto, profile, professional, 3, months, experience, web, development, interested, ml, skills, web, developer, data, analyst, web, development, machine, learning, python, frontend, html, javascript, php, css, mysql, java, data, structures, oop, algorithms, c, experience, sai, technologies, intern, aug, 2020, till, date, working, cybersecurity, company, intern, working, different, projects, need, python, cybersecurity, html, css, javascript, java, docker, containers, main, skills, education, b, tech, computers, shri, guru, gobind, singhji, college, engineering, technology, nanded, 2019, j, u, n, o, r, o, f, w, r, e, d, e, v, e, l, o, p, e, r, activities, data, analyst, python, programming, projects, character, detection, using, svm, classification]                                                                                                                                                                                                                                                                                                                                                            |[keisuke yamamoto, months, sai technologies, aug 2020, gobind singhji, 2019]                                                              |(24174,[0,3,4,6,8,16,17,19,25,26,30,34,37,47,52,53,59,64,82,85,87,88,91,93,95,132,135,136,186,197,215,229,256,307,351,357,413,434,437,532,536,589,661,672,730,808,905,951,1067,1159,1168,1215,1251,1467,1620,1874,1902,2152,2175,2289,2507,2521,2875,4323,5660,6975,7191,8901,8941,10454,12495,16820,17032,18576,21122,21582,24121],[2.0,2.0,4.0,1.0,1.0,1.0,3.0,1.0,1.0,1.0,2.0,1.0,1.0,1.0,2.0,1.0,1.0,3.0,1.0,2.0,1.0,1.0,3.0,1.0,1.0,1.0,1.0,1.0,1.0,1.0,1.0,1.0,1.0,1.0,1.0,1.0,1.0,1.0,1.0,3.0,1.0,1.0,2.0,2.0,2.0,1.0,3.0,1.0,2.0,1.0,1.0,1.0,1.0,1.0,2.0,1.0,1.0,1.0,1.0,1.0,1.0,2.0,1.0,1.0,1.0,1.0,1.0,1.0,1.0,2.0,1.0,1.0,1.0,1.0,1.0,1.0,1.0])                                                                                                                                                                                                                                                                           |keisuke yamamoto profile professional months experience web development interested ml skills web developer data analyst web development machine learning python frontend html javascript php css mysql java data structures oop algorithms experience sai technologies intern aug 2020 till date working cybersecurity company intern working different projects need python cybersecurity html css javascript java docker containers main skills education tech computers shri guru gobind singhji college engineering technology nanded 2019 activities data analyst python programming projects character detection using svm classification                                                                                                                                                                                                                                                                                                                                                                  |\n",
      "|Stella Thatcher\\nA S S O C I A T E  M A R K E T  A N A L Y S T\\nExecutive Profile\\nI am a market research specialist with a\\ngrasp of machine learning and looking for\\na deeper dive into the career of being a\\nprofessional machine learning engineer.\\nOther Activities\\nCertified Python Developer\\nProjects\\nStock Market Analyzer.\\nSkills\\nResearch Associate, Business Analyst,\\nBusiness Analytics, Data Mining, Data\\nModeling, Predictive Analysis, Business\\nIntelligence, Machine Learning, Market\\nResearch, Customer Engagement, Risk\\nManagement, Retention, Audience, Python.\\nWork Experience\\nKripa Infotech \\nAssociate Market Research Analyst Intern, Apr 2020 - Sep 2020 \\nWorked with clients to get an overall idea of how a product is\\nperceived by a target audience. Focused on large groups of data both\\nstructured and unstructered for solutions. \\nEducation\\nB.Tech(Mechanical) Bhavleesh Duggar College, Nasik 2020\\n                                                                                                                                                                                                                                                                                     |[stella, thatcher, executive, profile, market, research, specialist, grasp, machine, learning, looking, deeper, dive, career, professional, machine, learning, engineer, activities, certified, python, developer, projects, stock, market, analyzer, skills, research, associate, business, analyst, business, analytics, data, mining, data, modeling, predictive, analysis, business, intelligence, machine, learning, market, research, customer, engagement, risk, management, retention, audience, python, work, experience, kripa, infotech, associate, market, research, analyst, intern, apr, 2020, sep, 2020, worked, clients, get, overall, idea, product, perceived, target, audience, focused, large, groups, data, structured, unstructered, solutions, education, tech, mechanical, bhavleesh, duggar, college, nasik, 2020]                                                                                                                                                                                                                                                                                                    |[stella, thatcher, o, c, e, m, r, k, e, n, l, y, executive, profile, market, research, specialist, grasp, machine, learning, looking, deeper, dive, career, professional, machine, learning, engineer, activities, certified, python, developer, projects, stock, market, analyzer, skills, research, associate, business, analyst, business, analytics, data, mining, data, modeling, predictive, analysis, business, intelligence, machine, learning, market, research, customer, engagement, risk, management, retention, audience, python, work, experience, kripa, infotech, associate, market, research, analyst, intern, apr, 2020, sep, 2020, worked, clients, get, overall, idea, product, perceived, target, audience, focused, large, groups, data, structured, unstructered, solutions, education, b, tech, mechanical, bhavleesh, duggar, college, nasik, 2020]                                                                                                                                                                                                                                                                                  |[stella thatcher, kripa infotech, apr 2020 sep 2020, mechanical bhavleesh duggar college, 2020]                                           |(24174,[0,2,3,4,8,13,15,16,17,19,21,27,37,52,53,54,64,71,88,91,93,95,119,127,132,136,147,202,205,208,215,256,291,296,301,369,476,591,606,607,727,730,746,749,808,873,904,905,958,1062,1067,1113,1331,1406,1520,1699,1702,1821,1902,2193,2351,2536,2743,3885,4301,4388,4552,5069,5382,7881,11089,13536,16087,17515,18483,20459,21951,22625,22657],[1.0,1.0,1.0,2.0,1.0,1.0,1.0,1.0,1.0,1.0,1.0,1.0,1.0,1.0,1.0,1.0,3.0,1.0,1.0,1.0,1.0,1.0,3.0,1.0,1.0,1.0,1.0,4.0,1.0,1.0,3.0,3.0,1.0,1.0,1.0,1.0,4.0,1.0,1.0,1.0,1.0,2.0,1.0,1.0,1.0,1.0,1.0,2.0,1.0,1.0,1.0,2.0,1.0,1.0,1.0,1.0,1.0,1.0,3.0,1.0,1.0,1.0,1.0,1.0,1.0,1.0,1.0,1.0,1.0,2.0,1.0,1.0,1.0,1.0,1.0,1.0,1.0,1.0,1.0])                                                                                                                                                                                                                                                      |stella thatcher executive profile market research specialist grasp machine learning looking deeper dive career professional machine learning engineer activities certified python developer projects stock market analyzer skills research associate business analyst business analytics data mining data modeling predictive analysis business intelligence machine learning market research customer engagement risk management retention audience python work experience kripa infotech associate market research analyst intern apr 2020 sep 2020 worked clients get overall idea product perceived target audience focused large groups data structured unstructered solutions education tech mechanical bhavleesh duggar college nasik 2020                                                                                                                                                                                                                                                                |\n",
      "|P R O F I L E\\nSoftware developer with a niche towards end to end machine learning projects.\\nMotivated towards learning, solving and producing better results. \\nKLN SOLUTIONS \\nJUNIOR DATA EVANGELIST, JULY 2019 - TILL DATE\\nBuilding applications and exploring data and its use over different\\nmanagement solutions.\\nNOLAN DRUCKS\\nS K I L L S\\nData Manipulation, Data Mining,\\nPython, SQL, R Programming,\\nPowerBI, Tableau, Machine\\nLearning, PySpark, Azure\\nDatabricks, AWS.\\nE X P E R I E N C E\\nE D U C A T I O N\\nB.TECH(INSTRUMENTATION), BABURAO PATIL COLLEGE AND\\nUNIVERSITY, AURANGABAD, 2019.\\nD A T A  D E S I G N E R\\nP R O J E C T S\\nLeveraged NLTK, Spacy, Fast text\\nlibraries to perform all kinds of\\nNLP operations including but not\\nlimited to cleaning, stemming,\\nlemmatization, word encoding,\\netc.\\nA C T I V I T I E S  A N D  A W A R D S\\nINTRODUCTION TO DATA ONTOLOGY.\\nJB MANAGEMENT \\nSOFTWARE DEVELOPER INTERN, JAN 2019 - JUN 2019\\nDevelopment of a python module to assist OCR models.\\n                                                                                                                                                                                                 |[software, developer, niche, towards, end, end, machine, learning, projects, motivated, towards, learning, solving, producing, better, results, kln, solutions, junior, data, evangelist, july, 2019, till, date, building, applications, exploring, data, use, different, management, solutions, nolan, drucks, data, manipulation, data, mining, python, sql, programming, powerbi, tableau, machine, learning, pyspark, azure, databricks, aws, tech, instrumentation, baburao, patil, college, university, aurangabad, 2019, leveraged, nltk, spacy, fast, text, libraries, perform, kinds, nlp, operations, including, limited, cleaning, stemming, lemmatization, word, encoding, etc, introduction, data, ontology, jb, management, software, developer, intern, jan, 2019, jun, 2019, development, python, module, assist, ocr, models]                                                                                                                                                                                                                                                                                                |[p, r, o, f, l, e, software, developer, niche, towards, end, end, machine, learning, projects, motivated, towards, learning, solving, producing, better, results, kln, solutions, junior, data, evangelist, july, 2019, till, date, building, applications, exploring, data, use, different, management, solutions, nolan, drucks, k, l, l, data, manipulation, data, mining, python, sql, r, programming, powerbi, tableau, machine, learning, pyspark, azure, databricks, aws, e, x, p, e, r, e, n, c, e, e, d, u, c, o, n, b, tech, instrumentation, baburao, patil, college, university, aurangabad, 2019, d, d, e, g, n, e, r, p, r, o, j, e, c, leveraged, nltk, spacy, fast, text, libraries, perform, kinds, nlp, operations, including, limited, cleaning, stemming, lemmatization, word, encoding, etc, c, v, e, n, d, w, r, d, introduction, data, ontology, jb, management, software, developer, intern, jan, 2019, jun, 2019, development, python, module, assist, ocr, models]                                                                                                                                                                  |[kln, july 2019, nolan drucks, baburao patil college university, aurangabad, 2019, nltk spacy, jan 2019 jun 2019]                         |(24174,[4,8,9,13,17,19,25,34,37,52,59,64,83,85,87,88,91,93,112,123,132,135,141,147,156,197,215,226,241,256,307,318,327,328,343,344,351,357,369,413,421,456,500,557,589,610,711,717,765,808,820,905,945,1008,1040,1067,1168,1271,1291,1426,1436,1699,2390,2803,3033,3197,3320,3882,4088,5195,5217,5578,5835,6106,7506,7885,8133,8166,8765,9385,10486,10737,10943,11588,11848,12365,13319,17390,17645,20282,20456,22145,23933,24152],[10.0,1.0,1.0,2.0,3.0,4.0,3.0,1.0,1.0,1.0,1.0,5.0,2.0,1.0,5.0,1.0,6.0,3.0,1.0,1.0,4.0,1.0,1.0,1.0,1.0,1.0,3.0,1.0,1.0,2.0,1.0,1.0,1.0,1.0,1.0,2.0,1.0,1.0,2.0,1.0,1.0,1.0,1.0,2.0,1.0,1.0,1.0,1.0,1.0,2.0,1.0,2.0,1.0,1.0,1.0,1.0,4.0,1.0,1.0,1.0,1.0,1.0,1.0,1.0,1.0,1.0,1.0,1.0,1.0,1.0,1.0,1.0,1.0,1.0,1.0,1.0,1.0,1.0,1.0,1.0,1.0,1.0,1.0,1.0,1.0,1.0,1.0,1.0,1.0,1.0,1.0,1.0,1.0,1.0])                                                                                                       |software developer niche towards end end machine learning projects motivated towards learning solving producing better results kln solutions junior data evangelist july 2019 till date building applications exploring data use different management solutions nolan drucks data manipulation data mining python sql programming powerbi tableau machine learning pyspark azure databricks aws tech instrumentation baburao patil college university aurangabad 2019 leveraged nltk spacy fast text libraries perform kinds nlp operations including limited cleaning stemming lemmatization word encoding etc introduction data ontology jb management software developer intern jan 2019 jun 2019 development python module assist ocr models                                                                                                                                                                                                                                                                 |\n",
      "|KELSEY STENS\\nS O F T W A R E  D E V E L O P E R ( M A C H I N E  L E A R N I N G )\\nSKILLS\\nSoftware Engineer, Data Analyst,\\nMachine Learning, Text Analytics,\\nSoftware Development, Object\\nOriented Programming, Pandas,\\nNumpy, Java, Python, SpringBoot,\\nLaravel.\\nEDUCATION\\nB.Tech (ECE) Dr. Jagjiban Rao Engineering College, 2019\\nPERSONAL PROFILE\\nSoftware developer focused in the areas of\\nMachine learning application development.\\nMotivated to learn, grow and excel my\\nexperience by challenging myself.\\nWORK BACKGROUND\\nKLP Technology Solutions \\nSoftware Engineer, Jan 2019 - till date \\nBuilt predictive and decision models using machine learning\\nalgorithms for various business study cases with feature\\nengineering and evaluation methods.\\nOTHER ACTIVITIES\\nOnDevice Machine Learning \\nUI/UX development\\nPROJECTS\\nBuilt predictive and decision models\\nusing machine learning algorithms.\\nDeveloped and integrated the UI\\ncomponents with HMI framework for\\nHead Up Display.\\n                                                                                                                                                                                                                |[kelsey, stens, skills, software, engineer, data, analyst, machine, learning, text, analytics, software, development, object, oriented, programming, pandas, numpy, java, python, springboot, laravel, education, tech, ece, dr, jagjiban, rao, engineering, college, 2019, personal, profile, software, developer, focused, areas, machine, learning, application, development, motivated, learn, grow, excel, experience, challenging, work, background, klp, technology, solutions, software, engineer, jan, 2019, till, date, built, predictive, decision, models, using, machine, learning, algorithms, various, business, study, cases, feature, engineering, evaluation, methods, activities, ondevice, machine, learning, ui, ux, development, projects, built, predictive, decision, models, using, machine, learning, algorithms, developed, integrated, ui, components, hmi, framework, head, display]                                                                                                                                                                                                                              |[kelsey, stens, o, f, w, r, e, d, e, v, e, l, o, p, e, r, m, c, h, n, e, l, e, r, n, n, g, skills, software, engineer, data, analyst, machine, learning, text, analytics, software, development, object, oriented, programming, pandas, numpy, java, python, springboot, laravel, education, b, tech, ece, dr, jagjiban, rao, engineering, college, 2019, personal, profile, software, developer, focused, areas, machine, learning, application, development, motivated, learn, grow, excel, experience, challenging, work, background, klp, technology, solutions, software, engineer, jan, 2019, till, date, built, predictive, decision, models, using, machine, learning, algorithms, various, business, study, cases, feature, engineering, evaluation, methods, activities, ondevice, machine, learning, ui, ux, development, projects, built, predictive, decision, models, using, machine, learning, algorithms, developed, integrated, ui, components, hmi, framework, head, display]                                                                                                                                                               |[kelsey stens, pandas, numpy, springboot, ece dr, engineering college, 2019, jan 2019]                                                    |(24174,[0,2,3,4,6,8,15,17,19,21,25,34,37,52,53,58,64,76,82,83,85,86,87,88,91,93,95,119,132,135,136,141,186,189,197,199,215,228,256,260,318,321,345,351,367,369,413,421,451,520,577,589,657,672,730,743,808,818,905,985,1014,1040,1086,1168,1196,1273,1331,1702,1821,1924,1962,2144,2152,3003,3033,3081,3644,3859,3919,4366,5784,6023,7308,8886,14624,17988,18439,21886,22507,22841],[1.0,1.0,1.0,6.0,2.0,1.0,2.0,2.0,1.0,1.0,1.0,1.0,1.0,1.0,1.0,1.0,1.0,1.0,1.0,4.0,3.0,1.0,1.0,1.0,3.0,2.0,1.0,1.0,3.0,1.0,1.0,1.0,2.0,1.0,1.0,1.0,5.0,1.0,5.0,1.0,1.0,1.0,1.0,1.0,1.0,1.0,1.0,1.0,1.0,1.0,1.0,1.0,1.0,1.0,1.0,1.0,1.0,1.0,1.0,1.0,1.0,2.0,2.0,2.0,1.0,2.0,1.0,1.0,2.0,1.0,1.0,1.0,2.0,1.0,1.0,1.0,1.0,1.0,1.0,1.0,1.0,2.0,1.0,1.0,1.0,1.0,1.0,1.0,1.0,1.0])                                                                                                                                                                       |kelsey stens skills software engineer data analyst machine learning text analytics software development object oriented programming pandas numpy java python springboot laravel education tech ece dr jagjiban rao engineering college 2019 personal profile software developer focused areas machine learning application development motivated learn grow excel experience challenging work background klp technology solutions software engineer jan 2019 till date built predictive decision models using machine learning algorithms various business study cases feature engineering evaluation methods activities ondevice machine learning ui ux development projects built predictive decision models using machine learning algorithms developed integrated ui components hmi framework head display                                                                                                                                                                                                   |\n",
      "+-----------------------------------------------------------------------------------------------------------------------------------------------------------------------------------------------------------------------------------------------------------------------------------------------------------------------------------------------------------------------------------------------------------------------------------------------------------------------------------------------------------------------------------------------------------------------------------------------------------------------------------------------------------------------------------------------------------------------------------------------------------------------------------------------------------------------------------------------------------------------------------------------------------------------------------------------------------------------------------------------------------------------------------------------------------------------------------------------------------------------------------------------------------------------------------------------------------------------------------------------+-----------------------------------------------------------------------------------------------------------------------------------------------------------------------------------------------------------------------------------------------------------------------------------------------------------------------------------------------------------------------------------------------------------------------------------------------------------------------------------------------------------------------------------------------------------------------------------------------------------------------------------------------------------------------------------------------------------------------------------------------------------------------------------------------------------------------------------------------------------------------------------------------------------------------------------------------------------------------------------------------------------------------------------------------------------------------------------------------------------------------------------------------+--------------------------------------------------------------------------------------------------------------------------------------------------------------------------------------------------------------------------------------------------------------------------------------------------------------------------------------------------------------------------------------------------------------------------------------------------------------------------------------------------------------------------------------------------------------------------------------------------------------------------------------------------------------------------------------------------------------------------------------------------------------------------------------------------------------------------------------------------------------------------------------------------------------------------------------------------------------------------------------------------------------------------------------------------------------------------------------------------------------------------------------------------------------+------------------------------------------------------------------------------------------------------------------------------------------+-------------------------------------------------------------------------------------------------------------------------------------------------------------------------------------------------------------------------------------------------------------------------------------------------------------------------------------------------------------------------------------------------------------------------------------------------------------------------------------------------------------------------------------------------------------------------------------------------------------------------------------------------------------------------------------------------------------------------------------------------------------------------------------------------------------------------------------------------------------------------------------------------------------------------------------+-----------------------------------------------------------------------------------------------------------------------------------------------------------------------------------------------------------------------------------------------------------------------------------------------------------------------------------------------------------------------------------------------------------------------------------------------------------------------------------------------------------------------------------------------------------------------------------------------------------------------------------------------------------------------------------------------------------------------------------------------------------------------------------------------------------------------------------------------------------------------------------------------------------------------------------------------------------------------------------------------------------------+\n",
      "\n"
     ]
    }
   ],
   "execution_count": 31
  },
  {
   "metadata": {},
   "cell_type": "markdown",
   "source": "## Using LLMs to generate Embeddings",
   "id": "9d9a85f194d22dd0"
  },
  {
   "metadata": {},
   "cell_type": "markdown",
   "source": "### Using sentence-transformers/all-MiniLM-L6-v2 to embeddings",
   "id": "ba911987cb21dd0f"
  },
  {
   "metadata": {
    "ExecuteTime": {
     "end_time": "2025-05-08T22:30:58.700855Z",
     "start_time": "2025-05-08T22:30:58.686854Z"
    }
   },
   "cell_type": "code",
   "source": [
    "import torch\n",
    "if torch.cuda.is_available():\n",
    "    device = 'cuda'\n",
    "else:\n",
    "    device = 'cpu'"
   ],
   "id": "c1644b6cf5236f0c",
   "outputs": [],
   "execution_count": 32
  },
  {
   "metadata": {
    "ExecuteTime": {
     "end_time": "2025-05-08T22:31:07.306763Z",
     "start_time": "2025-05-08T22:30:58.751366Z"
    }
   },
   "cell_type": "code",
   "source": [
    "from sentence_transformers import SentenceTransformer, util\n",
    "model = SentenceTransformer(\"sentence-transformers/all-MiniLM-L6-v2\")\n",
    "model.to(device)"
   ],
   "id": "1ebc3c122f4af29d",
   "outputs": [
    {
     "data": {
      "text/plain": [
       "SentenceTransformer(\n",
       "  (0): Transformer({'max_seq_length': 256, 'do_lower_case': False}) with Transformer model: BertModel \n",
       "  (1): Pooling({'word_embedding_dimension': 384, 'pooling_mode_cls_token': False, 'pooling_mode_mean_tokens': True, 'pooling_mode_max_tokens': False, 'pooling_mode_mean_sqrt_len_tokens': False, 'pooling_mode_weightedmean_tokens': False, 'pooling_mode_lasttoken': False, 'include_prompt': True})\n",
       "  (2): Normalize()\n",
       ")"
      ]
     },
     "execution_count": 33,
     "metadata": {},
     "output_type": "execute_result"
    }
   ],
   "execution_count": 33
  },
  {
   "metadata": {
    "ExecuteTime": {
     "end_time": "2025-05-08T22:31:27.177120Z",
     "start_time": "2025-05-08T22:31:07.316195Z"
    }
   },
   "cell_type": "code",
   "source": [
    "embeddings_jobs = model.encode(\n",
    "    [row['document'] for row in jobs_df.select('document').collect()],\n",
    "    convert_to_tensor=True\n",
    ")\n",
    "embeddings_resumes = model.encode(\n",
    "    [row['document'] for row in resumes_data.select('document').collect()],\n",
    "    convert_to_tensor=True\n",
    ")"
   ],
   "id": "f42dea87dd8d27d7",
   "outputs": [],
   "execution_count": 34
  },
  {
   "metadata": {
    "ExecuteTime": {
     "end_time": "2025-05-08T22:31:27.409936Z",
     "start_time": "2025-05-08T22:31:27.396849Z"
    }
   },
   "cell_type": "code",
   "source": "print(embeddings_jobs)",
   "id": "b71cc56a713b80d7",
   "outputs": [
    {
     "name": "stdout",
     "output_type": "stream",
     "text": [
      "tensor([[-0.0580, -0.0520,  0.0005,  ...,  0.0499,  0.0427,  0.0779],\n",
      "        [-0.0823, -0.0714,  0.0269,  ..., -0.0505,  0.0862,  0.0399],\n",
      "        [ 0.0224, -0.0077,  0.0264,  ...,  0.0237,  0.0235, -0.0256],\n",
      "        ...,\n",
      "        [-0.0228, -0.0752,  0.0177,  ...,  0.0706, -0.0169,  0.0230],\n",
      "        [-0.0164, -0.0023,  0.0318,  ...,  0.0087,  0.0952,  0.1183],\n",
      "        [-0.0460,  0.0266, -0.0279,  ...,  0.0249,  0.0665,  0.0026]],\n",
      "       device='cuda:0')\n"
     ]
    }
   ],
   "execution_count": 35
  },
  {
   "metadata": {
    "ExecuteTime": {
     "end_time": "2025-05-08T22:31:27.457459Z",
     "start_time": "2025-05-08T22:31:27.443456Z"
    }
   },
   "cell_type": "code",
   "source": "print(embeddings_resumes)",
   "id": "8a419b3c89c43c0e",
   "outputs": [
    {
     "name": "stdout",
     "output_type": "stream",
     "text": [
      "tensor([[-0.0420, -0.0260,  0.0759,  ..., -0.0024, -0.0427,  0.0188],\n",
      "        [-0.0635, -0.0208,  0.0059,  ..., -0.0233, -0.0286, -0.0031],\n",
      "        [-0.0112, -0.0931,  0.0154,  ..., -0.0584, -0.0306,  0.0789],\n",
      "        ...,\n",
      "        [-0.0685,  0.0030, -0.0437,  ..., -0.0824, -0.0959,  0.0250],\n",
      "        [-0.0363,  0.0127,  0.0204,  ..., -0.0549, -0.0619,  0.0059],\n",
      "        [-0.0516,  0.0011, -0.0252,  ..., -0.0066, -0.0225, -0.0190]],\n",
      "       device='cuda:0')\n"
     ]
    }
   ],
   "execution_count": 36
  },
  {
   "metadata": {},
   "cell_type": "markdown",
   "source": "## Similarity Cosine Calc",
   "id": "ebf53b0de86c293d"
  },
  {
   "metadata": {
    "ExecuteTime": {
     "end_time": "2025-05-08T22:31:45.126261Z",
     "start_time": "2025-05-08T22:31:27.490840Z"
    }
   },
   "cell_type": "code",
   "source": "jobs_df.limit(5).show(truncate=False)",
   "id": "e4c981a010f8852e",
   "outputs": [
    {
     "name": "stdout",
     "output_type": "stream",
     "text": [
      "+-----------------------------------------------------------------------------------------------------------------------------------------------------------------------------------------------------------------------------------------------------------------------------------------------------------------------------------------------------------------------------------------------------------------------------------------------------------------------------------------------------------------------------------------+---------------------------------+---------------------------------------+---------------------------------------------------------------------------------------------------------------------------------------------------------------------------------------------------------------------------------------------------------------------------------------------------------------------------------------------------------------------------------------------------------------------------------------------------------------------------------------+-----------------------------------------------------------------------------------------------------------------------------------------------------------------------------------------------------------------------------------------------------------------------------------------------------------------------------------------------------------------------------------------------------------------------------------------------------------------------------------------------------------------------------------------------------+-----------------------------------------------------------------------------------------------------------------------------------------------------------------------------------------------------------------------------------------------------------------------------------------------------------------------------------------------------------------------------------------------------------------------------------------------------------------------------------------------------------------------------------------------------+-----------------------------------------------------------------------------------------------------+-----------------------------------------------------------------------------------------------------------------------------------------------------------------------------------------------------------------------------------------------------------------------------------------------------------------------------------------------------------------------------------------------------------------------+\n",
      "|description                                                                                                                                                                                                                                                                                                                                                                                                                                                                                                                              |location                         |title                                  |document                                                                                                                                                                                                                                                                                                                                                                                                                                                                               |words_job                                                                                                                                                                                                                                                                                                                                                                                                                                                                                                                                            |words_clean                                                                                                                                                                                                                                                                                                                                                                                                                                                                                                                                          |words_ner                                                                                            |features_count                                                                                                                                                                                                                                                                                                                                                                                                         |\n",
      "+-----------------------------------------------------------------------------------------------------------------------------------------------------------------------------------------------------------------------------------------------------------------------------------------------------------------------------------------------------------------------------------------------------------------------------------------------------------------------------------------------------------------------------------------+---------------------------------+---------------------------------------+---------------------------------------------------------------------------------------------------------------------------------------------------------------------------------------------------------------------------------------------------------------------------------------------------------------------------------------------------------------------------------------------------------------------------------------------------------------------------------------+-----------------------------------------------------------------------------------------------------------------------------------------------------------------------------------------------------------------------------------------------------------------------------------------------------------------------------------------------------------------------------------------------------------------------------------------------------------------------------------------------------------------------------------------------------+-----------------------------------------------------------------------------------------------------------------------------------------------------------------------------------------------------------------------------------------------------------------------------------------------------------------------------------------------------------------------------------------------------------------------------------------------------------------------------------------------------------------------------------------------------+-----------------------------------------------------------------------------------------------------+-----------------------------------------------------------------------------------------------------------------------------------------------------------------------------------------------------------------------------------------------------------------------------------------------------------------------------------------------------------------------------------------------------------------------+\n",
      "|We are seeking a highly skilled Python Developer with strong experience in Django and RESTful APIs. The ideal candidate has a deep understanding of relational databases (PostgreSQL), unit testing, and CI/CD pipelines. You will also be responsible for system architecture decisions and optimizing performance of data-intensive applications. Required skills: Python, Django, Django REST Framework, PostgreSQL, Redis, Celery, PyTest, Docker, Git, GitHub Actions or Jenkins, AWS (EC2, S3, Lambda), Linux CLI, Swagger/OpenAPI.|Remote                           |Backend Developer (Python/Django)      |backend developer python django seeking highly skilled python developer strong experience django restful apis ideal candidate deep understanding relational databases postgresql unit testing ci cd pipelines also responsible system architecture decisions optimizing performance data intensive applications required skills python django django rest framework postgresql redis celery pytest docker git github actions jenkins aws ec2 s3 lambda linux cli swagger openapi remote|[backend, developer, python, django, seeking, highly, skilled, python, developer, strong, experience, django, restful, apis, ideal, candidate, deep, understanding, relational, databases, postgresql, unit, testing, ci, cd, pipelines, also, responsible, system, architecture, decisions, optimizing, performance, data, intensive, applications, required, skills, python, django, django, rest, framework, postgresql, redis, celery, pytest, docker, git, github, actions, jenkins, aws, ec2, s3, lambda, linux, cli, swagger, openapi, remote]|[backend, developer, python, django, seeking, highly, skilled, python, developer, strong, experience, django, restful, apis, ideal, candidate, deep, understanding, relational, databases, postgresql, unit, testing, ci, cd, pipelines, also, responsible, system, architecture, decisions, optimizing, performance, data, intensive, applications, required, skills, python, django, django, rest, framework, postgresql, redis, celery, pytest, docker, git, github, actions, jenkins, aws, ec2, s3, lambda, linux, cli, swagger, openapi, remote]|[python, django, postgresql, django, django, postgresql, pytest, jenkins, ec2, s3]                   |(313,[0,1,3,4,5,8,10,13,14,15,16,17,19,21,23,25,26,38,40,45,46,49,53,66,68,77,82,95,104,113,120,123,128,145,146,157,159,167,168,175,180,185,198,202,212,220,228,233,239,257,265,276,285,306],[1.0,1.0,3.0,1.0,2.0,1.0,1.0,1.0,1.0,1.0,4.0,1.0,1.0,1.0,2.0,1.0,1.0,1.0,1.0,1.0,1.0,1.0,1.0,1.0,1.0,1.0,1.0,1.0,1.0,1.0,1.0,1.0,1.0,1.0,1.0,1.0,1.0,1.0,1.0,1.0,1.0,1.0,1.0,1.0,1.0,1.0,1.0,1.0,1.0,1.0,1.0,1.0,1.0,1.0])|\n",
      "|We are looking for a Frontend Engineer to build scalable and accessible web applications using React, Redux, and TypeScript. You'll collaborate with designers and backend engineers to deliver polished, user-centered products and reusable components. Required skills: React, Redux, TypeScript, Styled Components, Tailwind CSS, RESTful APIs, GraphQL, Jest, React Testing Library, Webpack, Vite, Accessibility standards (WCAG), Responsive design.                                                                              |San Francisco, CA (Hybrid)       |Frontend Developer (React/TypeScript)  |frontend developer react typescript looking frontend engineer build scalable accessible web applications using react redux typescript ll collaborate designers backend engineers deliver polished user centered products reusable components required skills react redux typescript styled components tailwind css restful apis graphql jest react testing library webpack vite accessibility standards wcag responsive design san francisco ca hybrid                                 |[frontend, developer, react, typescript, looking, frontend, engineer, build, scalable, accessible, web, applications, using, react, redux, typescript, ll, collaborate, designers, backend, engineers, deliver, polished, user, centered, products, reusable, components, required, skills, react, redux, typescript, styled, components, tailwind, css, restful, apis, graphql, jest, react, testing, library, webpack, vite, accessibility, standards, wcag, responsive, design, san, francisco, ca, hybrid]                                       |[frontend, developer, react, typescript, looking, frontend, engineer, build, scalable, accessible, web, applications, using, react, redux, typescript, ll, collaborate, designers, backend, engineers, deliver, polished, user, centered, products, reusable, components, required, skills, react, redux, typescript, styled, components, tailwind, css, restful, apis, graphql, jest, react, testing, library, webpack, vite, accessibility, standards, wcag, responsive, design, san, francisco, ca, hybrid]                                       |[react, react redux, react redux, san francisco ca]                                                  |(313,[0,1,5,7,11,12,14,15,17,18,20,25,26,28,30,34,36,51,54,55,57,58,59,62,70,75,78,86,88,131,139,140,147,151,155,161,163,184,223,235,242,247,250,273,283,302,304],[1.0,1.0,1.0,1.0,1.0,1.0,1.0,1.0,1.0,1.0,4.0,1.0,1.0,2.0,1.0,3.0,2.0,1.0,1.0,1.0,2.0,1.0,1.0,1.0,1.0,1.0,1.0,1.0,1.0,1.0,1.0,1.0,1.0,1.0,1.0,1.0,1.0,1.0,1.0,1.0,1.0,1.0,1.0,1.0,1.0,1.0,1.0])                                                       |\n",
      "|Join our infrastructure team to automate and scale our cloud-native platform. You'll build and maintain CI/CD pipelines, manage Kubernetes clusters, and enforce security best practices. Required skills: Docker, Kubernetes, Helm, Terraform, Ansible, AWS (EKS, IAM, CloudWatch), GCP, Bash, Python or Go, ArgoCD or Flux, Prometheus, Grafana, monitoring and logging systems.                                                                                                                                                       |Berlin, Germany (Remote possible)|DevOps Engineer                        |devops engineer join infrastructure team automate scale cloud native platform ll build maintain ci cd pipelines manage kubernetes clusters enforce security best practices required skills docker kubernetes helm terraform ansible aws eks iam cloudwatch gcp bash python go argocd flux prometheus grafana monitoring logging systems berlin germany remote possible                                                                                                                 |[devops, engineer, join, infrastructure, team, automate, scale, cloud, native, platform, ll, build, maintain, ci, cd, pipelines, manage, kubernetes, clusters, enforce, security, best, practices, required, skills, docker, kubernetes, helm, terraform, ansible, aws, eks, iam, cloudwatch, gcp, bash, python, go, argocd, flux, prometheus, grafana, monitoring, logging, systems, berlin, germany, remote, possible]                                                                                                                             |[devops, engineer, join, infrastructure, team, automate, scale, cloud, native, platform, ll, build, maintain, ci, cd, pipelines, manage, kubernetes, clusters, enforce, security, best, practices, required, skills, docker, kubernetes, helm, terraform, ansible, aws, eks, iam, cloudwatch, gcp, bash, python, go, argocd, flux, prometheus, grafana, monitoring, logging, systems, berlin, germany, remote, possible]                                                                                                                             |[kubernetes clusters, docker kubernetes, terraform, iam cloudwatch, flux, prometheus, berlin germany]|(313,[0,1,3,7,8,9,10,12,13,18,19,21,22,27,42,47,48,60,61,63,65,69,74,82,90,91,93,125,134,138,142,162,173,191,192,201,203,210,214,224,225,262,264,288,290,295,309,312],[1.0,1.0,1.0,1.0,1.0,1.0,1.0,1.0,1.0,1.0,1.0,1.0,2.0,1.0,1.0,1.0,1.0,1.0,1.0,1.0,1.0,1.0,1.0,1.0,1.0,1.0,1.0,1.0,1.0,1.0,1.0,1.0,1.0,1.0,1.0,1.0,1.0,1.0,1.0,1.0,1.0,1.0,1.0,1.0,1.0,1.0,1.0,1.0])                                               |\n",
      "|We’re hiring a Full Stack Developer to help build features end-to-end across our digital product. Backend logic with Node.js and Express, frontend components in Vue.js. Required skills: Node.js, Express.js, Vue.js 3, Vuex, Composition API, MongoDB, PostgreSQL, RESTful API design, Swagger/OpenAPI, WebSockets, JWT, OAuth2, Jest, Cypress, Docker.                                                                                                                                                                                |Toronto, ON (Remote)             |Full Stack Developer (Node.js + Vue.js)|full stack developer node js vue js re hiring full stack developer help build features end end across digital product backend logic node js express frontend components vue js required skills node js express js vue js vuex composition api mongodb postgresql restful api design swagger openapi websockets jwt oauth2 jest cypress docker toronto remote                                                                                                                           |[full, stack, developer, node, js, vue, js, re, hiring, full, stack, developer, help, build, features, end, end, across, digital, product, backend, logic, node, js, express, frontend, components, vue, js, required, skills, node, js, express, js, vue, js, vuex, composition, api, mongodb, postgresql, restful, api, design, swagger, openapi, websockets, jwt, oauth2, jest, cypress, docker, toronto, remote]                                                                                                                                 |[full, stack, developer, node, js, vue, js, re, hiring, full, stack, developer, help, build, features, end, end, across, digital, product, backend, logic, node, js, express, frontend, components, vue, js, required, skills, node, js, express, js, vue, js, 3, vuex, composition, api, mongodb, postgresql, restful, api, design, swagger, openapi, websockets, jwt, oauth2, jest, cypress, docker, toronto, remote]                                                                                                                              |[vue, mongodb, swagger, jwt, oauth2, jest cypress, toronto]                                          |(313,[0,1,2,5,6,7,8,10,11,15,23,25,28,31,32,33,35,36,40,44,56,62,66,67,71,83,101,108,136,160,172,204,215,232,238,260,292,303,305,308],[1.0,1.0,7.0,2.0,2.0,1.0,1.0,1.0,1.0,1.0,1.0,1.0,1.0,2.0,3.0,2.0,3.0,1.0,1.0,2.0,1.0,1.0,1.0,1.0,1.0,2.0,1.0,1.0,1.0,1.0,1.0,1.0,1.0,1.0,1.0,1.0,1.0,1.0,1.0,1.0])                                                                                                               |\n",
      "|Join our analytics team to extract insights from customer data, build machine learning models, and support data-driven decisions. You'll work with big data and real-time analytics systems. Required skills: Python (Pandas, NumPy, scikit-learn), SQL, BigQuery, Data visualization (Tableau, Matplotlib, Seaborn), A/B testing, Jupyter, Airflow, dbt, MLflow, Git.                                                                                                                                                                   |New York, NY                     |Data Scientist                         |data scientist join analytics team extract insights customer data build machine learning models support data driven decisions ll work big data real time analytics systems required skills python pandas numpy scikit learn sql bigquery data visualization tableau matplotlib seaborn testing jupyter airflow dbt mlflow git new york ny                                                                                                                                              |[data, scientist, join, analytics, team, extract, insights, customer, data, build, machine, learning, models, support, data, driven, decisions, ll, work, big, data, real, time, analytics, systems, required, skills, python, pandas, numpy, scikit, learn, sql, bigquery, data, visualization, tableau, matplotlib, seaborn, testing, jupyter, airflow, dbt, mlflow, git, new, york, ny]                                                                                                                                                           |[data, scientist, join, analytics, team, extract, insights, customer, data, build, machine, learning, models, support, data, driven, decisions, ll, work, big, data, real, time, analytics, systems, required, skills, python, pandas, numpy, scikit, learn, sql, bigquery, data, visualization, tableau, matplotlib, seaborn, b, testing, jupyter, airflow, dbt, mlflow, git, new, york, ny]                                                                                                                                                        |[python, pandas, numpy, matplotlib, seaborn, jupyter, mlflow, new york]                              |(313,[0,1,3,4,7,12,14,27,37,43,45,46,50,60,61,64,73,76,79,80,94,107,116,118,119,121,141,150,153,169,178,179,187,193,195,244,245,248,255,267,268,294,298,307],[1.0,1.0,1.0,5.0,1.0,1.0,1.0,1.0,1.0,1.0,1.0,1.0,1.0,1.0,1.0,1.0,1.0,1.0,2.0,1.0,1.0,1.0,1.0,1.0,1.0,1.0,1.0,1.0,1.0,1.0,1.0,1.0,1.0,1.0,1.0,1.0,1.0,1.0,1.0,1.0,1.0,1.0,1.0,1.0])                                                                        |\n",
      "+-----------------------------------------------------------------------------------------------------------------------------------------------------------------------------------------------------------------------------------------------------------------------------------------------------------------------------------------------------------------------------------------------------------------------------------------------------------------------------------------------------------------------------------------+---------------------------------+---------------------------------------+---------------------------------------------------------------------------------------------------------------------------------------------------------------------------------------------------------------------------------------------------------------------------------------------------------------------------------------------------------------------------------------------------------------------------------------------------------------------------------------+-----------------------------------------------------------------------------------------------------------------------------------------------------------------------------------------------------------------------------------------------------------------------------------------------------------------------------------------------------------------------------------------------------------------------------------------------------------------------------------------------------------------------------------------------------+-----------------------------------------------------------------------------------------------------------------------------------------------------------------------------------------------------------------------------------------------------------------------------------------------------------------------------------------------------------------------------------------------------------------------------------------------------------------------------------------------------------------------------------------------------+-----------------------------------------------------------------------------------------------------+-----------------------------------------------------------------------------------------------------------------------------------------------------------------------------------------------------------------------------------------------------------------------------------------------------------------------------------------------------------------------------------------------------------------------+\n",
      "\n"
     ]
    }
   ],
   "execution_count": 37
  },
  {
   "metadata": {
    "ExecuteTime": {
     "end_time": "2025-05-08T22:31:52.489084Z",
     "start_time": "2025-05-08T22:31:45.206773Z"
    }
   },
   "cell_type": "code",
   "source": "resumes_data.limit(5).show(truncate=False)",
   "id": "2ae5f05db21677d",
   "outputs": [
    {
     "name": "stdout",
     "output_type": "stream",
     "text": [
      "+-----------------------------------------------------------------------------------------------------------------------------------------------------------------------------------------------------------------------------------------------------------------------------------------------------------------------------------------------------------------------------------------------------------------------------------------------------------------------------------------------------------------------------------------------------------------------------------------------------------------------------------------------------------------------------------------------------------------------------------------------------------------------------------------------------------------------------------------------------------------------------------------------------------------------------------------------------------------------------------------------------------------------------------------------------------------------------------------------------------------------------------------------------------------------------------------------------------------------------------------------+-----------------------------------------------------------------------------------------------------------------------------------------------------------------------------------------------------------------------------------------------------------------------------------------------------------------------------------------------------------------------------------------------------------------------------------------------------------------------------------------------------------------------------------------------------------------------------------------------------------------------------------------------------------------------------------------------------------------------------------------------------------------------------------------------------------------------------------------------------------------------------------------------------------------------------------------------------------------------------------------------------------------------------------------------------------------------------------------------------------------------------------------------+--------------------------------------------------------------------------------------------------------------------------------------------------------------------------------------------------------------------------------------------------------------------------------------------------------------------------------------------------------------------------------------------------------------------------------------------------------------------------------------------------------------------------------------------------------------------------------------------------------------------------------------------------------------------------------------------------------------------------------------------------------------------------------------------------------------------------------------------------------------------------------------------------------------------------------------------------------------------------------------------------------------------------------------------------------------------------------------------------------------------------------------------------------------+------------------------------------------------------------------------------------------------------------------------------------------+-------------------------------------------------------------------------------------------------------------------------------------------------------------------------------------------------------------------------------------------------------------------------------------------------------------------------------------------------------------------------------------------------------------------------------------------------------------------------------------------------------------------------------------------------------------------------------------------------------------------------------------------------------------------------------------------------------------------------------------------------------------------------------------------------------------------------------------------------------------------------------------------------------------------------------------+-----------------------------------------------------------------------------------------------------------------------------------------------------------------------------------------------------------------------------------------------------------------------------------------------------------------------------------------------------------------------------------------------------------------------------------------------------------------------------------------------------------------------------------------------------------------------------------------------------------------------------------------------------------------------------------------------------------------------------------------------------------------------------------------------------------------------------------------------------------------------------------------------------------------------------------------------------------------------------------------------------------------+\n",
      "|text_resume                                                                                                                                                                                                                                                                                                                                                                                                                                                                                                                                                                                                                                                                                                                                                                                                                                                                                                                                                                                                                                                                                                                                                                                                                                    |words_resume                                                                                                                                                                                                                                                                                                                                                                                                                                                                                                                                                                                                                                                                                                                                                                                                                                                                                                                                                                                                                                                                                                                                   |words_clean                                                                                                                                                                                                                                                                                                                                                                                                                                                                                                                                                                                                                                                                                                                                                                                                                                                                                                                                                                                                                                                                                                                                                   |words_ner                                                                                                                                 |features_count                                                                                                                                                                                                                                                                                                                                                                                                                                                                                                                                                                                                                                                                                                                                                                                                                                                                                                                       |document                                                                                                                                                                                                                                                                                                                                                                                                                                                                                                                                                                                                                                                                                                                                                                                                                                                                                                                                                                                                         |\n",
      "+-----------------------------------------------------------------------------------------------------------------------------------------------------------------------------------------------------------------------------------------------------------------------------------------------------------------------------------------------------------------------------------------------------------------------------------------------------------------------------------------------------------------------------------------------------------------------------------------------------------------------------------------------------------------------------------------------------------------------------------------------------------------------------------------------------------------------------------------------------------------------------------------------------------------------------------------------------------------------------------------------------------------------------------------------------------------------------------------------------------------------------------------------------------------------------------------------------------------------------------------------+-----------------------------------------------------------------------------------------------------------------------------------------------------------------------------------------------------------------------------------------------------------------------------------------------------------------------------------------------------------------------------------------------------------------------------------------------------------------------------------------------------------------------------------------------------------------------------------------------------------------------------------------------------------------------------------------------------------------------------------------------------------------------------------------------------------------------------------------------------------------------------------------------------------------------------------------------------------------------------------------------------------------------------------------------------------------------------------------------------------------------------------------------+--------------------------------------------------------------------------------------------------------------------------------------------------------------------------------------------------------------------------------------------------------------------------------------------------------------------------------------------------------------------------------------------------------------------------------------------------------------------------------------------------------------------------------------------------------------------------------------------------------------------------------------------------------------------------------------------------------------------------------------------------------------------------------------------------------------------------------------------------------------------------------------------------------------------------------------------------------------------------------------------------------------------------------------------------------------------------------------------------------------------------------------------------------------+------------------------------------------------------------------------------------------------------------------------------------------+-------------------------------------------------------------------------------------------------------------------------------------------------------------------------------------------------------------------------------------------------------------------------------------------------------------------------------------------------------------------------------------------------------------------------------------------------------------------------------------------------------------------------------------------------------------------------------------------------------------------------------------------------------------------------------------------------------------------------------------------------------------------------------------------------------------------------------------------------------------------------------------------------------------------------------------+-----------------------------------------------------------------------------------------------------------------------------------------------------------------------------------------------------------------------------------------------------------------------------------------------------------------------------------------------------------------------------------------------------------------------------------------------------------------------------------------------------------------------------------------------------------------------------------------------------------------------------------------------------------------------------------------------------------------------------------------------------------------------------------------------------------------------------------------------------------------------------------------------------------------------------------------------------------------------------------------------------------------+\n",
      "|One97 Communications Limited \\nData Scientist Jan 2019 to Till Date \\nDetect important information from images and redact\\nrequired fields. YOLO CNN Object-detection, OCR\\nInsights, find anomaly or performance drop in all\\npossible sub-space. \\nPredict the Insurance claim probability. Estimate the\\npremium amount to be charged\\nB.Tech(Computer Science) from SGBAU university in\\n2017. \\nM.Tech (Computer Science Engineering) from Indian\\nInstitute of Technology (IIT), Kanpur in 2019\\nWORK EXPERIENCE\\nEDUCATION\\nMACY WILLIAMS\\nDATA SCIENTIST\\nData Scientist working  on problems related to market research and customer analysis. I want to expand my arsenal of\\napplication building and work on different kinds of problems. Looking for a role where I can work with a coordinative team\\nand exchange knowledge during the process.\\nJava, C++, Python, Machine Learning, Algorithms, Natural Language Processing, Deep Learning, Computer Vision, Pattern\\nRecognition, Data Science, Data Analysis, Software Engineer, Data Analyst, C, PySpark, Kubeflow.\\nABOUT\\nSKILLS\\nCustomer browsing patterns.\\nPredict potential RTO(Return To Origin) orders for e-\\ncommerce.\\nObject Detection.\\nPROJECTS\\nACTIVITES\\n|[one97, communications, limited, data, scientist, jan, 2019, till, date, detect, important, information, images, redact, required, fields, yolo, cnn, object, detection, ocr, insights, find, anomaly, performance, drop, possible, sub, space, predict, insurance, claim, probability, estimate, premium, amount, charged, tech, computer, science, sgbau, university, 2017, tech, computer, science, engineering, indian, institute, technology, iit, kanpur, 2019, work, experience, education, macy, williams, data, scientist, data, scientist, working, problems, related, market, research, customer, analysis, want, expand, arsenal, application, building, work, different, kinds, problems, looking, role, work, coordinative, team, exchange, knowledge, process, java, python, machine, learning, algorithms, natural, language, processing, deep, learning, computer, vision, pattern, recognition, data, science, data, analysis, software, engineer, data, analyst, pyspark, kubeflow, skills, customer, browsing, patterns, predict, potential, rto, return, origin, orders, commerce, object, detection, projects, activites]|[one97, communications, limited, data, scientist, jan, 2019, till, date, detect, important, information, images, redact, required, fields, yolo, cnn, object, detection, ocr, insights, find, anomaly, performance, drop, possible, sub, space, predict, insurance, claim, probability, estimate, premium, amount, charged, b, tech, computer, science, sgbau, university, 2017, m, tech, computer, science, engineering, indian, institute, technology, iit, kanpur, 2019, work, experience, education, macy, williams, data, scientist, data, scientist, working, problems, related, market, research, customer, analysis, want, expand, arsenal, application, building, work, different, kinds, problems, looking, role, work, coordinative, team, exchange, knowledge, process, java, c, python, machine, learning, algorithms, natural, language, processing, deep, learning, computer, vision, pattern, recognition, data, science, data, analysis, software, engineer, data, analyst, c, pyspark, kubeflow, skills, customer, browsing, patterns, predict, potential, rto, return, origin, orders, e, commerce, object, detection, projects, activites]|[one97 communications, jan 2019, yolo cnn, sgbau university, 2017, indian institute, 2019, macy williams, arsenal, java, pyspark kubeflow]|(24174,[0,2,3,4,6,8,9,10,15,19,21,30,34,39,45,52,53,64,82,83,88,100,112,127,129,135,137,140,157,172,202,205,215,228,241,244,250,256,301,318,322,338,342,357,465,476,477,528,625,672,714,715,730,735,905,1022,1123,1130,1168,1404,1557,1581,1609,1760,1763,1912,1924,2048,2152,2173,2205,2289,2481,2625,2687,2803,3087,3453,3548,4075,4551,4570,4631,5578,5687,5740,5793,6566,6806,6875,6971,7804,7885,8102,8894,9053,9454,10584,11144,11223,12155,13926,16841,18677,19474,20659,23051],[1.0,3.0,1.0,1.0,1.0,1.0,1.0,1.0,1.0,2.0,1.0,1.0,1.0,3.0,1.0,1.0,1.0,6.0,1.0,1.0,2.0,1.0,1.0,2.0,1.0,1.0,1.0,3.0,1.0,1.0,1.0,2.0,2.0,1.0,1.0,1.0,1.0,1.0,1.0,1.0,1.0,1.0,1.0,1.0,1.0,1.0,1.0,2.0,1.0,1.0,1.0,1.0,1.0,1.0,1.0,1.0,1.0,1.0,2.0,1.0,1.0,1.0,1.0,1.0,1.0,1.0,2.0,1.0,1.0,1.0,1.0,2.0,1.0,1.0,1.0,1.0,1.0,1.0,1.0,3.0,1.0,1.0,1.0,1.0,1.0,2.0,1.0,1.0,1.0,1.0,1.0,1.0,1.0,1.0,1.0,1.0,1.0,1.0,1.0,1.0,1.0,1.0,1.0,1.0,1.0,1.0,1.0])|one97 communications limited data scientist jan 2019 till date detect important information images redact required fields yolo cnn object detection ocr insights find anomaly performance drop possible sub space predict insurance claim probability estimate premium amount charged tech computer science sgbau university 2017 tech computer science engineering indian institute technology iit kanpur 2019 work experience education macy williams data scientist data scientist working problems related market research customer analysis want expand arsenal application building work different kinds problems looking role work coordinative team exchange knowledge process java python machine learning algorithms natural language processing deep learning computer vision pattern recognition data science data analysis software engineer data analyst pyspark kubeflow skills customer browsing patterns predict potential rto return origin orders commerce object detection projects activites|\n",
      "|KEISUKE YAMAMOTO\\nPROFILE\\nProfessional with 3 months of experience in Web\\nDevelopment and interested in ML.\\nSKILLS\\nWeb Developer, Data Analyst, Web Development,\\nMachine Learning, Python, FrontEnd, HTML,\\nJavascript, PHP, CSS, MySQL, Java, Data\\nStructures, OOP, Algorithms, C.\\nEXPERIENCE\\nSAI Technologies, \\nIntern, Aug 2020 to Till Date \\n \\nWorking at a cybersecurity company as an intern.\\nWorking on different projects which need python,\\ncybersecurity, HTML, CSS, javascript, java, and\\nDocker containers as main skills. \\nEDUCATION\\nB.Tech(Computers) from Shri Guru\\nGobind Singhji College of Engineering\\nand Technology, Nanded in 2019 \\nJ U N I O R  S O F T W A R E  D E V E L O P E R\\nACTIVITIES\\nData Analyst, \\nPython Programming.\\nPROJECTS\\nCharacter Detection using SVM\\nClassification.\\n                                                                                                                                                                                                                                                                                                                                                                                                       |[keisuke, yamamoto, profile, professional, months, experience, web, development, interested, ml, skills, web, developer, data, analyst, web, development, machine, learning, python, frontend, html, javascript, php, css, mysql, java, data, structures, oop, algorithms, experience, sai, technologies, intern, aug, 2020, till, date, working, cybersecurity, company, intern, working, different, projects, need, python, cybersecurity, html, css, javascript, java, docker, containers, main, skills, education, tech, computers, shri, guru, gobind, singhji, college, engineering, technology, nanded, 2019, activities, data, analyst, python, programming, projects, character, detection, using, svm, classification]                                                                                                                                                                                                                                                                                                                                                                                                               |[keisuke, yamamoto, profile, professional, 3, months, experience, web, development, interested, ml, skills, web, developer, data, analyst, web, development, machine, learning, python, frontend, html, javascript, php, css, mysql, java, data, structures, oop, algorithms, c, experience, sai, technologies, intern, aug, 2020, till, date, working, cybersecurity, company, intern, working, different, projects, need, python, cybersecurity, html, css, javascript, java, docker, containers, main, skills, education, b, tech, computers, shri, guru, gobind, singhji, college, engineering, technology, nanded, 2019, j, u, n, o, r, o, f, w, r, e, d, e, v, e, l, o, p, e, r, activities, data, analyst, python, programming, projects, character, detection, using, svm, classification]                                                                                                                                                                                                                                                                                                                                                            |[keisuke yamamoto, months, sai technologies, aug 2020, gobind singhji, 2019]                                                              |(24174,[0,3,4,6,8,16,17,19,25,26,30,34,37,47,52,53,59,64,82,85,87,88,91,93,95,132,135,136,186,197,215,229,256,307,351,357,413,434,437,532,536,589,661,672,730,808,905,951,1067,1159,1168,1215,1251,1467,1620,1874,1902,2152,2175,2289,2507,2521,2875,4323,5660,6975,7191,8901,8941,10454,12495,16820,17032,18576,21122,21582,24121],[2.0,2.0,4.0,1.0,1.0,1.0,3.0,1.0,1.0,1.0,2.0,1.0,1.0,1.0,2.0,1.0,1.0,3.0,1.0,2.0,1.0,1.0,3.0,1.0,1.0,1.0,1.0,1.0,1.0,1.0,1.0,1.0,1.0,1.0,1.0,1.0,1.0,1.0,1.0,3.0,1.0,1.0,2.0,2.0,2.0,1.0,3.0,1.0,2.0,1.0,1.0,1.0,1.0,1.0,2.0,1.0,1.0,1.0,1.0,1.0,1.0,2.0,1.0,1.0,1.0,1.0,1.0,1.0,1.0,2.0,1.0,1.0,1.0,1.0,1.0,1.0,1.0])                                                                                                                                                                                                                                                                           |keisuke yamamoto profile professional months experience web development interested ml skills web developer data analyst web development machine learning python frontend html javascript php css mysql java data structures oop algorithms experience sai technologies intern aug 2020 till date working cybersecurity company intern working different projects need python cybersecurity html css javascript java docker containers main skills education tech computers shri guru gobind singhji college engineering technology nanded 2019 activities data analyst python programming projects character detection using svm classification                                                                                                                                                                                                                                                                                                                                                                  |\n",
      "|Stella Thatcher\\nA S S O C I A T E  M A R K E T  A N A L Y S T\\nExecutive Profile\\nI am a market research specialist with a\\ngrasp of machine learning and looking for\\na deeper dive into the career of being a\\nprofessional machine learning engineer.\\nOther Activities\\nCertified Python Developer\\nProjects\\nStock Market Analyzer.\\nSkills\\nResearch Associate, Business Analyst,\\nBusiness Analytics, Data Mining, Data\\nModeling, Predictive Analysis, Business\\nIntelligence, Machine Learning, Market\\nResearch, Customer Engagement, Risk\\nManagement, Retention, Audience, Python.\\nWork Experience\\nKripa Infotech \\nAssociate Market Research Analyst Intern, Apr 2020 - Sep 2020 \\nWorked with clients to get an overall idea of how a product is\\nperceived by a target audience. Focused on large groups of data both\\nstructured and unstructered for solutions. \\nEducation\\nB.Tech(Mechanical) Bhavleesh Duggar College, Nasik 2020\\n                                                                                                                                                                                                                                                                                     |[stella, thatcher, executive, profile, market, research, specialist, grasp, machine, learning, looking, deeper, dive, career, professional, machine, learning, engineer, activities, certified, python, developer, projects, stock, market, analyzer, skills, research, associate, business, analyst, business, analytics, data, mining, data, modeling, predictive, analysis, business, intelligence, machine, learning, market, research, customer, engagement, risk, management, retention, audience, python, work, experience, kripa, infotech, associate, market, research, analyst, intern, apr, 2020, sep, 2020, worked, clients, get, overall, idea, product, perceived, target, audience, focused, large, groups, data, structured, unstructered, solutions, education, tech, mechanical, bhavleesh, duggar, college, nasik, 2020]                                                                                                                                                                                                                                                                                                    |[stella, thatcher, o, c, e, m, r, k, e, n, l, y, executive, profile, market, research, specialist, grasp, machine, learning, looking, deeper, dive, career, professional, machine, learning, engineer, activities, certified, python, developer, projects, stock, market, analyzer, skills, research, associate, business, analyst, business, analytics, data, mining, data, modeling, predictive, analysis, business, intelligence, machine, learning, market, research, customer, engagement, risk, management, retention, audience, python, work, experience, kripa, infotech, associate, market, research, analyst, intern, apr, 2020, sep, 2020, worked, clients, get, overall, idea, product, perceived, target, audience, focused, large, groups, data, structured, unstructered, solutions, education, b, tech, mechanical, bhavleesh, duggar, college, nasik, 2020]                                                                                                                                                                                                                                                                                  |[stella thatcher, kripa infotech, apr 2020 sep 2020, mechanical bhavleesh duggar college, 2020]                                           |(24174,[0,2,3,4,8,13,15,16,17,19,21,27,37,52,53,54,64,71,88,91,93,95,119,127,132,136,147,202,205,208,215,256,291,296,301,369,476,591,606,607,727,730,746,749,808,873,904,905,958,1062,1067,1113,1331,1406,1520,1699,1702,1821,1902,2193,2351,2536,2743,3885,4301,4388,4552,5069,5382,7881,11089,13536,16087,17515,18483,20459,21951,22625,22657],[1.0,1.0,1.0,2.0,1.0,1.0,1.0,1.0,1.0,1.0,1.0,1.0,1.0,1.0,1.0,1.0,3.0,1.0,1.0,1.0,1.0,1.0,3.0,1.0,1.0,1.0,1.0,4.0,1.0,1.0,3.0,3.0,1.0,1.0,1.0,1.0,4.0,1.0,1.0,1.0,1.0,2.0,1.0,1.0,1.0,1.0,1.0,2.0,1.0,1.0,1.0,2.0,1.0,1.0,1.0,1.0,1.0,1.0,3.0,1.0,1.0,1.0,1.0,1.0,1.0,1.0,1.0,1.0,1.0,2.0,1.0,1.0,1.0,1.0,1.0,1.0,1.0,1.0,1.0])                                                                                                                                                                                                                                                      |stella thatcher executive profile market research specialist grasp machine learning looking deeper dive career professional machine learning engineer activities certified python developer projects stock market analyzer skills research associate business analyst business analytics data mining data modeling predictive analysis business intelligence machine learning market research customer engagement risk management retention audience python work experience kripa infotech associate market research analyst intern apr 2020 sep 2020 worked clients get overall idea product perceived target audience focused large groups data structured unstructered solutions education tech mechanical bhavleesh duggar college nasik 2020                                                                                                                                                                                                                                                                |\n",
      "|P R O F I L E\\nSoftware developer with a niche towards end to end machine learning projects.\\nMotivated towards learning, solving and producing better results. \\nKLN SOLUTIONS \\nJUNIOR DATA EVANGELIST, JULY 2019 - TILL DATE\\nBuilding applications and exploring data and its use over different\\nmanagement solutions.\\nNOLAN DRUCKS\\nS K I L L S\\nData Manipulation, Data Mining,\\nPython, SQL, R Programming,\\nPowerBI, Tableau, Machine\\nLearning, PySpark, Azure\\nDatabricks, AWS.\\nE X P E R I E N C E\\nE D U C A T I O N\\nB.TECH(INSTRUMENTATION), BABURAO PATIL COLLEGE AND\\nUNIVERSITY, AURANGABAD, 2019.\\nD A T A  D E S I G N E R\\nP R O J E C T S\\nLeveraged NLTK, Spacy, Fast text\\nlibraries to perform all kinds of\\nNLP operations including but not\\nlimited to cleaning, stemming,\\nlemmatization, word encoding,\\netc.\\nA C T I V I T I E S  A N D  A W A R D S\\nINTRODUCTION TO DATA ONTOLOGY.\\nJB MANAGEMENT \\nSOFTWARE DEVELOPER INTERN, JAN 2019 - JUN 2019\\nDevelopment of a python module to assist OCR models.\\n                                                                                                                                                                                                 |[software, developer, niche, towards, end, end, machine, learning, projects, motivated, towards, learning, solving, producing, better, results, kln, solutions, junior, data, evangelist, july, 2019, till, date, building, applications, exploring, data, use, different, management, solutions, nolan, drucks, data, manipulation, data, mining, python, sql, programming, powerbi, tableau, machine, learning, pyspark, azure, databricks, aws, tech, instrumentation, baburao, patil, college, university, aurangabad, 2019, leveraged, nltk, spacy, fast, text, libraries, perform, kinds, nlp, operations, including, limited, cleaning, stemming, lemmatization, word, encoding, etc, introduction, data, ontology, jb, management, software, developer, intern, jan, 2019, jun, 2019, development, python, module, assist, ocr, models]                                                                                                                                                                                                                                                                                                |[p, r, o, f, l, e, software, developer, niche, towards, end, end, machine, learning, projects, motivated, towards, learning, solving, producing, better, results, kln, solutions, junior, data, evangelist, july, 2019, till, date, building, applications, exploring, data, use, different, management, solutions, nolan, drucks, k, l, l, data, manipulation, data, mining, python, sql, r, programming, powerbi, tableau, machine, learning, pyspark, azure, databricks, aws, e, x, p, e, r, e, n, c, e, e, d, u, c, o, n, b, tech, instrumentation, baburao, patil, college, university, aurangabad, 2019, d, d, e, g, n, e, r, p, r, o, j, e, c, leveraged, nltk, spacy, fast, text, libraries, perform, kinds, nlp, operations, including, limited, cleaning, stemming, lemmatization, word, encoding, etc, c, v, e, n, d, w, r, d, introduction, data, ontology, jb, management, software, developer, intern, jan, 2019, jun, 2019, development, python, module, assist, ocr, models]                                                                                                                                                                  |[kln, july 2019, nolan drucks, baburao patil college university, aurangabad, 2019, nltk spacy, jan 2019 jun 2019]                         |(24174,[4,8,9,13,17,19,25,34,37,52,59,64,83,85,87,88,91,93,112,123,132,135,141,147,156,197,215,226,241,256,307,318,327,328,343,344,351,357,369,413,421,456,500,557,589,610,711,717,765,808,820,905,945,1008,1040,1067,1168,1271,1291,1426,1436,1699,2390,2803,3033,3197,3320,3882,4088,5195,5217,5578,5835,6106,7506,7885,8133,8166,8765,9385,10486,10737,10943,11588,11848,12365,13319,17390,17645,20282,20456,22145,23933,24152],[10.0,1.0,1.0,2.0,3.0,4.0,3.0,1.0,1.0,1.0,1.0,5.0,2.0,1.0,5.0,1.0,6.0,3.0,1.0,1.0,4.0,1.0,1.0,1.0,1.0,1.0,3.0,1.0,1.0,2.0,1.0,1.0,1.0,1.0,1.0,2.0,1.0,1.0,2.0,1.0,1.0,1.0,1.0,2.0,1.0,1.0,1.0,1.0,1.0,2.0,1.0,2.0,1.0,1.0,1.0,1.0,4.0,1.0,1.0,1.0,1.0,1.0,1.0,1.0,1.0,1.0,1.0,1.0,1.0,1.0,1.0,1.0,1.0,1.0,1.0,1.0,1.0,1.0,1.0,1.0,1.0,1.0,1.0,1.0,1.0,1.0,1.0,1.0,1.0,1.0,1.0,1.0,1.0,1.0])                                                                                                       |software developer niche towards end end machine learning projects motivated towards learning solving producing better results kln solutions junior data evangelist july 2019 till date building applications exploring data use different management solutions nolan drucks data manipulation data mining python sql programming powerbi tableau machine learning pyspark azure databricks aws tech instrumentation baburao patil college university aurangabad 2019 leveraged nltk spacy fast text libraries perform kinds nlp operations including limited cleaning stemming lemmatization word encoding etc introduction data ontology jb management software developer intern jan 2019 jun 2019 development python module assist ocr models                                                                                                                                                                                                                                                                 |\n",
      "|KELSEY STENS\\nS O F T W A R E  D E V E L O P E R ( M A C H I N E  L E A R N I N G )\\nSKILLS\\nSoftware Engineer, Data Analyst,\\nMachine Learning, Text Analytics,\\nSoftware Development, Object\\nOriented Programming, Pandas,\\nNumpy, Java, Python, SpringBoot,\\nLaravel.\\nEDUCATION\\nB.Tech (ECE) Dr. Jagjiban Rao Engineering College, 2019\\nPERSONAL PROFILE\\nSoftware developer focused in the areas of\\nMachine learning application development.\\nMotivated to learn, grow and excel my\\nexperience by challenging myself.\\nWORK BACKGROUND\\nKLP Technology Solutions \\nSoftware Engineer, Jan 2019 - till date \\nBuilt predictive and decision models using machine learning\\nalgorithms for various business study cases with feature\\nengineering and evaluation methods.\\nOTHER ACTIVITIES\\nOnDevice Machine Learning \\nUI/UX development\\nPROJECTS\\nBuilt predictive and decision models\\nusing machine learning algorithms.\\nDeveloped and integrated the UI\\ncomponents with HMI framework for\\nHead Up Display.\\n                                                                                                                                                                                                                |[kelsey, stens, skills, software, engineer, data, analyst, machine, learning, text, analytics, software, development, object, oriented, programming, pandas, numpy, java, python, springboot, laravel, education, tech, ece, dr, jagjiban, rao, engineering, college, 2019, personal, profile, software, developer, focused, areas, machine, learning, application, development, motivated, learn, grow, excel, experience, challenging, work, background, klp, technology, solutions, software, engineer, jan, 2019, till, date, built, predictive, decision, models, using, machine, learning, algorithms, various, business, study, cases, feature, engineering, evaluation, methods, activities, ondevice, machine, learning, ui, ux, development, projects, built, predictive, decision, models, using, machine, learning, algorithms, developed, integrated, ui, components, hmi, framework, head, display]                                                                                                                                                                                                                              |[kelsey, stens, o, f, w, r, e, d, e, v, e, l, o, p, e, r, m, c, h, n, e, l, e, r, n, n, g, skills, software, engineer, data, analyst, machine, learning, text, analytics, software, development, object, oriented, programming, pandas, numpy, java, python, springboot, laravel, education, b, tech, ece, dr, jagjiban, rao, engineering, college, 2019, personal, profile, software, developer, focused, areas, machine, learning, application, development, motivated, learn, grow, excel, experience, challenging, work, background, klp, technology, solutions, software, engineer, jan, 2019, till, date, built, predictive, decision, models, using, machine, learning, algorithms, various, business, study, cases, feature, engineering, evaluation, methods, activities, ondevice, machine, learning, ui, ux, development, projects, built, predictive, decision, models, using, machine, learning, algorithms, developed, integrated, ui, components, hmi, framework, head, display]                                                                                                                                                               |[kelsey stens, pandas, numpy, springboot, ece dr, engineering college, 2019, jan 2019]                                                    |(24174,[0,2,3,4,6,8,15,17,19,21,25,34,37,52,53,58,64,76,82,83,85,86,87,88,91,93,95,119,132,135,136,141,186,189,197,199,215,228,256,260,318,321,345,351,367,369,413,421,451,520,577,589,657,672,730,743,808,818,905,985,1014,1040,1086,1168,1196,1273,1331,1702,1821,1924,1962,2144,2152,3003,3033,3081,3644,3859,3919,4366,5784,6023,7308,8886,14624,17988,18439,21886,22507,22841],[1.0,1.0,1.0,6.0,2.0,1.0,2.0,2.0,1.0,1.0,1.0,1.0,1.0,1.0,1.0,1.0,1.0,1.0,1.0,4.0,3.0,1.0,1.0,1.0,3.0,2.0,1.0,1.0,3.0,1.0,1.0,1.0,2.0,1.0,1.0,1.0,5.0,1.0,5.0,1.0,1.0,1.0,1.0,1.0,1.0,1.0,1.0,1.0,1.0,1.0,1.0,1.0,1.0,1.0,1.0,1.0,1.0,1.0,1.0,1.0,1.0,2.0,2.0,2.0,1.0,2.0,1.0,1.0,2.0,1.0,1.0,1.0,2.0,1.0,1.0,1.0,1.0,1.0,1.0,1.0,1.0,2.0,1.0,1.0,1.0,1.0,1.0,1.0,1.0,1.0])                                                                                                                                                                       |kelsey stens skills software engineer data analyst machine learning text analytics software development object oriented programming pandas numpy java python springboot laravel education tech ece dr jagjiban rao engineering college 2019 personal profile software developer focused areas machine learning application development motivated learn grow excel experience challenging work background klp technology solutions software engineer jan 2019 till date built predictive decision models using machine learning algorithms various business study cases feature engineering evaluation methods activities ondevice machine learning ui ux development projects built predictive decision models using machine learning algorithms developed integrated ui components hmi framework head display                                                                                                                                                                                                   |\n",
      "+-----------------------------------------------------------------------------------------------------------------------------------------------------------------------------------------------------------------------------------------------------------------------------------------------------------------------------------------------------------------------------------------------------------------------------------------------------------------------------------------------------------------------------------------------------------------------------------------------------------------------------------------------------------------------------------------------------------------------------------------------------------------------------------------------------------------------------------------------------------------------------------------------------------------------------------------------------------------------------------------------------------------------------------------------------------------------------------------------------------------------------------------------------------------------------------------------------------------------------------------------+-----------------------------------------------------------------------------------------------------------------------------------------------------------------------------------------------------------------------------------------------------------------------------------------------------------------------------------------------------------------------------------------------------------------------------------------------------------------------------------------------------------------------------------------------------------------------------------------------------------------------------------------------------------------------------------------------------------------------------------------------------------------------------------------------------------------------------------------------------------------------------------------------------------------------------------------------------------------------------------------------------------------------------------------------------------------------------------------------------------------------------------------------+--------------------------------------------------------------------------------------------------------------------------------------------------------------------------------------------------------------------------------------------------------------------------------------------------------------------------------------------------------------------------------------------------------------------------------------------------------------------------------------------------------------------------------------------------------------------------------------------------------------------------------------------------------------------------------------------------------------------------------------------------------------------------------------------------------------------------------------------------------------------------------------------------------------------------------------------------------------------------------------------------------------------------------------------------------------------------------------------------------------------------------------------------------------+------------------------------------------------------------------------------------------------------------------------------------------+-------------------------------------------------------------------------------------------------------------------------------------------------------------------------------------------------------------------------------------------------------------------------------------------------------------------------------------------------------------------------------------------------------------------------------------------------------------------------------------------------------------------------------------------------------------------------------------------------------------------------------------------------------------------------------------------------------------------------------------------------------------------------------------------------------------------------------------------------------------------------------------------------------------------------------------+-----------------------------------------------------------------------------------------------------------------------------------------------------------------------------------------------------------------------------------------------------------------------------------------------------------------------------------------------------------------------------------------------------------------------------------------------------------------------------------------------------------------------------------------------------------------------------------------------------------------------------------------------------------------------------------------------------------------------------------------------------------------------------------------------------------------------------------------------------------------------------------------------------------------------------------------------------------------------------------------------------------------+\n",
      "\n"
     ]
    }
   ],
   "execution_count": 38
  },
  {
   "metadata": {
    "ExecuteTime": {
     "end_time": "2025-05-08T22:31:52.552749Z",
     "start_time": "2025-05-08T22:31:52.522311Z"
    }
   },
   "cell_type": "code",
   "source": "embeddings_jobs[0], embeddings_resumes[0]",
   "id": "81d7e3ef0eaa4e2b",
   "outputs": [
    {
     "data": {
      "text/plain": [
       "(tensor([-5.8009e-02, -5.2048e-02,  4.6047e-04,  2.3344e-02, -8.2846e-02,\n",
       "         -1.1584e-01, -7.0151e-02,  2.5701e-02, -6.5500e-02,  2.4785e-03,\n",
       "         -8.4090e-02, -6.5472e-03, -1.3384e-02, -1.9513e-02,  4.9012e-02,\n",
       "         -7.5086e-03,  8.0472e-02,  6.4049e-03,  2.5506e-02, -1.3375e-01,\n",
       "         -8.0044e-02,  1.5478e-02,  7.2205e-03, -2.4492e-02, -4.2524e-03,\n",
       "         -4.8391e-02, -1.8025e-02,  1.7847e-02, -4.8345e-03, -7.6131e-02,\n",
       "         -4.0270e-02, -1.0752e-02, -1.9878e-02,  7.7748e-02, -2.2656e-02,\n",
       "          9.5461e-02,  7.2854e-02, -1.5314e-01,  3.5903e-04,  1.3211e-03,\n",
       "          4.4013e-03, -2.8518e-03, -5.3852e-02, -5.2146e-02, -2.7784e-02,\n",
       "         -1.1162e-01, -1.4761e-02, -4.5350e-02,  5.7933e-02, -5.9301e-02,\n",
       "         -6.7640e-02, -8.9007e-02,  1.5603e-03, -5.7555e-02, -6.7746e-02,\n",
       "          2.6429e-02,  6.0189e-02,  4.3497e-03, -3.1493e-02, -8.9762e-02,\n",
       "         -4.9101e-03, -3.8571e-02,  2.1688e-02,  2.7510e-02, -3.6063e-02,\n",
       "         -3.0376e-02, -5.4537e-02,  2.1738e-02,  1.1541e-01, -7.2657e-02,\n",
       "         -7.4360e-02, -7.8684e-03, -8.7489e-02,  9.3365e-04,  2.1300e-02,\n",
       "         -3.9973e-02,  4.9977e-02, -4.2419e-02,  1.3036e-02, -6.5621e-03,\n",
       "          1.5824e-02, -1.9296e-02, -1.3375e-01,  1.1988e-01, -2.4432e-02,\n",
       "         -3.4213e-02,  3.8767e-02,  9.5347e-02, -2.5185e-02, -2.9056e-02,\n",
       "          8.1592e-02, -1.0390e-02,  3.3171e-02,  3.8712e-02, -5.3398e-02,\n",
       "          5.0697e-02,  9.2498e-02, -6.8019e-02, -8.2077e-02,  1.8374e-02,\n",
       "         -7.7592e-03, -7.1042e-02,  1.0833e-01,  4.4950e-02, -1.4757e-02,\n",
       "          4.1190e-02,  1.0630e-02, -2.8798e-02,  5.3264e-03, -1.1355e-02,\n",
       "         -5.0183e-02, -3.6415e-03, -7.7719e-02, -6.7071e-03,  5.1356e-02,\n",
       "          6.8419e-02, -5.5010e-02,  1.8480e-02,  2.4564e-03,  2.7063e-02,\n",
       "          7.2445e-02,  6.7119e-02, -2.9712e-02, -5.9698e-02,  2.7052e-02,\n",
       "          1.9080e-02, -6.2589e-02,  1.3283e-32,  4.6928e-02,  5.0538e-02,\n",
       "          7.7828e-02, -7.8891e-03,  1.1919e-01,  1.3193e-03,  2.1560e-02,\n",
       "          6.9870e-02, -7.2099e-02, -7.0780e-02, -9.1247e-02,  1.2345e-01,\n",
       "         -2.1558e-02,  4.4087e-02,  4.2782e-02, -6.1230e-02, -5.3239e-02,\n",
       "          8.2997e-02,  2.8969e-02,  2.3527e-02,  3.9604e-02, -7.2002e-02,\n",
       "         -7.0757e-02,  5.2019e-02,  7.2818e-02, -2.2907e-02,  4.9409e-02,\n",
       "         -6.2347e-03,  1.9728e-02,  3.3307e-02, -5.3185e-02, -1.5252e-02,\n",
       "         -3.9116e-02, -3.3119e-03,  3.8450e-04,  2.1898e-02, -7.2306e-02,\n",
       "         -8.2870e-02,  3.2010e-02, -3.3207e-02, -1.0384e-01,  5.3003e-02,\n",
       "         -2.7246e-02, -2.6584e-02, -2.4735e-02, -2.7026e-03,  1.8255e-02,\n",
       "         -1.0302e-02,  3.9166e-02,  5.2737e-02, -2.7102e-02, -8.6647e-02,\n",
       "          3.4946e-02,  6.9962e-02,  1.2049e-03, -1.1347e-03,  7.2072e-02,\n",
       "          2.4064e-02, -4.6307e-03,  1.1288e-02, -1.6437e-02, -2.4441e-02,\n",
       "         -5.0677e-02, -3.3004e-03, -6.9717e-03, -1.3825e-02,  2.0123e-02,\n",
       "          6.1909e-02,  1.1426e-01,  5.7454e-02, -6.4478e-02,  6.9208e-02,\n",
       "          4.0658e-02,  2.1940e-02, -3.3750e-02, -2.8085e-02, -2.1957e-02,\n",
       "         -2.8194e-02,  6.9670e-02,  7.9041e-02, -1.8009e-02,  1.5072e-02,\n",
       "         -5.6158e-02, -4.9446e-04,  2.7961e-02,  2.6876e-02,  2.2201e-02,\n",
       "          8.9237e-02,  7.0734e-03,  6.4335e-02, -5.9106e-02, -2.4759e-02,\n",
       "          7.3228e-02, -1.8534e-02, -4.2761e-02, -1.3121e-32, -2.5343e-02,\n",
       "         -7.3163e-02, -1.9580e-02,  1.1871e-01,  8.1286e-02, -5.7558e-02,\n",
       "          4.2843e-02,  7.4530e-02,  1.7522e-02, -1.4732e-02, -1.6333e-02,\n",
       "         -2.5159e-02,  7.5457e-02, -4.4086e-02, -1.5261e-02,  3.6225e-03,\n",
       "         -1.2708e-01, -7.0858e-02,  3.5120e-03, -1.2452e-02, -6.0967e-02,\n",
       "          4.9759e-02, -2.7092e-02, -2.0359e-02, -4.2706e-02, -2.3917e-02,\n",
       "         -4.8452e-02, -4.5119e-02, -7.1750e-02,  9.9648e-03,  2.2996e-02,\n",
       "          3.4506e-02, -6.8016e-02,  2.9960e-02, -1.3573e-02,  4.6306e-03,\n",
       "          2.5769e-02,  5.5611e-02,  2.8541e-02, -1.4303e-03,  1.1189e-01,\n",
       "          2.7644e-03,  2.7561e-02, -1.9222e-02, -3.5517e-02,  3.0241e-02,\n",
       "         -5.8614e-02,  2.6082e-02, -2.1334e-02, -4.8917e-02, -5.0789e-02,\n",
       "         -7.8034e-04, -3.3942e-02, -3.7264e-02, -1.2104e-02, -5.4312e-02,\n",
       "          1.9187e-02,  9.4198e-03, -7.0229e-02,  3.7089e-02, -2.1804e-02,\n",
       "          1.8271e-02,  2.0476e-02,  1.0284e-01, -4.1838e-02, -4.9209e-02,\n",
       "         -8.9075e-02,  3.6061e-02, -8.4490e-02, -7.1191e-02,  4.6048e-02,\n",
       "         -5.4053e-03,  2.5048e-02,  3.4816e-02, -3.8090e-02,  1.6639e-02,\n",
       "         -1.2028e-01,  7.8126e-03,  9.1246e-04,  4.7082e-02, -5.8663e-03,\n",
       "         -3.5067e-02, -3.7250e-02,  1.0938e-01, -2.8347e-02, -1.5923e-02,\n",
       "          2.5903e-02,  1.3569e-02,  3.9081e-02, -3.4110e-02, -7.7695e-02,\n",
       "          2.4309e-02, -4.4187e-02,  3.4517e-02,  4.5108e-02, -4.0773e-08,\n",
       "          2.5633e-02,  5.7076e-02,  4.2947e-02,  6.1246e-02, -1.7841e-02,\n",
       "          8.2868e-02, -2.4282e-02,  9.4032e-02,  6.2404e-02,  3.3708e-02,\n",
       "         -1.0681e-02, -6.2122e-02, -6.3389e-02,  2.2430e-02,  1.5194e-02,\n",
       "          1.0478e-01,  2.5445e-02,  7.0130e-02, -4.2986e-04, -5.8290e-02,\n",
       "          2.9288e-02,  4.2303e-02, -1.0504e-04,  1.9670e-02,  3.9451e-02,\n",
       "          4.0465e-02,  6.5724e-04,  2.0079e-02, -4.9706e-02, -2.7390e-02,\n",
       "          1.5366e-02, -7.8948e-02,  1.2638e-03, -3.8713e-02,  1.0967e-01,\n",
       "         -2.6031e-02, -3.7346e-02, -3.9508e-02, -9.1428e-03,  9.7040e-03,\n",
       "         -2.5808e-02,  8.9287e-03,  2.8894e-02, -8.1968e-03,  2.4163e-02,\n",
       "          1.6978e-02, -5.2870e-02, -2.0426e-02, -1.0240e-02, -2.1969e-02,\n",
       "          6.4456e-03, -9.1764e-02, -1.7111e-02,  1.8538e-02,  5.7869e-02,\n",
       "          8.8687e-02,  1.0267e-03, -3.4643e-03, -2.3644e-02,  1.4691e-02,\n",
       "          8.5357e-02,  4.9928e-02,  4.2738e-02,  7.7864e-02], device='cuda:0'),\n",
       " tensor([-4.1999e-02, -2.5961e-02,  7.5946e-02, -4.2184e-03,  3.4383e-02,\n",
       "         -2.5862e-02,  4.9401e-02, -3.5322e-02, -9.5211e-02, -3.0525e-02,\n",
       "         -3.3129e-02, -6.0223e-02, -1.2465e-02, -1.2765e-02,  2.4088e-02,\n",
       "         -3.0190e-02,  1.7179e-02, -9.9590e-03, -7.6398e-02, -1.0823e-01,\n",
       "         -4.5183e-03, -9.7011e-03, -4.0981e-02, -7.9977e-02, -6.9087e-02,\n",
       "          2.7095e-02,  4.8778e-02, -2.3605e-02, -4.1034e-02, -1.3025e-01,\n",
       "          3.0719e-03,  7.4433e-02,  5.3270e-02,  1.0797e-01, -1.5711e-02,\n",
       "          4.5805e-02, -3.4409e-02,  1.9052e-02,  7.8099e-02, -1.7502e-02,\n",
       "         -1.1318e-01, -1.1572e-01, -4.3057e-03, -2.7438e-02,  6.5212e-02,\n",
       "         -5.0617e-02, -2.2268e-02, -4.7869e-02,  7.0359e-02,  7.7409e-03,\n",
       "         -1.2864e-01, -2.6783e-02,  1.4857e-05,  1.7115e-02, -4.9995e-02,\n",
       "         -6.0342e-02, -4.6533e-02,  3.2894e-02, -1.6072e-02, -2.4996e-02,\n",
       "         -1.7989e-03, -6.5975e-02, -2.2247e-02,  2.9965e-02, -4.1710e-02,\n",
       "          1.4488e-02, -5.9992e-02,  5.9228e-02,  1.0564e-02, -3.0473e-02,\n",
       "         -3.6213e-02,  5.8861e-02, -9.0196e-02,  6.8581e-02, -6.5081e-03,\n",
       "          2.6059e-02,  6.7151e-02, -2.2367e-02,  1.2026e-01, -7.0292e-02,\n",
       "          1.2316e-02,  3.5249e-03, -7.5474e-02,  7.3800e-02,  3.8930e-03,\n",
       "         -3.2437e-02, -8.5372e-02,  1.7705e-02, -3.3499e-02, -5.3084e-02,\n",
       "          2.4134e-02, -9.7970e-02,  4.0003e-02,  2.2151e-02, -1.3464e-02,\n",
       "         -3.6408e-02, -3.9319e-02, -4.3589e-02,  5.8905e-03,  2.1410e-02,\n",
       "         -6.1840e-02,  3.2609e-02,  5.4849e-02,  3.2966e-02, -5.8317e-02,\n",
       "         -1.5064e-02,  5.3596e-02,  2.5807e-02,  5.8349e-02,  3.5624e-03,\n",
       "         -4.5231e-02,  6.1146e-03, -1.0532e-01, -1.4118e-01, -6.0034e-04,\n",
       "         -2.7548e-02, -5.5304e-02,  8.6179e-02, -6.3585e-02,  7.8946e-02,\n",
       "         -1.9025e-02,  7.0551e-02, -5.7064e-02, -5.8686e-02, -4.8326e-02,\n",
       "         -3.8924e-02, -9.3679e-02,  2.9304e-32, -1.1014e-02, -1.8735e-02,\n",
       "          7.0674e-03, -1.2087e-02,  3.9267e-02, -4.6747e-02,  1.7820e-03,\n",
       "          9.3534e-02, -3.0322e-02,  2.9132e-06, -5.1229e-02,  6.9436e-02,\n",
       "         -7.6488e-02,  3.3022e-02,  6.0308e-02,  1.2839e-02, -2.1929e-02,\n",
       "          6.6599e-02, -7.8307e-02,  3.2155e-02,  2.6429e-02, -5.6237e-02,\n",
       "          5.1143e-02,  2.2933e-02,  2.7741e-02, -9.2686e-03,  3.9540e-02,\n",
       "         -1.8233e-02,  4.3710e-02,  2.8609e-02, -6.9212e-03,  2.2482e-02,\n",
       "         -4.3193e-02,  3.5026e-03,  3.2270e-02,  5.3833e-02, -7.7735e-03,\n",
       "         -8.4504e-02,  7.2568e-02, -3.6206e-02, -8.8633e-02,  3.8385e-02,\n",
       "          3.9673e-03, -4.3632e-02,  1.7354e-02,  7.7772e-03,  7.0702e-02,\n",
       "          2.3929e-02, -1.0232e-02,  4.1540e-02, -5.5303e-02, -3.0881e-02,\n",
       "          1.0575e-02,  4.3457e-03, -1.2236e-02,  4.2414e-02,  5.6734e-02,\n",
       "         -2.5890e-02,  4.5531e-02,  1.3750e-02, -3.7865e-02,  2.6949e-02,\n",
       "         -5.9283e-02,  2.8964e-02, -6.8020e-02, -4.2422e-02,  8.5112e-02,\n",
       "         -5.0358e-02,  5.2367e-02,  4.9006e-02,  4.0061e-02,  3.0646e-02,\n",
       "         -8.5700e-03,  5.2090e-03, -1.2593e-02,  5.2665e-02, -3.6447e-03,\n",
       "         -3.3370e-02,  1.6734e-02,  4.8836e-02, -1.6724e-02, -2.7464e-02,\n",
       "          7.8862e-02, -2.6352e-02,  3.2847e-02,  1.0059e-01,  9.5829e-02,\n",
       "         -5.5980e-02, -4.5512e-02,  6.5048e-02, -3.8009e-02,  3.3678e-02,\n",
       "         -3.7635e-02,  1.3000e-02, -2.5907e-02, -2.6487e-32, -6.9588e-02,\n",
       "          2.4219e-02, -8.2387e-02,  3.8757e-02,  8.9682e-02,  2.5077e-02,\n",
       "          2.9048e-02, -3.2996e-02,  8.2757e-02,  5.7878e-02,  3.3535e-02,\n",
       "         -3.7679e-02,  1.5552e-02,  7.7749e-03, -2.5280e-02, -5.9593e-02,\n",
       "         -1.0373e-02, -2.5197e-02, -6.7577e-02,  1.0084e-01, -2.1905e-02,\n",
       "          1.2754e-01, -1.3859e-01,  4.9205e-02, -2.3111e-02,  2.7777e-02,\n",
       "         -5.6218e-02, -1.7399e-02,  2.8707e-03, -1.9777e-02, -1.4463e-02,\n",
       "         -6.7132e-02, -7.6778e-02,  6.8785e-02,  1.6968e-02, -7.8506e-02,\n",
       "          5.0500e-02, -5.7153e-02, -2.9168e-03,  6.9709e-02,  1.2103e-01,\n",
       "          1.8438e-02, -4.9967e-02,  2.6208e-03, -2.9337e-02, -1.0555e-01,\n",
       "         -2.3012e-02,  2.6536e-02,  9.1451e-03, -4.0274e-02, -2.5574e-03,\n",
       "          2.5934e-02, -4.6187e-02,  2.2036e-03, -1.9268e-02,  8.2576e-02,\n",
       "          2.4633e-02, -1.3491e-02, -2.4104e-02,  6.5930e-02,  1.4209e-02,\n",
       "         -6.6627e-03,  5.2656e-02,  1.8684e-02,  4.5934e-02, -9.6715e-02,\n",
       "         -4.7972e-02,  2.4840e-02, -1.0002e-01, -8.4334e-02,  5.4783e-02,\n",
       "         -3.5955e-02, -6.1798e-02, -3.3632e-02, -4.4604e-02, -2.5317e-02,\n",
       "         -2.2880e-02, -1.3841e-02,  1.8643e-02,  6.0052e-02,  1.5339e-02,\n",
       "         -2.9993e-02, -1.2738e-02,  8.7669e-02,  4.6330e-02,  1.1220e-01,\n",
       "          4.0927e-02, -2.1397e-02,  1.9835e-02, -6.8904e-02, -9.9904e-02,\n",
       "         -5.6122e-02, -3.6536e-02,  5.3961e-02, -2.2268e-02, -6.5080e-08,\n",
       "         -3.9124e-02, -4.7120e-02,  3.7361e-02,  2.3625e-02,  4.3965e-02,\n",
       "         -5.2875e-02, -7.6588e-02,  1.1155e-01,  9.9718e-03, -1.5431e-02,\n",
       "          4.3335e-02, -1.0252e-03, -7.3129e-02, -3.2148e-02,  7.6998e-02,\n",
       "          5.2316e-02, -2.2764e-02,  5.0823e-02, -5.0024e-02, -1.1630e-02,\n",
       "          1.0437e-01, -5.6313e-02, -1.2705e-02,  5.3228e-02, -1.8160e-02,\n",
       "         -2.4708e-02,  1.1324e-03,  4.0037e-03,  1.5619e-02,  2.9485e-02,\n",
       "         -4.1522e-02, -5.2706e-02,  2.2092e-02, -7.7287e-02,  1.1271e-01,\n",
       "          1.5614e-02,  2.2512e-02, -2.5841e-02, -9.1547e-03,  6.5466e-02,\n",
       "         -1.6860e-02,  1.7713e-02,  7.1915e-02,  8.0324e-02, -6.0973e-04,\n",
       "          1.8162e-02, -5.0382e-02, -5.6485e-02,  2.6514e-02, -5.2425e-02,\n",
       "         -3.8680e-02, -8.3927e-03,  1.5931e-02,  4.2271e-02,  2.6816e-02,\n",
       "          4.5222e-02,  4.6181e-02, -1.2119e-03,  5.6801e-03,  4.6268e-02,\n",
       "          1.1476e-01, -2.4308e-03, -4.2665e-02,  1.8819e-02], device='cuda:0'))"
      ]
     },
     "execution_count": 39,
     "metadata": {},
     "output_type": "execute_result"
    }
   ],
   "execution_count": 39
  },
  {
   "metadata": {
    "ExecuteTime": {
     "end_time": "2025-05-08T22:31:53.723137Z",
     "start_time": "2025-05-08T22:31:52.618743Z"
    }
   },
   "cell_type": "code",
   "source": [
    "similarity_list = []\n",
    "for i in range(len(embeddings_resumes)):\n",
    "    similarity = util.cos_sim(embeddings_jobs[0], embeddings_resumes[i])\n",
    "    similarity_list.append((similarity, i))\n",
    "similarity_list.sort(reverse=True)"
   ],
   "id": "503cb473518159e7",
   "outputs": [],
   "execution_count": 40
  },
  {
   "metadata": {
    "ExecuteTime": {
     "end_time": "2025-05-08T22:31:54.462432Z",
     "start_time": "2025-05-08T22:31:53.770046Z"
    }
   },
   "cell_type": "code",
   "source": "similarity_list",
   "id": "d354ada8c1b8edf3",
   "outputs": [
    {
     "data": {
      "text/plain": [
       "[(tensor([[0.5682]], device='cuda:0'), 6),\n",
       " (tensor([[0.5235]], device='cuda:0'), 3),\n",
       " (tensor([[0.5166]], device='cuda:0'), 7),\n",
       " (tensor([[0.5154]], device='cuda:0'), 1),\n",
       " (tensor([[0.4631]], device='cuda:0'), 4),\n",
       " (tensor([[0.4553]], device='cuda:0'), 5),\n",
       " (tensor([[0.4499]], device='cuda:0'), 11),\n",
       " (tensor([[0.4480]], device='cuda:0'), 923),\n",
       " (tensor([[0.4456]], device='cuda:0'), 10),\n",
       " (tensor([[0.4291]], device='cuda:0'), 805),\n",
       " (tensor([[0.4153]], device='cuda:0'), 9),\n",
       " (tensor([[0.4095]], device='cuda:0'), 776),\n",
       " (tensor([[0.4070]], device='cuda:0'), 92),\n",
       " (tensor([[0.4070]], device='cuda:0'), 621),\n",
       " (tensor([[0.4062]], device='cuda:0'), 0),\n",
       " (tensor([[0.4032]], device='cuda:0'), 998),\n",
       " (tensor([[0.4016]], device='cuda:0'), 2),\n",
       " (tensor([[0.3994]], device='cuda:0'), 700),\n",
       " (tensor([[0.3974]], device='cuda:0'), 834),\n",
       " (tensor([[0.3934]], device='cuda:0'), 424),\n",
       " (tensor([[0.3930]], device='cuda:0'), 421),\n",
       " (tensor([[0.3929]], device='cuda:0'), 944),\n",
       " (tensor([[0.3901]], device='cuda:0'), 894),\n",
       " (tensor([[0.3896]], device='cuda:0'), 258),\n",
       " (tensor([[0.3886]], device='cuda:0'), 541),\n",
       " (tensor([[0.3883]], device='cuda:0'), 867),\n",
       " (tensor([[0.3863]], device='cuda:0'), 540),\n",
       " (tensor([[0.3826]], device='cuda:0'), 85),\n",
       " (tensor([[0.3821]], device='cuda:0'), 117),\n",
       " (tensor([[0.3815]], device='cuda:0'), 134),\n",
       " (tensor([[0.3810]], device='cuda:0'), 635),\n",
       " (tensor([[0.3802]], device='cuda:0'), 799),\n",
       " (tensor([[0.3798]], device='cuda:0'), 239),\n",
       " (tensor([[0.3786]], device='cuda:0'), 480),\n",
       " (tensor([[0.3772]], device='cuda:0'), 8),\n",
       " (tensor([[0.3765]], device='cuda:0'), 657),\n",
       " (tensor([[0.3749]], device='cuda:0'), 678),\n",
       " (tensor([[0.3715]], device='cuda:0'), 591),\n",
       " (tensor([[0.3696]], device='cuda:0'), 216),\n",
       " (tensor([[0.3676]], device='cuda:0'), 842),\n",
       " (tensor([[0.3668]], device='cuda:0'), 193),\n",
       " (tensor([[0.3663]], device='cuda:0'), 843),\n",
       " (tensor([[0.3661]], device='cuda:0'), 658),\n",
       " (tensor([[0.3657]], device='cuda:0'), 403),\n",
       " (tensor([[0.3655]], device='cuda:0'), 299),\n",
       " (tensor([[0.3649]], device='cuda:0'), 368),\n",
       " (tensor([[0.3640]], device='cuda:0'), 973),\n",
       " (tensor([[0.3636]], device='cuda:0'), 317),\n",
       " (tensor([[0.3624]], device='cuda:0'), 844),\n",
       " (tensor([[0.3603]], device='cuda:0'), 730),\n",
       " (tensor([[0.3600]], device='cuda:0'), 188),\n",
       " (tensor([[0.3600]], device='cuda:0'), 88),\n",
       " (tensor([[0.3599]], device='cuda:0'), 354),\n",
       " (tensor([[0.3598]], device='cuda:0'), 632),\n",
       " (tensor([[0.3593]], device='cuda:0'), 223),\n",
       " (tensor([[0.3590]], device='cuda:0'), 766),\n",
       " (tensor([[0.3581]], device='cuda:0'), 187),\n",
       " (tensor([[0.3576]], device='cuda:0'), 349),\n",
       " (tensor([[0.3554]], device='cuda:0'), 786),\n",
       " (tensor([[0.3549]], device='cuda:0'), 419),\n",
       " (tensor([[0.3549]], device='cuda:0'), 75),\n",
       " (tensor([[0.3531]], device='cuda:0'), 363),\n",
       " (tensor([[0.3523]], device='cuda:0'), 278),\n",
       " (tensor([[0.3511]], device='cuda:0'), 596),\n",
       " (tensor([[0.3507]], device='cuda:0'), 39),\n",
       " (tensor([[0.3504]], device='cuda:0'), 759),\n",
       " (tensor([[0.3501]], device='cuda:0'), 749),\n",
       " (tensor([[0.3485]], device='cuda:0'), 578),\n",
       " (tensor([[0.3484]], device='cuda:0'), 113),\n",
       " (tensor([[0.3478]], device='cuda:0'), 310),\n",
       " (tensor([[0.3470]], device='cuda:0'), 549),\n",
       " (tensor([[0.3469]], device='cuda:0'), 329),\n",
       " (tensor([[0.3467]], device='cuda:0'), 361),\n",
       " (tensor([[0.3467]], device='cuda:0'), 272),\n",
       " (tensor([[0.3463]], device='cuda:0'), 740),\n",
       " (tensor([[0.3463]], device='cuda:0'), 325),\n",
       " (tensor([[0.3462]], device='cuda:0'), 61),\n",
       " (tensor([[0.3461]], device='cuda:0'), 590),\n",
       " (tensor([[0.3461]], device='cuda:0'), 126),\n",
       " (tensor([[0.3452]], device='cuda:0'), 184),\n",
       " (tensor([[0.3452]], device='cuda:0'), 157),\n",
       " (tensor([[0.3444]], device='cuda:0'), 13),\n",
       " (tensor([[0.3441]], device='cuda:0'), 654),\n",
       " (tensor([[0.3441]], device='cuda:0'), 360),\n",
       " (tensor([[0.3438]], device='cuda:0'), 833),\n",
       " (tensor([[0.3432]], device='cuda:0'), 433),\n",
       " (tensor([[0.3430]], device='cuda:0'), 213),\n",
       " (tensor([[0.3430]], device='cuda:0'), 23),\n",
       " (tensor([[0.3424]], device='cuda:0'), 255),\n",
       " (tensor([[0.3421]], device='cuda:0'), 897),\n",
       " (tensor([[0.3407]], device='cuda:0'), 674),\n",
       " (tensor([[0.3403]], device='cuda:0'), 343),\n",
       " (tensor([[0.3400]], device='cuda:0'), 529),\n",
       " (tensor([[0.3396]], device='cuda:0'), 173),\n",
       " (tensor([[0.3396]], device='cuda:0'), 459),\n",
       " (tensor([[0.3391]], device='cuda:0'), 457),\n",
       " (tensor([[0.3390]], device='cuda:0'), 773),\n",
       " (tensor([[0.3387]], device='cuda:0'), 627),\n",
       " (tensor([[0.3385]], device='cuda:0'), 438),\n",
       " (tensor([[0.3382]], device='cuda:0'), 710),\n",
       " (tensor([[0.3373]], device='cuda:0'), 796),\n",
       " (tensor([[0.3364]], device='cuda:0'), 305),\n",
       " (tensor([[0.3360]], device='cuda:0'), 642),\n",
       " (tensor([[0.3349]], device='cuda:0'), 395),\n",
       " (tensor([[0.3348]], device='cuda:0'), 318),\n",
       " (tensor([[0.3348]], device='cuda:0'), 42),\n",
       " (tensor([[0.3345]], device='cuda:0'), 825),\n",
       " (tensor([[0.3344]], device='cuda:0'), 626),\n",
       " (tensor([[0.3342]], device='cuda:0'), 78),\n",
       " (tensor([[0.3342]], device='cuda:0'), 211),\n",
       " (tensor([[0.3335]], device='cuda:0'), 531),\n",
       " (tensor([[0.3330]], device='cuda:0'), 672),\n",
       " (tensor([[0.3328]], device='cuda:0'), 845),\n",
       " (tensor([[0.3328]], device='cuda:0'), 462),\n",
       " (tensor([[0.3327]], device='cuda:0'), 98),\n",
       " (tensor([[0.3327]], device='cuda:0'), 401),\n",
       " (tensor([[0.3324]], device='cuda:0'), 37),\n",
       " (tensor([[0.3324]], device='cuda:0'), 230),\n",
       " (tensor([[0.3314]], device='cuda:0'), 355),\n",
       " (tensor([[0.3313]], device='cuda:0'), 257),\n",
       " (tensor([[0.3312]], device='cuda:0'), 332),\n",
       " (tensor([[0.3311]], device='cuda:0'), 525),\n",
       " (tensor([[0.3308]], device='cuda:0'), 767),\n",
       " (tensor([[0.3308]], device='cuda:0'), 662),\n",
       " (tensor([[0.3308]], device='cuda:0'), 932),\n",
       " (tensor([[0.3307]], device='cuda:0'), 517),\n",
       " (tensor([[0.3305]], device='cuda:0'), 723),\n",
       " (tensor([[0.3301]], device='cuda:0'), 235),\n",
       " (tensor([[0.3301]], device='cuda:0'), 595),\n",
       " (tensor([[0.3299]], device='cuda:0'), 307),\n",
       " (tensor([[0.3296]], device='cuda:0'), 950),\n",
       " (tensor([[0.3296]], device='cuda:0'), 949),\n",
       " (tensor([[0.3296]], device='cuda:0'), 948),\n",
       " (tensor([[0.3296]], device='cuda:0'), 885),\n",
       " (tensor([[0.3294]], device='cuda:0'), 551),\n",
       " (tensor([[0.3293]], device='cuda:0'), 365),\n",
       " (tensor([[0.3292]], device='cuda:0'), 555),\n",
       " (tensor([[0.3287]], device='cuda:0'), 148),\n",
       " (tensor([[0.3286]], device='cuda:0'), 219),\n",
       " (tensor([[0.3285]], device='cuda:0'), 328),\n",
       " (tensor([[0.3283]], device='cuda:0'), 338),\n",
       " (tensor([[0.3277]], device='cuda:0'), 506),\n",
       " (tensor([[0.3269]], device='cuda:0'), 934),\n",
       " (tensor([[0.3269]], device='cuda:0'), 933),\n",
       " (tensor([[0.3269]], device='cuda:0'), 818),\n",
       " (tensor([[0.3268]], device='cuda:0'), 448),\n",
       " (tensor([[0.3268]], device='cuda:0'), 439),\n",
       " (tensor([[0.3267]], device='cuda:0'), 547),\n",
       " (tensor([[0.3266]], device='cuda:0'), 107),\n",
       " (tensor([[0.3261]], device='cuda:0'), 465),\n",
       " (tensor([[0.3261]], device='cuda:0'), 716),\n",
       " (tensor([[0.3253]], device='cuda:0'), 301),\n",
       " (tensor([[0.3250]], device='cuda:0'), 890),\n",
       " (tensor([[0.3250]], device='cuda:0'), 16),\n",
       " (tensor([[0.3247]], device='cuda:0'), 731),\n",
       " (tensor([[0.3247]], device='cuda:0'), 250),\n",
       " (tensor([[0.3247]], device='cuda:0'), 827),\n",
       " (tensor([[0.3238]], device='cuda:0'), 853),\n",
       " (tensor([[0.3238]], device='cuda:0'), 503),\n",
       " (tensor([[0.3235]], device='cuda:0'), 684),\n",
       " (tensor([[0.3232]], device='cuda:0'), 162),\n",
       " (tensor([[0.3230]], device='cuda:0'), 608),\n",
       " (tensor([[0.3229]], device='cuda:0'), 477),\n",
       " (tensor([[0.3227]], device='cuda:0'), 794),\n",
       " (tensor([[0.3226]], device='cuda:0'), 27),\n",
       " (tensor([[0.3226]], device='cuda:0'), 743),\n",
       " (tensor([[0.3224]], device='cuda:0'), 137),\n",
       " (tensor([[0.3224]], device='cuda:0'), 381),\n",
       " (tensor([[0.3223]], device='cuda:0'), 507),\n",
       " (tensor([[0.3223]], device='cuda:0'), 397),\n",
       " (tensor([[0.3223]], device='cuda:0'), 369),\n",
       " (tensor([[0.3223]], device='cuda:0'), 323),\n",
       " (tensor([[0.3223]], device='cuda:0'), 308),\n",
       " (tensor([[0.3223]], device='cuda:0'), 251),\n",
       " (tensor([[0.3222]], device='cuda:0'), 702),\n",
       " (tensor([[0.3222]], device='cuda:0'), 592),\n",
       " (tensor([[0.3222]], device='cuda:0'), 467),\n",
       " (tensor([[0.3217]], device='cuda:0'), 836),\n",
       " (tensor([[0.3216]], device='cuda:0'), 532),\n",
       " (tensor([[0.3215]], device='cuda:0'), 350),\n",
       " (tensor([[0.3215]], device='cuda:0'), 130),\n",
       " (tensor([[0.3212]], device='cuda:0'), 519),\n",
       " (tensor([[0.3205]], device='cuda:0'), 389),\n",
       " (tensor([[0.3201]], device='cuda:0'), 739),\n",
       " (tensor([[0.3199]], device='cuda:0'), 889),\n",
       " (tensor([[0.3198]], device='cuda:0'), 446),\n",
       " (tensor([[0.3197]], device='cuda:0'), 366),\n",
       " (tensor([[0.3197]], device='cuda:0'), 123),\n",
       " (tensor([[0.3196]], device='cuda:0'), 247),\n",
       " (tensor([[0.3196]], device='cuda:0'), 406),\n",
       " (tensor([[0.3196]], device='cuda:0'), 405),\n",
       " (tensor([[0.3196]], device='cuda:0'), 372),\n",
       " (tensor([[0.3195]], device='cuda:0'), 444),\n",
       " (tensor([[0.3194]], device='cuda:0'), 573),\n",
       " (tensor([[0.3194]], device='cuda:0'), 209),\n",
       " (tensor([[0.3194]], device='cuda:0'), 271),\n",
       " (tensor([[0.3191]], device='cuda:0'), 554),\n",
       " (tensor([[0.3190]], device='cuda:0'), 577),\n",
       " (tensor([[0.3189]], device='cuda:0'), 620),\n",
       " (tensor([[0.3187]], device='cuda:0'), 564),\n",
       " (tensor([[0.3185]], device='cuda:0'), 135),\n",
       " (tensor([[0.3182]], device='cuda:0'), 30),\n",
       " (tensor([[0.3175]], device='cuda:0'), 615),\n",
       " (tensor([[0.3174]], device='cuda:0'), 156),\n",
       " (tensor([[0.3174]], device='cuda:0'), 169),\n",
       " (tensor([[0.3172]], device='cuda:0'), 734),\n",
       " (tensor([[0.3169]], device='cuda:0'), 199),\n",
       " (tensor([[0.3169]], device='cuda:0'), 589),\n",
       " (tensor([[0.3169]], device='cuda:0'), 813),\n",
       " (tensor([[0.3161]], device='cuda:0'), 411),\n",
       " (tensor([[0.3160]], device='cuda:0'), 510),\n",
       " (tensor([[0.3159]], device='cuda:0'), 471),\n",
       " (tensor([[0.3154]], device='cuda:0'), 174),\n",
       " (tensor([[0.3152]], device='cuda:0'), 114),\n",
       " (tensor([[0.3151]], device='cuda:0'), 291),\n",
       " (tensor([[0.3151]], device='cuda:0'), 416),\n",
       " (tensor([[0.3146]], device='cuda:0'), 373),\n",
       " (tensor([[0.3146]], device='cuda:0'), 128),\n",
       " (tensor([[0.3145]], device='cuda:0'), 896),\n",
       " (tensor([[0.3145]], device='cuda:0'), 895),\n",
       " (tensor([[0.3145]], device='cuda:0'), 83),\n",
       " (tensor([[0.3143]], device='cuda:0'), 414),\n",
       " (tensor([[0.3142]], device='cuda:0'), 393),\n",
       " (tensor([[0.3141]], device='cuda:0'), 124),\n",
       " (tensor([[0.3138]], device='cuda:0'), 168),\n",
       " (tensor([[0.3137]], device='cuda:0'), 345),\n",
       " (tensor([[0.3136]], device='cuda:0'), 267),\n",
       " (tensor([[0.3134]], device='cuda:0'), 499),\n",
       " (tensor([[0.3134]], device='cuda:0'), 306),\n",
       " (tensor([[0.3133]], device='cuda:0'), 202),\n",
       " (tensor([[0.3132]], device='cuda:0'), 588),\n",
       " (tensor([[0.3131]], device='cuda:0'), 830),\n",
       " (tensor([[0.3130]], device='cuda:0'), 972),\n",
       " (tensor([[0.3128]], device='cuda:0'), 645),\n",
       " (tensor([[0.3128]], device='cuda:0'), 542),\n",
       " (tensor([[0.3128]], device='cuda:0'), 314),\n",
       " (tensor([[0.3124]], device='cuda:0'), 313),\n",
       " (tensor([[0.3122]], device='cuda:0'), 261),\n",
       " (tensor([[0.3120]], device='cuda:0'), 190),\n",
       " (tensor([[0.3115]], device='cuda:0'), 587),\n",
       " (tensor([[0.3115]], device='cuda:0'), 449),\n",
       " (tensor([[0.3114]], device='cuda:0'), 494),\n",
       " (tensor([[0.3113]], device='cuda:0'), 233),\n",
       " (tensor([[0.3111]], device='cuda:0'), 504),\n",
       " (tensor([[0.3109]], device='cuda:0'), 304),\n",
       " (tensor([[0.3108]], device='cuda:0'), 170),\n",
       " (tensor([[0.3105]], device='cuda:0'), 559),\n",
       " (tensor([[0.3102]], device='cuda:0'), 46),\n",
       " (tensor([[0.3102]], device='cuda:0'), 964),\n",
       " (tensor([[0.3101]], device='cuda:0'), 565),\n",
       " (tensor([[0.3100]], device='cuda:0'), 881),\n",
       " (tensor([[0.3098]], device='cuda:0'), 231),\n",
       " (tensor([[0.3098]], device='cuda:0'), 699),\n",
       " (tensor([[0.3098]], device='cuda:0'), 625),\n",
       " (tensor([[0.3095]], device='cuda:0'), 514),\n",
       " (tensor([[0.3095]], device='cuda:0'), 167),\n",
       " (tensor([[0.3093]], device='cuda:0'), 681),\n",
       " (tensor([[0.3091]], device='cuda:0'), 311),\n",
       " (tensor([[0.3091]], device='cuda:0'), 73),\n",
       " (tensor([[0.3091]], device='cuda:0'), 293),\n",
       " (tensor([[0.3091]], device='cuda:0'), 452),\n",
       " (tensor([[0.3090]], device='cuda:0'), 851),\n",
       " (tensor([[0.3089]], device='cuda:0'), 388),\n",
       " (tensor([[0.3085]], device='cuda:0'), 556),\n",
       " (tensor([[0.3082]], device='cuda:0'), 761),\n",
       " (tensor([[0.3081]], device='cuda:0'), 262),\n",
       " (tensor([[0.3076]], device='cuda:0'), 335),\n",
       " (tensor([[0.3074]], device='cuda:0'), 597),\n",
       " (tensor([[0.3071]], device='cuda:0'), 714),\n",
       " (tensor([[0.3070]], device='cuda:0'), 440),\n",
       " (tensor([[0.3066]], device='cuda:0'), 965),\n",
       " (tensor([[0.3065]], device='cuda:0'), 698),\n",
       " (tensor([[0.3063]], device='cuda:0'), 243),\n",
       " (tensor([[0.3061]], device='cuda:0'), 48),\n",
       " (tensor([[0.3059]], device='cuda:0'), 458),\n",
       " (tensor([[0.3057]], device='cuda:0'), 582),\n",
       " (tensor([[0.3056]], device='cuda:0'), 744),\n",
       " (tensor([[0.3054]], device='cuda:0'), 330),\n",
       " (tensor([[0.3054]], device='cuda:0'), 490),\n",
       " (tensor([[0.3054]], device='cuda:0'), 410),\n",
       " (tensor([[0.3054]], device='cuda:0'), 609),\n",
       " (tensor([[0.3052]], device='cuda:0'), 474),\n",
       " (tensor([[0.3052]], device='cuda:0'), 229),\n",
       " (tensor([[0.3052]], device='cuda:0'), 171),\n",
       " (tensor([[0.3048]], device='cuda:0'), 191),\n",
       " (tensor([[0.3048]], device='cuda:0'), 348),\n",
       " (tensor([[0.3047]], device='cuda:0'), 129),\n",
       " (tensor([[0.3046]], device='cuda:0'), 76),\n",
       " (tensor([[0.3042]], device='cuda:0'), 500),\n",
       " (tensor([[0.3038]], device='cuda:0'), 89),\n",
       " (tensor([[0.3036]], device='cuda:0'), 90),\n",
       " (tensor([[0.3032]], device='cuda:0'), 144),\n",
       " (tensor([[0.3031]], device='cuda:0'), 264),\n",
       " (tensor([[0.3026]], device='cuda:0'), 136),\n",
       " (tensor([[0.3025]], device='cuda:0'), 163),\n",
       " (tensor([[0.3023]], device='cuda:0'), 57),\n",
       " (tensor([[0.3018]], device='cuda:0'), 351),\n",
       " (tensor([[0.3017]], device='cuda:0'), 82),\n",
       " (tensor([[0.3017]], device='cuda:0'), 215),\n",
       " (tensor([[0.3014]], device='cuda:0'), 246),\n",
       " (tensor([[0.3013]], device='cuda:0'), 244),\n",
       " (tensor([[0.3010]], device='cuda:0'), 690),\n",
       " (tensor([[0.3010]], device='cuda:0'), 36),\n",
       " (tensor([[0.3009]], device='cuda:0'), 47),\n",
       " (tensor([[0.3007]], device='cuda:0'), 552),\n",
       " (tensor([[0.3001]], device='cuda:0'), 138),\n",
       " (tensor([[0.2997]], device='cuda:0'), 59),\n",
       " (tensor([[0.2993]], device='cuda:0'), 692),\n",
       " (tensor([[0.2993]], device='cuda:0'), 691),\n",
       " (tensor([[0.2993]], device='cuda:0'), 689),\n",
       " (tensor([[0.2993]], device='cuda:0'), 687),\n",
       " (tensor([[0.2993]], device='cuda:0'), 686),\n",
       " (tensor([[0.2991]], device='cuda:0'), 619),\n",
       " (tensor([[0.2986]], device='cuda:0'), 34),\n",
       " (tensor([[0.2984]], device='cuda:0'), 218),\n",
       " (tensor([[0.2982]], device='cuda:0'), 302),\n",
       " (tensor([[0.2981]], device='cuda:0'), 758),\n",
       " (tensor([[0.2980]], device='cuda:0'), 737),\n",
       " (tensor([[0.2978]], device='cuda:0'), 254),\n",
       " (tensor([[0.2977]], device='cuda:0'), 553),\n",
       " (tensor([[0.2976]], device='cuda:0'), 119),\n",
       " (tensor([[0.2975]], device='cuda:0'), 456),\n",
       " (tensor([[0.2975]], device='cuda:0'), 336),\n",
       " (tensor([[0.2975]], device='cuda:0'), 316),\n",
       " (tensor([[0.2975]], device='cuda:0'), 70),\n",
       " (tensor([[0.2971]], device='cuda:0'), 736),\n",
       " (tensor([[0.2965]], device='cuda:0'), 437),\n",
       " (tensor([[0.2963]], device='cuda:0'), 95),\n",
       " (tensor([[0.2963]], device='cuda:0'), 673),\n",
       " (tensor([[0.2962]], device='cuda:0'), 331),\n",
       " (tensor([[0.2962]], device='cuda:0'), 234),\n",
       " (tensor([[0.2961]], device='cuda:0'), 745),\n",
       " (tensor([[0.2961]], device='cuda:0'), 755),\n",
       " (tensor([[0.2960]], device='cuda:0'), 560),\n",
       " (tensor([[0.2958]], device='cuda:0'), 390),\n",
       " (tensor([[0.2956]], device='cuda:0'), 601),\n",
       " (tensor([[0.2955]], device='cuda:0'), 289),\n",
       " (tensor([[0.2954]], device='cuda:0'), 447),\n",
       " (tensor([[0.2954]], device='cuda:0'), 182),\n",
       " (tensor([[0.2953]], device='cuda:0'), 713),\n",
       " (tensor([[0.2953]], device='cuda:0'), 847),\n",
       " (tensor([[0.2950]], device='cuda:0'), 20),\n",
       " (tensor([[0.2948]], device='cuda:0'), 387),\n",
       " (tensor([[0.2948]], device='cuda:0'), 101),\n",
       " (tensor([[0.2947]], device='cuda:0'), 977),\n",
       " (tensor([[0.2947]], device='cuda:0'), 976),\n",
       " (tensor([[0.2947]], device='cuda:0'), 975),\n",
       " (tensor([[0.2947]], device='cuda:0'), 967),\n",
       " (tensor([[0.2947]], device='cuda:0'), 315),\n",
       " (tensor([[0.2947]], device='cuda:0'), 153),\n",
       " (tensor([[0.2946]], device='cuda:0'), 780),\n",
       " (tensor([[0.2945]], device='cuda:0'), 186),\n",
       " (tensor([[0.2944]], device='cuda:0'), 623),\n",
       " (tensor([[0.2940]], device='cuda:0'), 823),\n",
       " (tensor([[0.2936]], device='cuda:0'), 339),\n",
       " (tensor([[0.2936]], device='cuda:0'), 77),\n",
       " (tensor([[0.2933]], device='cuda:0'), 352),\n",
       " (tensor([[0.2930]], device='cuda:0'), 613),\n",
       " (tensor([[0.2930]], device='cuda:0'), 265),\n",
       " (tensor([[0.2929]], device='cuda:0'), 60),\n",
       " (tensor([[0.2928]], device='cuda:0'), 217),\n",
       " (tensor([[0.2928]], device='cuda:0'), 489),\n",
       " (tensor([[0.2926]], device='cuda:0'), 195),\n",
       " (tensor([[0.2924]], device='cuda:0'), 891),\n",
       " (tensor([[0.2924]], device='cuda:0'), 371),\n",
       " (tensor([[0.2924]], device='cuda:0'), 221),\n",
       " (tensor([[0.2924]], device='cuda:0'), 103),\n",
       " (tensor([[0.2923]], device='cuda:0'), 899),\n",
       " (tensor([[0.2921]], device='cuda:0'), 236),\n",
       " (tensor([[0.2920]], device='cuda:0'), 497),\n",
       " (tensor([[0.2920]], device='cuda:0'), 429),\n",
       " (tensor([[0.2919]], device='cuda:0'), 721),\n",
       " (tensor([[0.2917]], device='cuda:0'), 561),\n",
       " (tensor([[0.2915]], device='cuda:0'), 688),\n",
       " (tensor([[0.2915]], device='cuda:0'), 535),\n",
       " (tensor([[0.2911]], device='cuda:0'), 668),\n",
       " (tensor([[0.2910]], device='cuda:0'), 160),\n",
       " (tensor([[0.2908]], device='cuda:0'), 282),\n",
       " (tensor([[0.2906]], device='cuda:0'), 415),\n",
       " (tensor([[0.2906]], device='cuda:0'), 491),\n",
       " (tensor([[0.2906]], device='cuda:0'), 69),\n",
       " (tensor([[0.2903]], device='cuda:0'), 150),\n",
       " (tensor([[0.2900]], device='cuda:0'), 584),\n",
       " (tensor([[0.2899]], device='cuda:0'), 106),\n",
       " (tensor([[0.2896]], device='cuda:0'), 857),\n",
       " (tensor([[0.2896]], device='cuda:0'), 520),\n",
       " (tensor([[0.2893]], device='cuda:0'), 14),\n",
       " (tensor([[0.2891]], device='cuda:0'), 58),\n",
       " (tensor([[0.2890]], device='cuda:0'), 594),\n",
       " (tensor([[0.2889]], device='cuda:0'), 667),\n",
       " (tensor([[0.2886]], device='cuda:0'), 245),\n",
       " (tensor([[0.2886]], device='cuda:0'), 56),\n",
       " (tensor([[0.2885]], device='cuda:0'), 183),\n",
       " (tensor([[0.2885]], device='cuda:0'), 220),\n",
       " (tensor([[0.2883]], device='cuda:0'), 479),\n",
       " (tensor([[0.2879]], device='cuda:0'), 476),\n",
       " (tensor([[0.2878]], device='cuda:0'), 475),\n",
       " (tensor([[0.2878]], device='cuda:0'), 35),\n",
       " (tensor([[0.2875]], device='cuda:0'), 210),\n",
       " (tensor([[0.2874]], device='cuda:0'), 612),\n",
       " (tensor([[0.2874]], device='cuda:0'), 378),\n",
       " (tensor([[0.2872]], device='cuda:0'), 725),\n",
       " (tensor([[0.2871]], device='cuda:0'), 997),\n",
       " (tensor([[0.2865]], device='cuda:0'), 266),\n",
       " (tensor([[0.2864]], device='cuda:0'), 166),\n",
       " (tensor([[0.2862]], device='cuda:0'), 724),\n",
       " (tensor([[0.2862]], device='cuda:0'), 43),\n",
       " (tensor([[0.2861]], device='cuda:0'), 629),\n",
       " (tensor([[0.2861]], device='cuda:0'), 569),\n",
       " (tensor([[0.2859]], device='cuda:0'), 422),\n",
       " (tensor([[0.2856]], device='cuda:0'), 362),\n",
       " (tensor([[0.2856]], device='cuda:0'), 396),\n",
       " (tensor([[0.2854]], device='cuda:0'), 132),\n",
       " (tensor([[0.2853]], device='cuda:0'), 398),\n",
       " (tensor([[0.2848]], device='cuda:0'), 259),\n",
       " (tensor([[0.2847]], device='cuda:0'), 528),\n",
       " (tensor([[0.2844]], device='cuda:0'), 409),\n",
       " (tensor([[0.2844]], device='cuda:0'), 364),\n",
       " (tensor([[0.2843]], device='cuda:0'), 337),\n",
       " (tensor([[0.2843]], device='cuda:0'), 206),\n",
       " (tensor([[0.2835]], device='cuda:0'), 74),\n",
       " (tensor([[0.2833]], device='cuda:0'), 49),\n",
       " (tensor([[0.2833]], device='cuda:0'), 31),\n",
       " (tensor([[0.2832]], device='cuda:0'), 579),\n",
       " (tensor([[0.2831]], device='cuda:0'), 616),\n",
       " (tensor([[0.2826]], device='cuda:0'), 121),\n",
       " (tensor([[0.2824]], device='cuda:0'), 432),\n",
       " (tensor([[0.2823]], device='cuda:0'), 17),\n",
       " (tensor([[0.2823]], device='cuda:0'), 94),\n",
       " (tensor([[0.2822]], device='cuda:0'), 178),\n",
       " (tensor([[0.2822]], device='cuda:0'), 509),\n",
       " (tensor([[0.2822]], device='cuda:0'), 376),\n",
       " (tensor([[0.2816]], device='cuda:0'), 279),\n",
       " (tensor([[0.2816]], device='cuda:0'), 66),\n",
       " (tensor([[0.2815]], device='cuda:0'), 450),\n",
       " (tensor([[0.2815]], device='cuda:0'), 576),\n",
       " (tensor([[0.2815]], device='cuda:0'), 165),\n",
       " (tensor([[0.2815]], device='cuda:0'), 164),\n",
       " (tensor([[0.2814]], device='cuda:0'), 697),\n",
       " (tensor([[0.2812]], device='cuda:0'), 185),\n",
       " (tensor([[0.2811]], device='cuda:0'), 116),\n",
       " (tensor([[0.2810]], device='cuda:0'), 602),\n",
       " (tensor([[0.2809]], device='cuda:0'), 420),\n",
       " (tensor([[0.2809]], device='cuda:0'), 22),\n",
       " (tensor([[0.2808]], device='cuda:0'), 256),\n",
       " (tensor([[0.2808]], device='cuda:0'), 651),\n",
       " (tensor([[0.2808]], device='cuda:0'), 803),\n",
       " (tensor([[0.2807]], device='cuda:0'), 466),\n",
       " (tensor([[0.2806]], device='cuda:0'), 294),\n",
       " (tensor([[0.2803]], device='cuda:0'), 139),\n",
       " (tensor([[0.2803]], device='cuda:0'), 200),\n",
       " (tensor([[0.2802]], device='cuda:0'), 718),\n",
       " (tensor([[0.2801]], device='cuda:0'), 180),\n",
       " (tensor([[0.2801]], device='cuda:0'), 65),\n",
       " (tensor([[0.2797]], device='cuda:0'), 99),\n",
       " (tensor([[0.2794]], device='cuda:0'), 280),\n",
       " (tensor([[0.2791]], device='cuda:0'), 359),\n",
       " (tensor([[0.2789]], device='cuda:0'), 838),\n",
       " (tensor([[0.2789]], device='cuda:0'), 523),\n",
       " (tensor([[0.2787]], device='cuda:0'), 557),\n",
       " (tensor([[0.2787]], device='cuda:0'), 516),\n",
       " (tensor([[0.2787]], device='cuda:0'), 445),\n",
       " (tensor([[0.2787]], device='cuda:0'), 442),\n",
       " (tensor([[0.2787]], device='cuda:0'), 270),\n",
       " (tensor([[0.2787]], device='cuda:0'), 260),\n",
       " (tensor([[0.2787]], device='cuda:0'), 143),\n",
       " (tensor([[0.2787]], device='cuda:0'), 108),\n",
       " (tensor([[0.2787]], device='cuda:0'), 71),\n",
       " (tensor([[0.2784]], device='cuda:0'), 631),\n",
       " (tensor([[0.2784]], device='cuda:0'), 80),\n",
       " (tensor([[0.2783]], device='cuda:0'), 133),\n",
       " (tensor([[0.2783]], device='cuda:0'), 735),\n",
       " (tensor([[0.2782]], device='cuda:0'), 382),\n",
       " (tensor([[0.2781]], device='cuda:0'), 112),\n",
       " (tensor([[0.2780]], device='cuda:0'), 12),\n",
       " (tensor([[0.2780]], device='cuda:0'), 646),\n",
       " (tensor([[0.2778]], device='cuda:0'), 142),\n",
       " (tensor([[0.2778]], device='cuda:0'), 863),\n",
       " (tensor([[0.2776]], device='cuda:0'), 309),\n",
       " (tensor([[0.2775]], device='cuda:0'), 198),\n",
       " (tensor([[0.2775]], device='cuda:0'), 880),\n",
       " (tensor([[0.2773]], device='cuda:0'), 605),\n",
       " (tensor([[0.2771]], device='cuda:0'), 905),\n",
       " (tensor([[0.2767]], device='cuda:0'), 513),\n",
       " (tensor([[0.2763]], device='cuda:0'), 487),\n",
       " (tensor([[0.2761]], device='cuda:0'), 120),\n",
       " (tensor([[0.2761]], device='cuda:0'), 147),\n",
       " (tensor([[0.2759]], device='cuda:0'), 380),\n",
       " (tensor([[0.2759]], device='cuda:0'), 283),\n",
       " (tensor([[0.2758]], device='cuda:0'), 683),\n",
       " (tensor([[0.2758]], device='cuda:0'), 858),\n",
       " (tensor([[0.2752]], device='cuda:0'), 970),\n",
       " (tensor([[0.2751]], device='cuda:0'), 472),\n",
       " (tensor([[0.2750]], device='cuda:0'), 54),\n",
       " (tensor([[0.2749]], device='cuda:0'), 322),\n",
       " (tensor([[0.2748]], device='cuda:0'), 548),\n",
       " (tensor([[0.2748]], device='cuda:0'), 496),\n",
       " (tensor([[0.2747]], device='cuda:0'), 105),\n",
       " (tensor([[0.2738]], device='cuda:0'), 25),\n",
       " (tensor([[0.2738]], device='cuda:0'), 644),\n",
       " (tensor([[0.2738]], device='cuda:0'), 408),\n",
       " (tensor([[0.2736]], device='cuda:0'), 728),\n",
       " (tensor([[0.2736]], device='cuda:0'), 617),\n",
       " (tensor([[0.2735]], device='cuda:0'), 653),\n",
       " (tensor([[0.2735]], device='cuda:0'), 611),\n",
       " (tensor([[0.2735]], device='cuda:0'), 179),\n",
       " (tensor([[0.2732]], device='cuda:0'), 538),\n",
       " (tensor([[0.2731]], device='cuda:0'), 159),\n",
       " (tensor([[0.2730]], device='cuda:0'), 428),\n",
       " (tensor([[0.2730]], device='cuda:0'), 155),\n",
       " (tensor([[0.2727]], device='cuda:0'), 413),\n",
       " (tensor([[0.2725]], device='cuda:0'), 353),\n",
       " (tensor([[0.2724]], device='cuda:0'), 400),\n",
       " (tensor([[0.2716]], device='cuda:0'), 342),\n",
       " (tensor([[0.2716]], device='cuda:0'), 131),\n",
       " (tensor([[0.2715]], device='cuda:0'), 570),\n",
       " (tensor([[0.2714]], device='cuda:0'), 628),\n",
       " (tensor([[0.2710]], device='cuda:0'), 227),\n",
       " (tensor([[0.2709]], device='cuda:0'), 24),\n",
       " (tensor([[0.2708]], device='cuda:0'), 665),\n",
       " (tensor([[0.2703]], device='cuda:0'), 798),\n",
       " (tensor([[0.2703]], device='cuda:0'), 100),\n",
       " (tensor([[0.2703]], device='cuda:0'), 52),\n",
       " (tensor([[0.2703]], device='cuda:0'), 992),\n",
       " (tensor([[0.2702]], device='cuda:0'), 86),\n",
       " (tensor([[0.2700]], device='cuda:0'), 383),\n",
       " (tensor([[0.2691]], device='cuda:0'), 402),\n",
       " (tensor([[0.2689]], device='cuda:0'), 563),\n",
       " (tensor([[0.2689]], device='cuda:0'), 860),\n",
       " (tensor([[0.2686]], device='cuda:0'), 748),\n",
       " (tensor([[0.2682]], device='cuda:0'), 633),\n",
       " (tensor([[0.2681]], device='cuda:0'), 518),\n",
       " (tensor([[0.2680]], device='cuda:0'), 111),\n",
       " (tensor([[0.2676]], device='cuda:0'), 391),\n",
       " (tensor([[0.2676]], device='cuda:0'), 51),\n",
       " (tensor([[0.2676]], device='cuda:0'), 399),\n",
       " (tensor([[0.2673]], device='cuda:0'), 550),\n",
       " (tensor([[0.2673]], device='cuda:0'), 181),\n",
       " (tensor([[0.2673]], device='cuda:0'), 417),\n",
       " (tensor([[0.2671]], device='cuda:0'), 434),\n",
       " (tensor([[0.2667]], device='cuda:0'), 604),\n",
       " (tensor([[0.2666]], device='cuda:0'), 750),\n",
       " (tensor([[0.2665]], device='cuda:0'), 715),\n",
       " (tensor([[0.2659]], device='cuda:0'), 717),\n",
       " (tensor([[0.2657]], device='cuda:0'), 614),\n",
       " (tensor([[0.2657]], device='cuda:0'), 527),\n",
       " (tensor([[0.2656]], device='cuda:0'), 610),\n",
       " (tensor([[0.2656]], device='cuda:0'), 201),\n",
       " (tensor([[0.2656]], device='cuda:0'), 109),\n",
       " (tensor([[0.2656]], device='cuda:0'), 558),\n",
       " (tensor([[0.2653]], device='cuda:0'), 719),\n",
       " (tensor([[0.2653]], device='cuda:0'), 79),\n",
       " (tensor([[0.2650]], device='cuda:0'), 738),\n",
       " (tensor([[0.2650]], device='cuda:0'), 460),\n",
       " (tensor([[0.2649]], device='cuda:0'), 464),\n",
       " (tensor([[0.2648]], device='cuda:0'), 498),\n",
       " (tensor([[0.2648]], device='cuda:0'), 249),\n",
       " (tensor([[0.2648]], device='cuda:0'), 384),\n",
       " (tensor([[0.2640]], device='cuda:0'), 522),\n",
       " (tensor([[0.2638]], device='cuda:0'), 543),\n",
       " (tensor([[0.2638]], device='cuda:0'), 709),\n",
       " (tensor([[0.2638]], device='cuda:0'), 708),\n",
       " (tensor([[0.2636]], device='cuda:0'), 252),\n",
       " (tensor([[0.2636]], device='cuda:0'), 814),\n",
       " (tensor([[0.2636]], device='cuda:0'), 726),\n",
       " (tensor([[0.2632]], device='cuda:0'), 268),\n",
       " (tensor([[0.2632]], device='cuda:0'), 765),\n",
       " (tensor([[0.2629]], device='cuda:0'), 273),\n",
       " (tensor([[0.2629]], device='cuda:0'), 115),\n",
       " (tensor([[0.2624]], device='cuda:0'), 394),\n",
       " (tensor([[0.2623]], device='cuda:0'), 580),\n",
       " (tensor([[0.2623]], device='cuda:0'), 707),\n",
       " (tensor([[0.2623]], device='cuda:0'), 26),\n",
       " (tensor([[0.2620]], device='cuda:0'), 423),\n",
       " (tensor([[0.2617]], device='cuda:0'), 511),\n",
       " (tensor([[0.2609]], device='cuda:0'), 333),\n",
       " (tensor([[0.2608]], device='cuda:0'), 495),\n",
       " (tensor([[0.2596]], device='cuda:0'), 224),\n",
       " (tensor([[0.2594]], device='cuda:0'), 568),\n",
       " (tensor([[0.2592]], device='cuda:0'), 963),\n",
       " (tensor([[0.2590]], device='cuda:0'), 481),\n",
       " (tensor([[0.2590]], device='cuda:0'), 104),\n",
       " (tensor([[0.2587]], device='cuda:0'), 241),\n",
       " (tensor([[0.2583]], device='cuda:0'), 641),\n",
       " (tensor([[0.2583]], device='cuda:0'), 286),\n",
       " (tensor([[0.2582]], device='cuda:0'), 848),\n",
       " (tensor([[0.2582]], device='cuda:0'), 762),\n",
       " (tensor([[0.2582]], device='cuda:0'), 205),\n",
       " (tensor([[0.2579]], device='cuda:0'), 357),\n",
       " (tensor([[0.2576]], device='cuda:0'), 347),\n",
       " (tensor([[0.2572]], device='cuda:0'), 204),\n",
       " (tensor([[0.2568]], device='cuda:0'), 526),\n",
       " (tensor([[0.2567]], device='cuda:0'), 711),\n",
       " (tensor([[0.2563]], device='cuda:0'), 19),\n",
       " (tensor([[0.2562]], device='cuda:0'), 534),\n",
       " (tensor([[0.2557]], device='cuda:0'), 344),\n",
       " (tensor([[0.2553]], device='cuda:0'), 321),\n",
       " (tensor([[0.2553]], device='cuda:0'), 828),\n",
       " (tensor([[0.2552]], device='cuda:0'), 701),\n",
       " (tensor([[0.2551]], device='cuda:0'), 431),\n",
       " (tensor([[0.2551]], device='cuda:0'), 546),\n",
       " (tensor([[0.2549]], device='cuda:0'), 176),\n",
       " (tensor([[0.2545]], device='cuda:0'), 493),\n",
       " (tensor([[0.2544]], device='cuda:0'), 177),\n",
       " (tensor([[0.2544]], device='cuda:0'), 454),\n",
       " (tensor([[0.2543]], device='cuda:0'), 898),\n",
       " (tensor([[0.2541]], device='cuda:0'), 102),\n",
       " (tensor([[0.2541]], device='cuda:0'), 883),\n",
       " (tensor([[0.2540]], device='cuda:0'), 696),\n",
       " (tensor([[0.2539]], device='cuda:0'), 232),\n",
       " (tensor([[0.2539]], device='cuda:0'), 146),\n",
       " (tensor([[0.2537]], device='cuda:0'), 763),\n",
       " (tensor([[0.2535]], device='cuda:0'), 980),\n",
       " (tensor([[0.2534]], device='cuda:0'), 40),\n",
       " (tensor([[0.2532]], device='cuda:0'), 664),\n",
       " (tensor([[0.2532]], device='cuda:0'), 639),\n",
       " (tensor([[0.2526]], device='cuda:0'), 606),\n",
       " (tensor([[0.2525]], device='cuda:0'), 572),\n",
       " (tensor([[0.2524]], device='cuda:0'), 151),\n",
       " (tensor([[0.2524]], device='cuda:0'), 281),\n",
       " (tensor([[0.2519]], device='cuda:0'), 603),\n",
       " (tensor([[0.2518]], device='cuda:0'), 473),\n",
       " (tensor([[0.2515]], device='cuda:0'), 356),\n",
       " (tensor([[0.2515]], device='cuda:0'), 32),\n",
       " (tensor([[0.2514]], device='cuda:0'), 29),\n",
       " (tensor([[0.2513]], device='cuda:0'), 862),\n",
       " (tensor([[0.2513]], device='cuda:0'), 97),\n",
       " (tensor([[0.2503]], device='cuda:0'), 722),\n",
       " (tensor([[0.2499]], device='cuda:0'), 326),\n",
       " (tensor([[0.2493]], device='cuda:0'), 754),\n",
       " (tensor([[0.2493]], device='cuda:0'), 753),\n",
       " (tensor([[0.2493]], device='cuda:0'), 752),\n",
       " (tensor([[0.2493]], device='cuda:0'), 751),\n",
       " (tensor([[0.2493]], device='cuda:0'), 501),\n",
       " (tensor([[0.2493]], device='cuda:0'), 340),\n",
       " (tensor([[0.2489]], device='cuda:0'), 483),\n",
       " (tensor([[0.2486]], device='cuda:0'), 539),\n",
       " (tensor([[0.2485]], device='cuda:0'), 812),\n",
       " (tensor([[0.2482]], device='cuda:0'), 412),\n",
       " (tensor([[0.2477]], device='cuda:0'), 455),\n",
       " (tensor([[0.2477]], device='cuda:0'), 207),\n",
       " (tensor([[0.2477]], device='cuda:0'), 84),\n",
       " (tensor([[0.2476]], device='cuda:0'), 884),\n",
       " (tensor([[0.2468]], device='cuda:0'), 225),\n",
       " (tensor([[0.2461]], device='cuda:0'), 292),\n",
       " (tensor([[0.2455]], device='cuda:0'), 154),\n",
       " (tensor([[0.2449]], device='cuda:0'), 28),\n",
       " (tensor([[0.2448]], device='cuda:0'), 524),\n",
       " (tensor([[0.2440]], device='cuda:0'), 297),\n",
       " (tensor([[0.2431]], device='cuda:0'), 634),\n",
       " (tensor([[0.2430]], device='cuda:0'), 63),\n",
       " (tensor([[0.2427]], device='cuda:0'), 21),\n",
       " (tensor([[0.2425]], device='cuda:0'), 712),\n",
       " (tensor([[0.2425]], device='cuda:0'), 741),\n",
       " (tensor([[0.2423]], device='cuda:0'), 158),\n",
       " (tensor([[0.2420]], device='cuda:0'), 508),\n",
       " (tensor([[0.2419]], device='cuda:0'), 319),\n",
       " (tensor([[0.2417]], device='cuda:0'), 920),\n",
       " (tensor([[0.2413]], device='cuda:0'), 829),\n",
       " (tensor([[0.2410]], device='cuda:0'), 694),\n",
       " (tensor([[0.2407]], device='cuda:0'), 618),\n",
       " (tensor([[0.2407]], device='cuda:0'), 515),\n",
       " (tensor([[0.2407]], device='cuda:0'), 484),\n",
       " (tensor([[0.2407]], device='cuda:0'), 392),\n",
       " (tensor([[0.2401]], device='cuda:0'), 226),\n",
       " (tensor([[0.2401]], device='cuda:0'), 704),\n",
       " (tensor([[0.2401]], device='cuda:0'), 703),\n",
       " (tensor([[0.2398]], device='cuda:0'), 656),\n",
       " (tensor([[0.2398]], device='cuda:0'), 663),\n",
       " (tensor([[0.2393]], device='cuda:0'), 705),\n",
       " (tensor([[0.2393]], device='cuda:0'), 996),\n",
       " (tensor([[0.2391]], device='cuda:0'), 732),\n",
       " (tensor([[0.2382]], device='cuda:0'), 407),\n",
       " (tensor([[0.2382]], device='cuda:0'), 93),\n",
       " (tensor([[0.2381]], device='cuda:0'), 954),\n",
       " (tensor([[0.2380]], device='cuda:0'), 275),\n",
       " (tensor([[0.2380]], device='cuda:0'), 152),\n",
       " (tensor([[0.2379]], device='cuda:0'), 461),\n",
       " (tensor([[0.2377]], device='cuda:0'), 237),\n",
       " (tensor([[0.2376]], device='cuda:0'), 427),\n",
       " (tensor([[0.2375]], device='cuda:0'), 536),\n",
       " (tensor([[0.2373]], device='cuda:0'), 18),\n",
       " (tensor([[0.2372]], device='cuda:0'), 636),\n",
       " (tensor([[0.2370]], device='cuda:0'), 677),\n",
       " (tensor([[0.2370]], device='cuda:0'), 742),\n",
       " (tensor([[0.2369]], device='cuda:0'), 764),\n",
       " (tensor([[0.2367]], device='cuda:0'), 640),\n",
       " (tensor([[0.2361]], device='cuda:0'), 482),\n",
       " (tensor([[0.2361]], device='cuda:0'), 727),\n",
       " (tensor([[0.2359]], device='cuda:0'), 425),\n",
       " (tensor([[0.2356]], device='cuda:0'), 189),\n",
       " (tensor([[0.2353]], device='cuda:0'), 377),\n",
       " (tensor([[0.2350]], device='cuda:0'), 971),\n",
       " (tensor([[0.2348]], device='cuda:0'), 41),\n",
       " (tensor([[0.2346]], device='cuda:0'), 38),\n",
       " (tensor([[0.2343]], device='cuda:0'), 367),\n",
       " (tensor([[0.2342]], device='cuda:0'), 720),\n",
       " (tensor([[0.2340]], device='cuda:0'), 652),\n",
       " (tensor([[0.2337]], device='cuda:0'), 87),\n",
       " (tensor([[0.2335]], device='cuda:0'), 685),\n",
       " (tensor([[0.2333]], device='cuda:0'), 418),\n",
       " (tensor([[0.2332]], device='cuda:0'), 622),\n",
       " (tensor([[0.2331]], device='cuda:0'), 298),\n",
       " (tensor([[0.2323]], device='cuda:0'), 443),\n",
       " (tensor([[0.2323]], device='cuda:0'), 430),\n",
       " (tensor([[0.2321]], device='cuda:0'), 793),\n",
       " (tensor([[0.2320]], device='cuda:0'), 463),\n",
       " (tensor([[0.2319]], device='cuda:0'), 287),\n",
       " (tensor([[0.2316]], device='cuda:0'), 374),\n",
       " (tensor([[0.2316]], device='cuda:0'), 197),\n",
       " (tensor([[0.2316]], device='cuda:0'), 64),\n",
       " (tensor([[0.2315]], device='cuda:0'), 253),\n",
       " (tensor([[0.2311]], device='cuda:0'), 485),\n",
       " (tensor([[0.2307]], device='cuda:0'), 566),\n",
       " (tensor([[0.2306]], device='cuda:0'), 68),\n",
       " (tensor([[0.2305]], device='cuda:0'), 679),\n",
       " (tensor([[0.2303]], device='cuda:0'), 931),\n",
       " (tensor([[0.2303]], device='cuda:0'), 930),\n",
       " (tensor([[0.2301]], device='cuda:0'), 747),\n",
       " (tensor([[0.2299]], device='cuda:0'), 693),\n",
       " (tensor([[0.2297]], device='cuda:0'), 756),\n",
       " (tensor([[0.2297]], device='cuda:0'), 581),\n",
       " (tensor([[0.2297]], device='cuda:0'), 386),\n",
       " (tensor([[0.2297]], device='cuda:0'), 290),\n",
       " (tensor([[0.2291]], device='cuda:0'), 125),\n",
       " (tensor([[0.2290]], device='cuda:0'), 671),\n",
       " (tensor([[0.2290]], device='cuda:0'), 50),\n",
       " (tensor([[0.2281]], device='cuda:0'), 979),\n",
       " (tensor([[0.2278]], device='cuda:0'), 303),\n",
       " (tensor([[0.2275]], device='cuda:0'), 850),\n",
       " (tensor([[0.2274]], device='cuda:0'), 545),\n",
       " (tensor([[0.2270]], device='cuda:0'), 53),\n",
       " (tensor([[0.2269]], device='cuda:0'), 334),\n",
       " (tensor([[0.2266]], device='cuda:0'), 295),\n",
       " (tensor([[0.2265]], device='cuda:0'), 670),\n",
       " (tensor([[0.2261]], device='cuda:0'), 598),\n",
       " (tensor([[0.2253]], device='cuda:0'), 426),\n",
       " (tensor([[0.2252]], device='cuda:0'), 248),\n",
       " (tensor([[0.2250]], device='cuda:0'), 544),\n",
       " (tensor([[0.2246]], device='cuda:0'), 505),\n",
       " (tensor([[0.2240]], device='cuda:0'), 649),\n",
       " (tensor([[0.2240]], device='cuda:0'), 648),\n",
       " (tensor([[0.2235]], device='cuda:0'), 607),\n",
       " (tensor([[0.2231]], device='cuda:0'), 91),\n",
       " (tensor([[0.2231]], device='cuda:0'), 562),\n",
       " (tensor([[0.2231]], device='cuda:0'), 358),\n",
       " (tensor([[0.2231]], device='cuda:0'), 240),\n",
       " (tensor([[0.2230]], device='cuda:0'), 488),\n",
       " (tensor([[0.2230]], device='cuda:0'), 44),\n",
       " (tensor([[0.2228]], device='cuda:0'), 96),\n",
       " (tensor([[0.2224]], device='cuda:0'), 370),\n",
       " (tensor([[0.2221]], device='cuda:0'), 312),\n",
       " (tensor([[0.2219]], device='cuda:0'), 502),\n",
       " (tensor([[0.2217]], device='cuda:0'), 800),\n",
       " (tensor([[0.2215]], device='cuda:0'), 537),\n",
       " (tensor([[0.2213]], device='cuda:0'), 67),\n",
       " (tensor([[0.2213]], device='cuda:0'), 435),\n",
       " (tensor([[0.2212]], device='cuda:0'), 161),\n",
       " (tensor([[0.2211]], device='cuda:0'), 682),\n",
       " (tensor([[0.2211]], device='cuda:0'), 960),\n",
       " (tensor([[0.2206]], device='cuda:0'), 637),\n",
       " (tensor([[0.2191]], device='cuda:0'), 859),\n",
       " (tensor([[0.2190]], device='cuda:0'), 492),\n",
       " (tensor([[0.2186]], device='cuda:0'), 192),\n",
       " (tensor([[0.2186]], device='cuda:0'), 624),\n",
       " (tensor([[0.2186]], device='cuda:0'), 81),\n",
       " (tensor([[0.2186]], device='cuda:0'), 55),\n",
       " (tensor([[0.2184]], device='cuda:0'), 341),\n",
       " (tensor([[0.2183]], device='cuda:0'), 175),\n",
       " (tensor([[0.2177]], device='cuda:0'), 666),\n",
       " (tensor([[0.2176]], device='cuda:0'), 929),\n",
       " (tensor([[0.2173]], device='cuda:0'), 571),\n",
       " (tensor([[0.2170]], device='cuda:0'), 379),\n",
       " (tensor([[0.2161]], device='cuda:0'), 469),\n",
       " (tensor([[0.2151]], device='cuda:0'), 238),\n",
       " (tensor([[0.2150]], device='cuda:0'), 149),\n",
       " (tensor([[0.2149]], device='cuda:0'), 453),\n",
       " (tensor([[0.2146]], device='cuda:0'), 669),\n",
       " (tensor([[0.2140]], device='cuda:0'), 172),\n",
       " (tensor([[0.2138]], device='cuda:0'), 567),\n",
       " (tensor([[0.2138]], device='cuda:0'), 583),\n",
       " (tensor([[0.2136]], device='cuda:0'), 45),\n",
       " (tensor([[0.2135]], device='cuda:0'), 849),\n",
       " (tensor([[0.2135]], device='cuda:0'), 530),\n",
       " (tensor([[0.2122]], device='cuda:0'), 660),\n",
       " (tensor([[0.2117]], device='cuda:0'), 441),\n",
       " (tensor([[0.2113]], device='cuda:0'), 957),\n",
       " (tensor([[0.2112]], device='cuda:0'), 585),\n",
       " (tensor([[0.2106]], device='cuda:0'), 242),\n",
       " (tensor([[0.2102]], device='cuda:0'), 320),\n",
       " (tensor([[0.2097]], device='cuda:0'), 33),\n",
       " (tensor([[0.2094]], device='cuda:0'), 263),\n",
       " (tensor([[0.2088]], device='cuda:0'), 276),\n",
       " (tensor([[0.2087]], device='cuda:0'), 277),\n",
       " (tensor([[0.2085]], device='cuda:0'), 638),\n",
       " (tensor([[0.2077]], device='cuda:0'), 222),\n",
       " (tensor([[0.2077]], device='cuda:0'), 676),\n",
       " (tensor([[0.2076]], device='cuda:0'), 269),\n",
       " (tensor([[0.2068]], device='cuda:0'), 988),\n",
       " (tensor([[0.2068]], device='cuda:0'), 214),\n",
       " (tensor([[0.2060]], device='cuda:0'), 600),\n",
       " (tensor([[0.2054]], device='cuda:0'), 855),\n",
       " (tensor([[0.2050]], device='cuda:0'), 852),\n",
       " (tensor([[0.2031]], device='cuda:0'), 385),\n",
       " (tensor([[0.2021]], device='cuda:0'), 436),\n",
       " (tensor([[0.2020]], device='cuda:0'), 939),\n",
       " (tensor([[0.2001]], device='cuda:0'), 661),\n",
       " (tensor([[0.1999]], device='cuda:0'), 203),\n",
       " (tensor([[0.1986]], device='cuda:0'), 327),\n",
       " (tensor([[0.1980]], device='cuda:0'), 586),\n",
       " (tensor([[0.1972]], device='cuda:0'), 196),\n",
       " (tensor([[0.1972]], device='cuda:0'), 15),\n",
       " (tensor([[0.1966]], device='cuda:0'), 986),\n",
       " (tensor([[0.1966]], device='cuda:0'), 521),\n",
       " (tensor([[0.1963]], device='cuda:0'), 127),\n",
       " (tensor([[0.1963]], device='cuda:0'), 575),\n",
       " (tensor([[0.1962]], device='cuda:0'), 974),\n",
       " (tensor([[0.1959]], device='cuda:0'), 468),\n",
       " (tensor([[0.1959]], device='cuda:0'), 659),\n",
       " (tensor([[0.1959]], device='cuda:0'), 655),\n",
       " (tensor([[0.1954]], device='cuda:0'), 680),\n",
       " (tensor([[0.1943]], device='cuda:0'), 512),\n",
       " (tensor([[0.1938]], device='cuda:0'), 969),\n",
       " (tensor([[0.1917]], device='cuda:0'), 288),\n",
       " (tensor([[0.1916]], device='cuda:0'), 404),\n",
       " (tensor([[0.1913]], device='cuda:0'), 574),\n",
       " (tensor([[0.1913]], device='cuda:0'), 285),\n",
       " (tensor([[0.1911]], device='cuda:0'), 695),\n",
       " (tensor([[0.1908]], device='cuda:0'), 324),\n",
       " (tensor([[0.1896]], device='cuda:0'), 296),\n",
       " (tensor([[0.1874]], device='cuda:0'), 593),\n",
       " (tensor([[0.1862]], device='cuda:0'), 274),\n",
       " (tensor([[0.1860]], device='cuda:0'), 110),\n",
       " (tensor([[0.1858]], device='cuda:0'), 346),\n",
       " (tensor([[0.1849]], device='cuda:0'), 375),\n",
       " (tensor([[0.1832]], device='cuda:0'), 892),\n",
       " (tensor([[0.1828]], device='cuda:0'), 785),\n",
       " (tensor([[0.1822]], device='cuda:0'), 729),\n",
       " (tensor([[0.1806]], device='cuda:0'), 802),\n",
       " (tensor([[0.1792]], device='cuda:0'), 451),\n",
       " (tensor([[0.1784]], device='cuda:0'), 630),\n",
       " (tensor([[0.1763]], device='cuda:0'), 599),\n",
       " (tensor([[0.1756]], device='cuda:0'), 792),\n",
       " (tensor([[0.1755]], device='cuda:0'), 675),\n",
       " (tensor([[0.1751]], device='cuda:0'), 804),\n",
       " (tensor([[0.1750]], device='cuda:0'), 854),\n",
       " (tensor([[0.1749]], device='cuda:0'), 777),\n",
       " (tensor([[0.1738]], device='cuda:0'), 212),\n",
       " (tensor([[0.1734]], device='cuda:0'), 861),\n",
       " (tensor([[0.1728]], device='cuda:0'), 118),\n",
       " (tensor([[0.1716]], device='cuda:0'), 938),\n",
       " (tensor([[0.1695]], device='cuda:0'), 470),\n",
       " (tensor([[0.1695]], device='cuda:0'), 208),\n",
       " (tensor([[0.1688]], device='cuda:0'), 893),\n",
       " (tensor([[0.1645]], device='cuda:0'), 533),\n",
       " (tensor([[0.1643]], device='cuda:0'), 795),\n",
       " (tensor([[0.1626]], device='cuda:0'), 903),\n",
       " (tensor([[0.1550]], device='cuda:0'), 140),\n",
       " (tensor([[0.1543]], device='cuda:0'), 478),\n",
       " (tensor([[0.1500]], device='cuda:0'), 946),\n",
       " (tensor([[0.1486]], device='cuda:0'), 983),\n",
       " (tensor([[0.1467]], device='cuda:0'), 935),\n",
       " (tensor([[0.1464]], device='cuda:0'), 982),\n",
       " (tensor([[0.1459]], device='cuda:0'), 856),\n",
       " (tensor([[0.1455]], device='cuda:0'), 300),\n",
       " (tensor([[0.1454]], device='cuda:0'), 981),\n",
       " (tensor([[0.1426]], device='cuda:0'), 876),\n",
       " (tensor([[0.1348]], device='cuda:0'), 942),\n",
       " (tensor([[0.1332]], device='cuda:0'), 984),\n",
       " (tensor([[0.1332]], device='cuda:0'), 746),\n",
       " (tensor([[0.1332]], device='cuda:0'), 228),\n",
       " (tensor([[0.1332]], device='cuda:0'), 985),\n",
       " (tensor([[0.1332]], device='cuda:0'), 733),\n",
       " (tensor([[0.1332]], device='cuda:0'), 643),\n",
       " (tensor([[0.1332]], device='cuda:0'), 486),\n",
       " (tensor([[0.1332]], device='cuda:0'), 145),\n",
       " (tensor([[0.1332]], device='cuda:0'), 141),\n",
       " (tensor([[0.1332]], device='cuda:0'), 62),\n",
       " (tensor([[0.1311]], device='cuda:0'), 760),\n",
       " (tensor([[0.1304]], device='cuda:0'), 797),\n",
       " (tensor([[0.1297]], device='cuda:0'), 978),\n",
       " (tensor([[0.1291]], device='cuda:0'), 779),\n",
       " (tensor([[0.1282]], device='cuda:0'), 647),\n",
       " (tensor([[0.1245]], device='cuda:0'), 784),\n",
       " (tensor([[0.1243]], device='cuda:0'), 72),\n",
       " (tensor([[0.1228]], device='cuda:0'), 808),\n",
       " (tensor([[0.1227]], device='cuda:0'), 770),\n",
       " (tensor([[0.1225]], device='cuda:0'), 706),\n",
       " (tensor([[0.1220]], device='cuda:0'), 284),\n",
       " (tensor([[0.1213]], device='cuda:0'), 886),\n",
       " (tensor([[0.1201]], device='cuda:0'), 987),\n",
       " (tensor([[0.1195]], device='cuda:0'), 789),\n",
       " (tensor([[0.1186]], device='cuda:0'), 906),\n",
       " (tensor([[0.1179]], device='cuda:0'), 937),\n",
       " (tensor([[0.1161]], device='cuda:0'), 956),\n",
       " (tensor([[0.1146]], device='cuda:0'), 807),\n",
       " (tensor([[0.1132]], device='cuda:0'), 909),\n",
       " (tensor([[0.1113]], device='cuda:0'), 990),\n",
       " (tensor([[0.1106]], device='cuda:0'), 879),\n",
       " (tensor([[0.1101]], device='cuda:0'), 771),\n",
       " (tensor([[0.1092]], device='cuda:0'), 877),\n",
       " (tensor([[0.1088]], device='cuda:0'), 806),\n",
       " (tensor([[0.1086]], device='cuda:0'), 916),\n",
       " (tensor([[0.1080]], device='cuda:0'), 815),\n",
       " (tensor([[0.1074]], device='cuda:0'), 769),\n",
       " (tensor([[0.1071]], device='cuda:0'), 791),\n",
       " (tensor([[0.1067]], device='cuda:0'), 878),\n",
       " (tensor([[0.1062]], device='cuda:0'), 839),\n",
       " (tensor([[0.1059]], device='cuda:0'), 869),\n",
       " (tensor([[0.1049]], device='cuda:0'), 955),\n",
       " (tensor([[0.1034]], device='cuda:0'), 994),\n",
       " (tensor([[0.1029]], device='cuda:0'), 915),\n",
       " (tensor([[0.1015]], device='cuda:0'), 875),\n",
       " (tensor([[0.1002]], device='cuda:0'), 918),\n",
       " (tensor([[0.0997]], device='cuda:0'), 912),\n",
       " (tensor([[0.0996]], device='cuda:0'), 816),\n",
       " (tensor([[0.0983]], device='cuda:0'), 925),\n",
       " (tensor([[0.0975]], device='cuda:0'), 788),\n",
       " (tensor([[0.0972]], device='cuda:0'), 962),\n",
       " (tensor([[0.0969]], device='cuda:0'), 995),\n",
       " (tensor([[0.0968]], device='cuda:0'), 908),\n",
       " (tensor([[0.0962]], device='cuda:0'), 811),\n",
       " (tensor([[0.0962]], device='cuda:0'), 865),\n",
       " (tensor([[0.0957]], device='cuda:0'), 917),\n",
       " (tensor([[0.0957]], device='cuda:0'), 901),\n",
       " (tensor([[0.0952]], device='cuda:0'), 910),\n",
       " (tensor([[0.0950]], device='cuda:0'), 900),\n",
       " (tensor([[0.0948]], device='cuda:0'), 768),\n",
       " (tensor([[0.0935]], device='cuda:0'), 888),\n",
       " (tensor([[0.0935]], device='cuda:0'), 887),\n",
       " (tensor([[0.0933]], device='cuda:0'), 927),\n",
       " (tensor([[0.0926]], device='cuda:0'), 991),\n",
       " (tensor([[0.0918]], device='cuda:0'), 810),\n",
       " (tensor([[0.0898]], device='cuda:0'), 913),\n",
       " (tensor([[0.0897]], device='cuda:0'), 926),\n",
       " (tensor([[0.0861]], device='cuda:0'), 961),\n",
       " (tensor([[0.0859]], device='cuda:0'), 781),\n",
       " (tensor([[0.0855]], device='cuda:0'), 968),\n",
       " (tensor([[0.0850]], device='cuda:0'), 870),\n",
       " (tensor([[0.0850]], device='cuda:0'), 841),\n",
       " (tensor([[0.0844]], device='cuda:0'), 902),\n",
       " (tensor([[0.0841]], device='cuda:0'), 831),\n",
       " (tensor([[0.0830]], device='cuda:0'), 907),\n",
       " (tensor([[0.0827]], device='cuda:0'), 872),\n",
       " (tensor([[0.0802]], device='cuda:0'), 947),\n",
       " (tensor([[0.0802]], device='cuda:0'), 952),\n",
       " (tensor([[0.0802]], device='cuda:0'), 951),\n",
       " (tensor([[0.0793]], device='cuda:0'), 790),\n",
       " (tensor([[0.0786]], device='cuda:0'), 922),\n",
       " (tensor([[0.0776]], device='cuda:0'), 774),\n",
       " (tensor([[0.0774]], device='cuda:0'), 782),\n",
       " (tensor([[0.0751]], device='cuda:0'), 958),\n",
       " (tensor([[0.0750]], device='cuda:0'), 868),\n",
       " (tensor([[0.0746]], device='cuda:0'), 819),\n",
       " (tensor([[0.0742]], device='cuda:0'), 835),\n",
       " (tensor([[0.0738]], device='cuda:0'), 924),\n",
       " (tensor([[0.0737]], device='cuda:0'), 904),\n",
       " (tensor([[0.0720]], device='cuda:0'), 989),\n",
       " (tensor([[0.0718]], device='cuda:0'), 787),\n",
       " (tensor([[0.0712]], device='cuda:0'), 757),\n",
       " (tensor([[0.0711]], device='cuda:0'), 122),\n",
       " (tensor([[0.0708]], device='cuda:0'), 820),\n",
       " (tensor([[0.0704]], device='cuda:0'), 953),\n",
       " (tensor([[0.0695]], device='cuda:0'), 959),\n",
       " (tensor([[0.0686]], device='cuda:0'), 921),\n",
       " (tensor([[0.0683]], device='cuda:0'), 928),\n",
       " (tensor([[0.0680]], device='cuda:0'), 941),\n",
       " (tensor([[0.0680]], device='cuda:0'), 873),\n",
       " (tensor([[0.0679]], device='cuda:0'), 866),\n",
       " (tensor([[0.0677]], device='cuda:0'), 943),\n",
       " (tensor([[0.0668]], device='cuda:0'), 775),\n",
       " (tensor([[0.0664]], device='cuda:0'), 864),\n",
       " (tensor([[0.0658]], device='cuda:0'), 882),\n",
       " (tensor([[0.0637]], device='cuda:0'), 945),\n",
       " (tensor([[0.0621]], device='cuda:0'), 871),\n",
       " (tensor([[0.0621]], device='cuda:0'), 821),\n",
       " (tensor([[0.0611]], device='cuda:0'), 914),\n",
       " (tensor([[0.0605]], device='cuda:0'), 650),\n",
       " (tensor([[0.0601]], device='cuda:0'), 826),\n",
       " (tensor([[0.0598]], device='cuda:0'), 817),\n",
       " (tensor([[0.0597]], device='cuda:0'), 911),\n",
       " (tensor([[0.0593]], device='cuda:0'), 778),\n",
       " (tensor([[0.0589]], device='cuda:0'), 772),\n",
       " (tensor([[0.0517]], device='cuda:0'), 874),\n",
       " (tensor([[0.0474]], device='cuda:0'), 832),\n",
       " (tensor([[0.0471]], device='cuda:0'), 824),\n",
       " (tensor([[0.0443]], device='cuda:0'), 801),\n",
       " (tensor([[0.0419]], device='cuda:0'), 919),\n",
       " (tensor([[0.0249]], device='cuda:0'), 837),\n",
       " (tensor([[0.0236]], device='cuda:0'), 993),\n",
       " (tensor([[0.0193]], device='cuda:0'), 936),\n",
       " (tensor([[0.0150]], device='cuda:0'), 783),\n",
       " (tensor([[0.0144]], device='cuda:0'), 940),\n",
       " (tensor([[0.0124]], device='cuda:0'), 822),\n",
       " (tensor([[0.0124]], device='cuda:0'), 846),\n",
       " (tensor([[0.0112]], device='cuda:0'), 840),\n",
       " (tensor([[0.0092]], device='cuda:0'), 194),\n",
       " (tensor([[0.0015]], device='cuda:0'), 809),\n",
       " (tensor([[-0.0122]], device='cuda:0'), 966)]"
      ]
     },
     "execution_count": 41,
     "metadata": {},
     "output_type": "execute_result"
    }
   ],
   "execution_count": 41
  },
  {
   "metadata": {
    "ExecuteTime": {
     "end_time": "2025-05-08T22:32:03.186089Z",
     "start_time": "2025-05-08T22:31:54.509283Z"
    }
   },
   "cell_type": "code",
   "source": "print(f\"Job 1: {list(jobs_df.select('document').collect())[0]['document']}\")",
   "id": "f61d726d3071733a",
   "outputs": [
    {
     "name": "stdout",
     "output_type": "stream",
     "text": [
      "Job 1: backend developer python django seeking highly skilled python developer strong experience django restful apis ideal candidate deep understanding relational databases postgresql unit testing ci cd pipelines also responsible system architecture decisions optimizing performance data intensive applications required skills python django django rest framework postgresql redis celery pytest docker git github actions jenkins aws ec2 s3 lambda linux cli swagger openapi remote\n"
     ]
    }
   ],
   "execution_count": 42
  },
  {
   "metadata": {
    "ExecuteTime": {
     "end_time": "2025-05-08T22:33:37.481176Z",
     "start_time": "2025-05-08T22:32:03.250528Z"
    }
   },
   "cell_type": "code",
   "source": [
    "for i, value in enumerate(similarity_list[:10]):\n",
    "    print(f\"Top {i + 1} Candidate: {list(resumes_data.select('document').collect())[value[1]]['document']}\")\n",
    "    print('')\n",
    "    print(\"==================\")"
   ],
   "id": "151ffdb037035e6c",
   "outputs": [
    {
     "name": "stdout",
     "output_type": "stream",
     "text": [
      "Top 1 Candidate: benjamin osta fresher developer professional profile fresher field software development business management right search role learn apply machine learning models real life projects proficient skills software engineer software developer jenkins springboot django python sap firebase employment history working data compression delivery system along database management business members intern feb 2020 nov 2020 flipkart educational history tech civil anna university 2020\n",
      "\n",
      "==================\n",
      "Top 2 Candidate: software developer niche towards end end machine learning projects motivated towards learning solving producing better results kln solutions junior data evangelist july 2019 till date building applications exploring data use different management solutions nolan drucks data manipulation data mining python sql programming powerbi tableau machine learning pyspark azure databricks aws tech instrumentation baburao patil college university aurangabad 2019 leveraged nltk spacy fast text libraries perform kinds nlp operations including limited cleaning stemming lemmatization word encoding etc introduction data ontology jb management software developer intern jan 2019 jun 2019 development python module assist ocr models\n",
      "\n",
      "==================\n",
      "Top 3 Candidate: coca cola big data analyst nov 2019 till date using production shipment data create delivery mechanism automate process data warehousing immediately batch served production line tech electronics amity school engineering technology aset noida 2019 work experience education jerome pelinsky big data analyst big data analytics working database warehouse manager robust experience handling kinds data also used multiple cloud infrastructure services well acquainted currently search role offers development big data hadoop hive python mapreduce spark java machine learning cloud hdfs yarn core java data science data structures dbms rdbms informatica talend amazon redshift microsoft azure skills\n",
      "\n",
      "==================\n",
      "Top 4 Candidate: keisuke yamamoto profile professional months experience web development interested ml skills web developer data analyst web development machine learning python frontend html javascript php css mysql java data structures oop algorithms experience sai technologies intern aug 2020 till date working cybersecurity company intern working different projects need python cybersecurity html css javascript java docker containers main skills education tech computers shri guru gobind singhji college engineering technology nanded 2019 activities data analyst python programming projects character detection using svm classification\n",
      "\n",
      "==================\n",
      "Top 5 Candidate: kelsey stens skills software engineer data analyst machine learning text analytics software development object oriented programming pandas numpy java python springboot laravel education tech ece dr jagjiban rao engineering college 2019 personal profile software developer focused areas machine learning application development motivated learn grow excel experience challenging work background klp technology solutions software engineer jan 2019 till date built predictive decision models using machine learning algorithms various business study cases feature engineering evaluation methods activities ondevice machine learning ui ux development projects built predictive decision models using machine learning algorithms developed integrated ui components hmi framework head display\n",
      "\n",
      "==================\n",
      "Top 6 Candidate: matthew horres junior developer work experience gruvil technologies intern trainee apr 2020 ongoing currently working nlp project understanding business objectives implementing end end project scrapping data using beautiful soup converting structured format drdo intern developer dec 2018 jul 2019 worked image identifier based satellite captured images academic profile tech electrical punjab university 2019 executive summary individual strong communication skills coordination strong attention detail comes project building analytical skills work complex problems personal skills python machine learning deep learning computer vision numpy panda matplotlib mysql opencv pytorch projects real time face mask detection extra curriculars machine learning python neural network applied pytorch\n",
      "\n",
      "==================\n",
      "Top 7 Candidate: mirad yastein skills artificial intelligence deep learning reinforcement learning tensorflow keras scikit learn numpy pandas matplotlib education tech iiit kancheepuram chennai 2019 personal profile machine learning engineer seeking assignments deep learning reinforcement learning tensorflow keras work background larsen toubro analyst intern dec 2019 till date building ocr models based test report data activities ksst scholar projects wesbite using react made fully customizable website company\n",
      "\n",
      "==================\n",
      "Top 8 Candidate: lekshmi sreelekshmi kunnamthanam thiruvalla pin 689581 mob 9645884409 mail lekshmisree777 gmail com objective part dynamic growth oriented organization performance rewarded exposure development organization synopsis completed certificate course professional software testing manual automation spyro sys software testing solutions kaloor cochin completed mca mg university kottayam analytical good problem solving excellent maintaining interpersonal relationship fast learner adaptive nature positive thinker educational details course institution board university year passing percentage awarded mca school technology applied sciences kottayam university kottayam 2015 75 bsc computer science college kottayam university kottayam 2012 75 project done defence securware front end asp net back end sql server 2008 description online system users exchange important files secured way application army personnel\n",
      "\n",
      "==================\n",
      "Top 9 Candidate: data science professional years demonstrated work experience building deploying end end analytical solutions energy resources domain sadhana consultants data scientist analytics insights jul 2019 till date performed extraction data driven insights large unstructured data sets performing knowledge discovery tasks like data acquisition cleaning integration transformation performed predictive analytics using machine learning deep learning modelling classification regression problems performed unsupervised machine learning like clustering topic modelling matilda benhams data science data analytics database management data analysis data mining data modelling data integration machine learning statistical modelling natural language processing predictive analytics python sql flask tech computers rajiv gandhi proudyogiki vishwavidyalaya rgpv bhopal 2019 transformer based question answering chatbot\n",
      "\n",
      "==================\n",
      "Top 10 Candidate: resume name revathy phone 9946528254 email revathyraviambattu085 gmail com career objective looking software testing position well known organization gives opportunity exhibit technical skill giving scope career growth education bachelor technology electronics communication engineering indira gandhi institute engineering technology cgpa 10 hse nss manickamangalam 72 secondary school certificate holy family hs angamaly 82 summary testing course spyrosys month course manual testing proficiency well versed sdlc stlc defect life cycle knowledge test plan traceability matrix knowledge writing reviewing executing test cases knowledge functional integration system testing extensive exposure black box testing using bva ecp automation testing qtp proficiency knowledge recording options qtp checkpoint output values strong knowledge exception handling strong knowledge virtual objects strong knowledge object repository strong knowledge parameterization strong knowledge object spy software proficiency software language basics strengths\n",
      "\n",
      "==================\n"
     ]
    }
   ],
   "execution_count": 43
  },
  {
   "metadata": {
    "ExecuteTime": {
     "end_time": "2025-05-08T22:33:37.622681Z",
     "start_time": "2025-05-08T22:33:37.609640Z"
    }
   },
   "cell_type": "code",
   "source": [
    "def calculate_similarity(job, resumes_emb):\n",
    "    similarity_list = []\n",
    "    for i in range(len(resumes_emb)):\n",
    "        similarity = util.cos_sim(job, resumes_emb[i])\n",
    "        similarity_list.append((similarity, i))\n",
    "    similarity_list.sort(reverse=True)\n",
    "    return similarity_list\n",
    "\n",
    "def print_top_k(similarity_list, k, resumes):\n",
    "    for i, value in enumerate(similarity_list[:k]):\n",
    "        print(f\"Top {i + 1} Candidate: {list(resumes.select('document').collect())[value[1]]['document']}\")\n",
    "        print('')\n",
    "        print(\"==================\")"
   ],
   "id": "8abc202804d26d4d",
   "outputs": [],
   "execution_count": 44
  },
  {
   "metadata": {
    "ExecuteTime": {
     "end_time": "2025-05-08T22:35:10.015369Z",
     "start_time": "2025-05-08T22:33:37.628640Z"
    }
   },
   "cell_type": "code",
   "source": [
    "similarity_list_2 = calculate_similarity(embeddings_jobs[2], embeddings_resumes)\n",
    "print_top_k(similarity_list_2, 10, resumes_data)"
   ],
   "id": "4bcc141e21231372",
   "outputs": [
    {
     "name": "stdout",
     "output_type": "stream",
     "text": [
      "Top 1 Candidate: coca cola big data analyst nov 2019 till date using production shipment data create delivery mechanism automate process data warehousing immediately batch served production line tech electronics amity school engineering technology aset noida 2019 work experience education jerome pelinsky big data analyst big data analytics working database warehouse manager robust experience handling kinds data also used multiple cloud infrastructure services well acquainted currently search role offers development big data hadoop hive python mapreduce spark java machine learning cloud hdfs yarn core java data science data structures dbms rdbms informatica talend amazon redshift microsoft azure skills\n",
      "\n",
      "==================\n",
      "Top 2 Candidate: sandeep keloth 91 9535501525 sandeepkkeloth gmail com management technical consultant 15 years itil certified professional extensive subject matter expertise project management operations sap bi data warehousing sap hana oracle technologies coordination support services experience worked india usa uae seeking leadership role fast growing reputed company professional highlights worked multinational business environment 15 years direct experience american europe australian arabian indian business ways acquired project development planning management experience operation technical domains sap bi data warehousing hana oracle technologies coordination support services process oriented experience helped teams develop efficient productive profitable business solutions managerial capabilities involved project initiation planning execution monitoring controlling closing companies like accenture ibm wipro adea technologies optimal solutions etc successfully lead unilever global project spanning multiple stakeholders departments time zone completion 2015 effective leader proven abilities leading teams project phases special interest training guiding team members sharing knowledge team mates worked coordinator pmo setting baseline tracking monitoring progress projects ensuring consistent delivery per scope budget sla information management communication status reporting identifying maintaining effort tracking sla commitment tracking review client weekly reports risk issue management maintaining effective knowledge base follow ups resource management ensure time project completion business development initiatives actively involved process transitions adherence client requirements single point contact client internal escalations leading mentoring monitoring performance team members ensure efficiency process operations meeting individual group targets technical capabilities involved full life cycle implementations support projects sap bi various kinds assignments handled leadership technical roles sap bi hana oracle projects industries worked telecom banking finance mining retail distribution health life science industries major leading business houses across world represented companies technical lead business development initiatives implemented sap bi data warehousing projects using bi modeling extraction reporting experienced bi architecture data flow strategy source system data source data modeling star schema info source info objects psa data targets ods dso multi providers info cubes info sets process chains lo cockpit enhancements user exits classes bex analyzer info sets query optimizations bw security expertise performance techniques like performance tuning aggregates compression indexes rollups performance improvement bia involved documenting functional specifications technical specifications sap solution manager test cases test results production support documents worked quality mercury centre tool testing objects bi objects sandeep keloth mca itil 91 9535501525 page\n",
      "\n",
      "==================\n",
      "Top 3 Candidate: email ata sheikh11 sar gmail com mobile 918956269975 ata ur rahman civil dce professional summary skilled civil engineer years experience variety engineering aspects capable working independently minimum supervision committed providing high quality service every project focus health safety environmental issues professional capable motivated individual consistently performs challenging environments core competencies civil engineer contractor client billing computer skill autocad 2015 quantity surveyor estimator microsoft project planning project ms excel quality control ms word client contractor reletionship management project management key result areas project execution handling project related activities method engineering contract administration construction supervision resource planning anchoring site construction activities ensure completion project within time cost parameters effective resource utilization maximize output site execution supervising construction activities including providing technical inputs methodologies construction coordination site planning coordinating monitoring civil works per drawings specifications checking reinforcement work prior concreting quality implementation improvement developing integrated management system meeting requirements quality standards practicing quality standards responsible quality gradation productivity key emphasis customer specific requirements assignments handled organization vishvaraj infrastructure ltd duration june2017 still continuing\n",
      "\n",
      "==================\n",
      "Top 4 Candidate: jebin desktop support dubai jebin jino gmail com mobile 971581802708 objective seeking suitable position accordance professional experience qualification skills gained years full extends development contribution overall growth profitability organization well attaining self growth career self motivated ambitious hardworking zeal professional progress career advancement determination dedication academic details degree course institution year passing percentage grade computer science engineering mar ephraem college engineering technology 2015 49 diploma computer science engineering morning star polytechnic college 2012 71 96 hsc christucoil lms higher secondary school 2010 50 sslc st anthony high school 2008 76 work experience organization designation duration syska gadget pvt ltd desktop support mar 2017 dec 2017 valecha engineering ltd system support jul 2015 dec 2016 andromeda bpo pvt ltd support engineer apr 2012 aug 2012 roles desktop support research identify solutions software hardware issues diagnose troubleshoot technical issues including account setup network configuration track computer system issues resolution within agreed time limits talk clients series actions either via phone email chat ve solved technical issue properly escalate unresolved issues appropriate internal teams software developers provide prompt accurate feedback customers refer internal database external resources provide accurate tech solutions ensure issues properly logged prioritize manage several open issues one time system support first level escalation related incidents problems queries users infrastructure need make regular follow installations maintenance operating systems windows xp sp3 windows application softwares setup maintenance lan network share printer installations monitor network infrastructure using hp monitoring tools sla violation critical need solve issue making proper follow ups basic configuration router switches manage alerts hp sitescope network node manager support engineer operating automated call distribution phone software via remote connection internet diagnose resolve technical hardware software issues involving internet connectivity email clients iptv voip research required information using available resources follow standard processes procedures identify escalate priority issues per client specifications redirect problems appropriate resource stay current system information changes updates skills\n",
      "\n",
      "==================\n",
      "Top 5 Candidate: profile summary goal oriented professional years experience operations maintenance installation commissioning process improvements worked various requirements respect utilities machines manpower monitoring overall operations ensuring timely completion skilled directing instructing maintenance technicians monitoring expenses optimum utilization resources ensured suitable manpower deployed proper planning timely execution projects proficiency managing team guiding site staff members address resolve performance bottlenecks expertise scheduling effecting preventive maintenance various kind equipment increase equipment uptime reliability accomplishing project targets analytical quality oriented professional eye detail education diploma electrical electronics engineering dusi polytechnic college cheyyar 2010 first class certification competency certificate high tension work govt tamilnadu certificated training electrical height work falls arrested system soft skills key skills operations maintenance installation commissioning project management statutory compliances quality assurance control process improvement excellence facility management balaji loganathan targeting middle level assignments operations maintenance facility management organization repute oil gas power plant sector preferably gulf balalalith007 gmail com 91 9500434062 motivational leader change agent thinker collaborator planner communicator\n",
      "\n",
      "==================\n",
      "Top 6 Candidate: curriculum vitae manu tiwari mobile 91 9891020801 mail manukumart93 gmail com skype id manu kumar9891 utilize professional skills knowledge acquired reaching potential achieving goals respective organization hence build stronger career snapshot tech electrical electronics years experience distribution power management smart metering distribution automation smart grid plc rf gprs ami wireless communication integration among various software hardware automation control systems currently working sumeru verde technology pvt ltd designated business analyst functionality team lead develop monitor energy utility power project wireless communication currently handling delivery part team lead tata power delhi distribution limited tpddl ndpl calcutta electric supply corporation cesc power grid pondicherry sdlc knowledge thorough understanding smart meters data concentrator controllers software adept analyzing information system needs evaluating end user requirements custom designing solutions troubleshooting complex information systems management successfully executed installation commissioning calibration equipment software site testing software quality assurance preparing various use cases strong collaboration team building interpersonal communication skills proficiency grasping new technical concepts quickly utilizing productive manner knowledge various microcontrollers system design 16 32 bit specific smart metering another related product understanding hardware design smart energy meter skill set technical mdm meter data management mdas meter data acquisition system ami advance meter infrastructure amr automatic meter reading da distribution automation rf based plcc metering power line carrier communication rf metering\n",
      "\n",
      "==================\n",
      "Top 7 Candidate: benjamin osta fresher developer professional profile fresher field software development business management right search role learn apply machine learning models real life projects proficient skills software engineer software developer jenkins springboot django python sap firebase employment history working data compression delivery system along database management business members intern feb 2020 nov 2020 flipkart educational history tech civil anna university 2020\n",
      "\n",
      "==================\n",
      "Top 8 Candidate: lekshmi sreelekshmi kunnamthanam thiruvalla pin 689581 mob 9645884409 mail lekshmisree777 gmail com objective part dynamic growth oriented organization performance rewarded exposure development organization synopsis completed certificate course professional software testing manual automation spyro sys software testing solutions kaloor cochin completed mca mg university kottayam analytical good problem solving excellent maintaining interpersonal relationship fast learner adaptive nature positive thinker educational details course institution board university year passing percentage awarded mca school technology applied sciences kottayam university kottayam 2015 75 bsc computer science college kottayam university kottayam 2012 75 project done defence securware front end asp net back end sql server 2008 description online system users exchange important files secured way application army personnel\n",
      "\n",
      "==================\n",
      "Top 9 Candidate: suresh mobile 91 8122578760 mail ksuresh2806 gmail com career objective seeking position related career engineering technology field utilize skills abilities offers professional growth resourceful innovative flexible current designation electrical maintenance site engineer experence details 11 years months experience field electrical construction operation maintenance electrical equipment job profile electrical engineer electrical preventive maintenance electrical equipment trouble shooting modification electrical control circuits testing motors transformers lightings outlets aware safety procedure work electrical basis job able electrical medium voltage low voltage circuit breakers isolation visual inspections transformers motors generators 440v bus systems scope jobs follows installation commissioning lt breakers routine inspection preventive maintenance generator maintenance repairing starters recording running hours motor maintenance bearing lubrication installation trouble shooting eot grains light fittings planning execution planning work schedule iso work documentation work coordinating clients contractors\n",
      "\n",
      "==================\n",
      "Top 10 Candidate: santoosh venkatram mobile 91 94800 02037 email santooshv gmail com seek challenging assignments deliver comprehensive business value working team player productive individual contributor reputed organisation growth profiles degree bachelor engineering years experience consulting stream testing application maintenance managed business services business analysis scrum master test lead managing members supporting complex size projects simultaneously develop test cases regression testing smoke testing black box testing agile test management integration testing domain expert smart metering meter data management energy utilities nordic regions domain experience uk tax data analytics specialised consulting smart metering smart grid solutions b2b m2c experience serving process quality lead management consulting practice kpmg excellent analytical observational motivational skills good command english professional experience assistant manager kpmg nov2016 current scrum master test lead techsolutions tax workflow tax workflow involves custom development support tax filling solution implemented kpmg uk tools sequence bi digita alpha tax document review tool sql vsts service single handedly led transition projects uk indian team manage testing support key role building expansion team involved development test support suite projects uk tax domain recruiting resources projects support sprint planning portal testing regression testing test management project co ordination onshore offshore interaction product owner get requirements sprints creation test cases testing showcasing working solutions managing vsts tfs sprints test management working 1st 2nd line support solve production issues escalations calls helpdesk identify areas improvements customer compass australia kpmg capital mar 2015 nov 2016 test manager tools jira zephyr confluence source qlikview working agile model test manager data analytics product testing actively involved working sync product owners creating trend analysis customer journeys visualizations charts journey mapping sprint planning creation stories test cases defect management improvements mapping requirements test scenarios sprint tracking closure regression testing smoke testing system testing generate weekly status reports sprint burn charts senior consultant capgemini consulting pvt ltd jan2010 aug2014 test manager fortum energy provider operating nordic region dealing power generation distribution energy fortum million advanced metering infrastructure ami automated meter reads amr\n",
      "\n",
      "==================\n"
     ]
    }
   ],
   "execution_count": 45
  },
  {
   "metadata": {
    "ExecuteTime": {
     "end_time": "2025-05-08T22:35:19.907837Z",
     "start_time": "2025-05-08T22:35:10.314873Z"
    }
   },
   "cell_type": "code",
   "source": "print(f\"Job 3: {list(jobs_df.select('document').collect())[2]['document']}\")",
   "id": "d0edf095b00d9788",
   "outputs": [
    {
     "name": "stdout",
     "output_type": "stream",
     "text": [
      "Job 3: devops engineer join infrastructure team automate scale cloud native platform ll build maintain ci cd pipelines manage kubernetes clusters enforce security best practices required skills docker kubernetes helm terraform ansible aws eks iam cloudwatch gcp bash python go argocd flux prometheus grafana monitoring logging systems berlin germany remote possible\n"
     ]
    }
   ],
   "execution_count": 46
  },
  {
   "metadata": {},
   "cell_type": "markdown",
   "source": "### Using \"nomic-ai/nomic-embed-text-v2-moe\" to generate Embeddings",
   "id": "74bb78b39350a0a8"
  },
  {
   "metadata": {
    "ExecuteTime": {
     "end_time": "2025-05-08T22:35:19.922830Z",
     "start_time": "2025-05-08T22:35:19.912832Z"
    }
   },
   "cell_type": "code",
   "source": [
    "\"\"\"from sentence_transformers import SentenceTransformer\n",
    "model = SentenceTransformer(\"nomic-ai/nomic-embed-text-v2-moe\", trust_remote_code=True)\"\"\""
   ],
   "id": "6536ca3d32d86142",
   "outputs": [
    {
     "data": {
      "text/plain": [
       "'from sentence_transformers import SentenceTransformer\\nmodel = SentenceTransformer(\"nomic-ai/nomic-embed-text-v2-moe\", trust_remote_code=True)'"
      ]
     },
     "execution_count": 47,
     "metadata": {},
     "output_type": "execute_result"
    }
   ],
   "execution_count": 47
  },
  {
   "metadata": {
    "ExecuteTime": {
     "end_time": "2025-05-08T22:35:20.032459Z",
     "start_time": "2025-05-08T22:35:20.018461Z"
    }
   },
   "cell_type": "code",
   "source": [
    "\"\"\"embeddings_jobs = model.encode(\n",
    "    [row['document'] for row in jobs_df.select('document').collect()],\n",
    "    convert_to_tensor=True\n",
    ")\n",
    "embeddings_resumes = model.encode(\n",
    "    [row['document'] for row in resumes_data.select('document').collect()],\n",
    "    convert_to_tensor=True\n",
    ")\"\"\""
   ],
   "id": "c0b1449db7f0b98c",
   "outputs": [
    {
     "data": {
      "text/plain": [
       "\"embeddings_jobs = model.encode(\\n    [row['document'] for row in jobs_df.select('document').collect()],\\n    convert_to_tensor=True\\n)\\nembeddings_resumes = model.encode(\\n    [row['document'] for row in resumes_data.select('document').collect()],\\n    convert_to_tensor=True\\n)\""
      ]
     },
     "execution_count": 48,
     "metadata": {},
     "output_type": "execute_result"
    }
   ],
   "execution_count": 48
  },
  {
   "metadata": {
    "ExecuteTime": {
     "end_time": "2025-05-08T22:35:20.126218Z",
     "start_time": "2025-05-08T22:35:20.113227Z"
    }
   },
   "cell_type": "code",
   "source": "\"\"\"print(f\"Job 3: {list(jobs_df.select('document').collect())[2]['document']}\")\"\"\"",
   "id": "d45a8c236218bd68",
   "outputs": [
    {
     "data": {
      "text/plain": [
       "'print(f\"Job 3: {list(jobs_df.select(\\'document\\').collect())[2][\\'document\\']}\")'"
      ]
     },
     "execution_count": 49,
     "metadata": {},
     "output_type": "execute_result"
    }
   ],
   "execution_count": 49
  },
  {
   "metadata": {
    "ExecuteTime": {
     "end_time": "2025-05-08T22:35:20.219867Z",
     "start_time": "2025-05-08T22:35:20.205806Z"
    }
   },
   "cell_type": "code",
   "source": [
    "\"\"\"similarity_list = calculate_similarity(embeddings_jobs[2], embeddings_resumes)\n",
    "print_top_k(similarity_list, 10, resumes_data)\"\"\""
   ],
   "id": "aaa9dc9f8f03239b",
   "outputs": [
    {
     "data": {
      "text/plain": [
       "'similarity_list = calculate_similarity(embeddings_jobs[2], embeddings_resumes)\\nprint_top_k(similarity_list, 10, resumes_data)'"
      ]
     },
     "execution_count": 50,
     "metadata": {},
     "output_type": "execute_result"
    }
   ],
   "execution_count": 50
  },
  {
   "metadata": {},
   "cell_type": "markdown",
   "source": "### Using sentence-transformers/all-mpnet-base-v2 to generate embeddings",
   "id": "7d826cc3287e40a7"
  },
  {
   "metadata": {
    "ExecuteTime": {
     "end_time": "2025-05-08T22:35:20.391462Z",
     "start_time": "2025-05-08T22:35:20.376455Z"
    }
   },
   "cell_type": "code",
   "source": [
    "\"\"\"from sentence_transformers import SentenceTransformer\n",
    "model = SentenceTransformer(\"sentence-transformers/all-mpnet-base-v2\")\"\"\""
   ],
   "id": "372b8b7e019dff09",
   "outputs": [
    {
     "data": {
      "text/plain": [
       "'from sentence_transformers import SentenceTransformer\\nmodel = SentenceTransformer(\"sentence-transformers/all-mpnet-base-v2\")'"
      ]
     },
     "execution_count": 51,
     "metadata": {},
     "output_type": "execute_result"
    }
   ],
   "execution_count": 51
  },
  {
   "metadata": {
    "ExecuteTime": {
     "end_time": "2025-05-08T22:35:20.407455Z",
     "start_time": "2025-05-08T22:35:20.395470Z"
    }
   },
   "cell_type": "code",
   "source": [
    "\"\"\"embeddings_jobs = model.encode(\n",
    "    [row['document'] for row in jobs_df.select('document').collect()],\n",
    "    convert_to_tensor=True\n",
    ")\n",
    "embeddings_resumes = model.encode(\n",
    "    [row['document'] for row in resumes_data.select('document').collect()],\n",
    "    convert_to_tensor=True)\"\"\""
   ],
   "id": "fdef5e1ad5044bd1",
   "outputs": [
    {
     "data": {
      "text/plain": [
       "\"embeddings_jobs = model.encode(\\n    [row['document'] for row in jobs_df.select('document').collect()],\\n    convert_to_tensor=True\\n)\\nembeddings_resumes = model.encode(\\n    [row['document'] for row in resumes_data.select('document').collect()],\\n    convert_to_tensor=True)\""
      ]
     },
     "execution_count": 52,
     "metadata": {},
     "output_type": "execute_result"
    }
   ],
   "execution_count": 52
  },
  {
   "metadata": {},
   "cell_type": "markdown",
   "source": "## Transform to script",
   "id": "e8ddbabe51c43a40"
  },
  {
   "metadata": {},
   "cell_type": "markdown",
   "source": "### Read data",
   "id": "d7ce900cad78a21e"
  },
  {
   "metadata": {
    "ExecuteTime": {
     "end_time": "2025-05-08T22:54:58.041868Z",
     "start_time": "2025-05-08T22:54:58.027872Z"
    }
   },
   "cell_type": "code",
   "source": [
    "def return_resumes_list(resumer_dir: str):\n",
    "    cv_text_list = []\n",
    "    for i in range(1, 1000):\n",
    "        try:\n",
    "            doc = fitz.open(f\"{resumer_dir}/cv ({i}).pdf\")\n",
    "            page = doc[0]\n",
    "            text = page.get_text()\n",
    "            cv_text_list.append(text)\n",
    "            doc.close()\n",
    "        except Exception as e:\n",
    "            print(e)\n",
    "    return cv_text_list"
   ],
   "id": "9af7d0f8b22709c9",
   "outputs": [],
   "execution_count": 81
  },
  {
   "metadata": {
    "ExecuteTime": {
     "end_time": "2025-05-08T22:35:26.643789Z",
     "start_time": "2025-05-08T22:35:26.630789Z"
    }
   },
   "cell_type": "code",
   "source": [
    "from pyspark.sql import SparkSession\n",
    "def get_spark_session(config: dict) -> SparkSession:\n",
    "    spark = SparkSession.builder.appName(\"EDA Resumes\").master(\"local[*]\").config(\"spark.driver.memory\", \"6g\").getOrCreate()\n",
    "    return spark"
   ],
   "id": "ed7ee16fccd2e0eb",
   "outputs": [],
   "execution_count": 54
  },
  {
   "metadata": {},
   "cell_type": "code",
   "outputs": [],
   "execution_count": null,
   "source": "similarity = util.cos_sim(embeddings_jobs[0], embeddings_resumes[0])",
   "id": "e4544f60773d6bbe"
  },
  {
   "metadata": {},
   "cell_type": "markdown",
   "source": "## Config",
   "id": "c3a7d99c40a7e506"
  },
  {
   "metadata": {
    "ExecuteTime": {
     "end_time": "2025-05-08T23:26:49.245029Z",
     "start_time": "2025-05-08T23:26:49.232026Z"
    }
   },
   "cell_type": "code",
   "source": [
    "config = {\n",
    "    'text_column': 'document',\n",
    "    'model_name_or_path': 'sentence-transformers/all-MiniLM-L6-v2',\n",
    "    'model_dir': './model'\n",
    "}"
   ],
   "id": "a5ee4d0d3d9812aa",
   "outputs": [],
   "execution_count": 124
  },
  {
   "metadata": {},
   "cell_type": "markdown",
   "source": "## Preprocess Data",
   "id": "dc08f126ea9ed5e1"
  },
  {
   "metadata": {
    "ExecuteTime": {
     "end_time": "2025-05-08T22:41:01.413604Z",
     "start_time": "2025-05-08T22:41:01.400599Z"
    }
   },
   "cell_type": "code",
   "outputs": [],
   "execution_count": 60,
   "source": [
    "from pyspark.sql.functions import udf, col\n",
    "import spacy\n",
    "from pyspark.ml import Transformer\n",
    "\n",
    "\n",
    "class TokenFilterChar(Transformer):\n",
    "    def __init__(self, inputCol=None, outputCol=None):\n",
    "        super(TokenFilterChar, self).__init__()\n",
    "        self.inputCol = inputCol\n",
    "        self.outputCol = outputCol\n",
    "\n",
    "    def _transform(self, df):\n",
    "        def remove_single_char_tokens(tokens):\n",
    "            return [t for t in tokens if len(t) > 1]\n",
    "\n",
    "        filter_udf = udf(remove_single_char_tokens, ArrayType(StringType()))\n",
    "        return df.withColumn(self.outputCol, filter_udf(col(self.inputCol)))\n",
    "\n",
    "\n",
    "class NerTransformer(Transformer):\n",
    "    def __init__(self, inputCol=None, outputCol=None):\n",
    "        super(NerTransformer, self).__init__()\n",
    "        self.inputCol = inputCol\n",
    "        self.outputCol = outputCol\n",
    "\n",
    "    def _transform(self, df):\n",
    "        nlp = spacy.load(\"en_core_web_trf\")\n",
    "\n",
    "        def extract_entities(text):\n",
    "            if isinstance(text, list):\n",
    "                text = \" \".join(text)\n",
    "            if not isinstance(text, str):\n",
    "                return []\n",
    "            doc = nlp(text)\n",
    "            return [str(ent.text) for ent in doc.ents]\n",
    "\n",
    "        ner_udf = udf(extract_entities, ArrayType(StringType()))\n",
    "        return df.withColumn(self.outputCol, ner_udf(col(self.inputCol)))"
   ],
   "id": "a9a5f1b2dc210c2c"
  },
  {
   "metadata": {
    "ExecuteTime": {
     "end_time": "2025-05-08T22:41:04.128248Z",
     "start_time": "2025-05-08T22:41:04.115254Z"
    }
   },
   "cell_type": "code",
   "outputs": [],
   "execution_count": 61,
   "source": [
    "class PreprocessorBase(ABC):\n",
    "\n",
    "    @abstractmethod\n",
    "    def process_df(self, df):\n",
    "        pass"
   ],
   "id": "c12ecf2de35dc966"
  },
  {
   "metadata": {
    "ExecuteTime": {
     "end_time": "2025-05-08T22:41:04.832008Z",
     "start_time": "2025-05-08T22:41:04.819009Z"
    }
   },
   "cell_type": "code",
   "outputs": [],
   "execution_count": 62,
   "source": [
    "class PreprocessorText(PreprocessorBase):\n",
    "    def __init__(self, config: dict):\n",
    "        self.tokenizer = RegexTokenizer(inputCol=config['text_column'], outputCol=\"tokens\", pattern=\"[\\\\s+|\\\\W]\")\n",
    "        self.stop_words_remover = StopWordsRemover(inputCol=\"tokens\", outputCol=\"tokens_clean\")\n",
    "        self.token_filter = TokenFilterChar(inputCol=\"tokens_clean\", outputCol=\"tokens\")\n",
    "        self.ner_transformer = NerTransformer(inputCol=\"tokens\", outputCol=\"tokens_ner\")\n",
    "        self.pipeline = Pipeline(stages=[self.tokenizer, self.stop_words_remover, self.token_filter, self.ner_transformer])\n",
    "\n",
    "    def process_df(self, df_text):\n",
    "        pipe = self.pipeline.fit(jobs_df)\n",
    "        df_text = pipe.transform(df_text)\n",
    "        df_text = df_text.withColumn('document', concat_ws(' ', col('tokens')))\n",
    "        return df_text"
   ],
   "id": "bcedc9e0c335f3ba"
  },
  {
   "metadata": {
    "ExecuteTime": {
     "end_time": "2025-05-08T22:49:22.975787Z",
     "start_time": "2025-05-08T22:49:22.917688Z"
    }
   },
   "cell_type": "code",
   "source": "resumes_data = spark.createDataFrame([(text, ) for text in cv_text_list], ['document'])",
   "id": "3829974d16581ab9",
   "outputs": [],
   "execution_count": 76
  },
  {
   "metadata": {
    "ExecuteTime": {
     "end_time": "2025-05-08T22:35:56.314756900Z",
     "start_time": "2025-05-08T21:25:12.561117Z"
    }
   },
   "cell_type": "code",
   "source": "resumes_data.limit(5).show()",
   "id": "a0d483133f756c65",
   "outputs": [
    {
     "name": "stdout",
     "output_type": "stream",
     "text": [
      "+--------------------+\n",
      "|            document|\n",
      "+--------------------+\n",
      "|One97 Communicati...|\n",
      "|KEISUKE YAMAMOTO\\...|\n",
      "|Stella Thatcher\\n...|\n",
      "|P R O F I L E\\nSo...|\n",
      "|KELSEY STENS\\nS O...|\n",
      "+--------------------+\n",
      "\n"
     ]
    }
   ],
   "execution_count": 63
  },
  {
   "metadata": {
    "ExecuteTime": {
     "end_time": "2025-05-08T22:49:38.476216Z",
     "start_time": "2025-05-08T22:49:26.220125Z"
    }
   },
   "cell_type": "code",
   "source": [
    "preprocessor = PreprocessorText(config)\n",
    "resumes_data = preprocessor.process_df(resumes_data)\n",
    "resumes_data.limit(5).show()"
   ],
   "id": "c278424e400d4860",
   "outputs": [
    {
     "name": "stdout",
     "output_type": "stream",
     "text": [
      "+--------------------+--------------------+--------------------+--------------------+\n",
      "|            document|              tokens|        tokens_clean|          tokens_ner|\n",
      "+--------------------+--------------------+--------------------+--------------------+\n",
      "|one97 communicati...|[one97, communica...|[one97, communica...|[one97 communicat...|\n",
      "|keisuke yamamoto ...|[keisuke, yamamot...|[keisuke, yamamot...|[keisuke yamamoto...|\n",
      "|stella thatcher e...|[stella, thatcher...|[stella, thatcher...|[stella thatcher,...|\n",
      "|software develope...|[software, develo...|[p, r, o, f, l, e...|[kln, july 2019, ...|\n",
      "|kelsey stens skil...|[kelsey, stens, s...|[kelsey, stens, o...|[kelsey stens, pa...|\n",
      "+--------------------+--------------------+--------------------+--------------------+\n",
      "\n"
     ]
    }
   ],
   "execution_count": 77
  },
  {
   "metadata": {
    "ExecuteTime": {
     "end_time": "2025-05-08T22:35:56.324754500Z",
     "start_time": "2025-05-08T21:26:18.829708Z"
    }
   },
   "cell_type": "code",
   "source": "resumes_data.limit(5).show(truncate=False)",
   "id": "ba78361b522db2a1",
   "outputs": [
    {
     "name": "stdout",
     "output_type": "stream",
     "text": [
      "+-----------------------------------------------------------------------------------------------------------------------------------------------------------------------------------------------------------------------------------------------------------------------------------------------------------------------------------------------------------------------------------------------------------------------------------------------------------------------------------------------------------------------------------------------------------------------------------------------------------------------------------------------------------------------------------------------------------------------------------------------------------------------------------------------------------------------------------------------------------------------------------------------------------------------------------------------------------------------------------------------------------------+-----------------------------------------------------------------------------------------------------------------------------------------------------------------------------------------------------------------------------------------------------------------------------------------------------------------------------------------------------------------------------------------------------------------------------------------------------------------------------------------------------------------------------------------------------------------------------------------------------------------------------------------------------------------------------------------------------------------------------------------------------------------------------------------------------------------------------------------------------------------------------------------------------------------------------------------------------------------------------------------------------------------------------------------------------------------------------------------------------------------------------------------------+--------------------------------------------------------------------------------------------------------------------------------------------------------------------------------------------------------------------------------------------------------------------------------------------------------------------------------------------------------------------------------------------------------------------------------------------------------------------------------------------------------------------------------------------------------------------------------------------------------------------------------------------------------------------------------------------------------------------------------------------------------------------------------------------------------------------------------------------------------------------------------------------------------------------------------------------------------------------------------------------------------------------------------------------------------------------------------------------------------------------------------------------------------------+------------------------------------------------------------------------------------------------------------------------------------------+\n",
      "|document                                                                                                                                                                                                                                                                                                                                                                                                                                                                                                                                                                                                                                                                                                                                                                                                                                                                                                                                                                                                         |tokens                                                                                                                                                                                                                                                                                                                                                                                                                                                                                                                                                                                                                                                                                                                                                                                                                                                                                                                                                                                                                                                                                                                                         |tokens_clean                                                                                                                                                                                                                                                                                                                                                                                                                                                                                                                                                                                                                                                                                                                                                                                                                                                                                                                                                                                                                                                                                                                                                  |tokens_ner                                                                                                                                |\n",
      "+-----------------------------------------------------------------------------------------------------------------------------------------------------------------------------------------------------------------------------------------------------------------------------------------------------------------------------------------------------------------------------------------------------------------------------------------------------------------------------------------------------------------------------------------------------------------------------------------------------------------------------------------------------------------------------------------------------------------------------------------------------------------------------------------------------------------------------------------------------------------------------------------------------------------------------------------------------------------------------------------------------------------+-----------------------------------------------------------------------------------------------------------------------------------------------------------------------------------------------------------------------------------------------------------------------------------------------------------------------------------------------------------------------------------------------------------------------------------------------------------------------------------------------------------------------------------------------------------------------------------------------------------------------------------------------------------------------------------------------------------------------------------------------------------------------------------------------------------------------------------------------------------------------------------------------------------------------------------------------------------------------------------------------------------------------------------------------------------------------------------------------------------------------------------------------+--------------------------------------------------------------------------------------------------------------------------------------------------------------------------------------------------------------------------------------------------------------------------------------------------------------------------------------------------------------------------------------------------------------------------------------------------------------------------------------------------------------------------------------------------------------------------------------------------------------------------------------------------------------------------------------------------------------------------------------------------------------------------------------------------------------------------------------------------------------------------------------------------------------------------------------------------------------------------------------------------------------------------------------------------------------------------------------------------------------------------------------------------------------+------------------------------------------------------------------------------------------------------------------------------------------+\n",
      "|one97 communications limited data scientist jan 2019 till date detect important information images redact required fields yolo cnn object detection ocr insights find anomaly performance drop possible sub space predict insurance claim probability estimate premium amount charged tech computer science sgbau university 2017 tech computer science engineering indian institute technology iit kanpur 2019 work experience education macy williams data scientist data scientist working problems related market research customer analysis want expand arsenal application building work different kinds problems looking role work coordinative team exchange knowledge process java python machine learning algorithms natural language processing deep learning computer vision pattern recognition data science data analysis software engineer data analyst pyspark kubeflow skills customer browsing patterns predict potential rto return origin orders commerce object detection projects activites|[one97, communications, limited, data, scientist, jan, 2019, till, date, detect, important, information, images, redact, required, fields, yolo, cnn, object, detection, ocr, insights, find, anomaly, performance, drop, possible, sub, space, predict, insurance, claim, probability, estimate, premium, amount, charged, tech, computer, science, sgbau, university, 2017, tech, computer, science, engineering, indian, institute, technology, iit, kanpur, 2019, work, experience, education, macy, williams, data, scientist, data, scientist, working, problems, related, market, research, customer, analysis, want, expand, arsenal, application, building, work, different, kinds, problems, looking, role, work, coordinative, team, exchange, knowledge, process, java, python, machine, learning, algorithms, natural, language, processing, deep, learning, computer, vision, pattern, recognition, data, science, data, analysis, software, engineer, data, analyst, pyspark, kubeflow, skills, customer, browsing, patterns, predict, potential, rto, return, origin, orders, commerce, object, detection, projects, activites]|[one97, communications, limited, data, scientist, jan, 2019, till, date, detect, important, information, images, redact, required, fields, yolo, cnn, object, detection, ocr, insights, find, anomaly, performance, drop, possible, sub, space, predict, insurance, claim, probability, estimate, premium, amount, charged, b, tech, computer, science, sgbau, university, 2017, m, tech, computer, science, engineering, indian, institute, technology, iit, kanpur, 2019, work, experience, education, macy, williams, data, scientist, data, scientist, working, problems, related, market, research, customer, analysis, want, expand, arsenal, application, building, work, different, kinds, problems, looking, role, work, coordinative, team, exchange, knowledge, process, java, c, python, machine, learning, algorithms, natural, language, processing, deep, learning, computer, vision, pattern, recognition, data, science, data, analysis, software, engineer, data, analyst, c, pyspark, kubeflow, skills, customer, browsing, patterns, predict, potential, rto, return, origin, orders, e, commerce, object, detection, projects, activites]|[one97 communications, jan 2019, yolo cnn, sgbau university, 2017, indian institute, 2019, macy williams, arsenal, java, pyspark kubeflow]|\n",
      "|keisuke yamamoto profile professional months experience web development interested ml skills web developer data analyst web development machine learning python frontend html javascript php css mysql java data structures oop algorithms experience sai technologies intern aug 2020 till date working cybersecurity company intern working different projects need python cybersecurity html css javascript java docker containers main skills education tech computers shri guru gobind singhji college engineering technology nanded 2019 activities data analyst python programming projects character detection using svm classification                                                                                                                                                                                                                                                                                                                                                                  |[keisuke, yamamoto, profile, professional, months, experience, web, development, interested, ml, skills, web, developer, data, analyst, web, development, machine, learning, python, frontend, html, javascript, php, css, mysql, java, data, structures, oop, algorithms, experience, sai, technologies, intern, aug, 2020, till, date, working, cybersecurity, company, intern, working, different, projects, need, python, cybersecurity, html, css, javascript, java, docker, containers, main, skills, education, tech, computers, shri, guru, gobind, singhji, college, engineering, technology, nanded, 2019, activities, data, analyst, python, programming, projects, character, detection, using, svm, classification]                                                                                                                                                                                                                                                                                                                                                                                                               |[keisuke, yamamoto, profile, professional, 3, months, experience, web, development, interested, ml, skills, web, developer, data, analyst, web, development, machine, learning, python, frontend, html, javascript, php, css, mysql, java, data, structures, oop, algorithms, c, experience, sai, technologies, intern, aug, 2020, till, date, working, cybersecurity, company, intern, working, different, projects, need, python, cybersecurity, html, css, javascript, java, docker, containers, main, skills, education, b, tech, computers, shri, guru, gobind, singhji, college, engineering, technology, nanded, 2019, j, u, n, o, r, o, f, w, r, e, d, e, v, e, l, o, p, e, r, activities, data, analyst, python, programming, projects, character, detection, using, svm, classification]                                                                                                                                                                                                                                                                                                                                                            |[keisuke yamamoto, months, sai technologies, aug 2020, gobind singhji, 2019]                                                              |\n",
      "|stella thatcher executive profile market research specialist grasp machine learning looking deeper dive career professional machine learning engineer activities certified python developer projects stock market analyzer skills research associate business analyst business analytics data mining data modeling predictive analysis business intelligence machine learning market research customer engagement risk management retention audience python work experience kripa infotech associate market research analyst intern apr 2020 sep 2020 worked clients get overall idea product perceived target audience focused large groups data structured unstructered solutions education tech mechanical bhavleesh duggar college nasik 2020                                                                                                                                                                                                                                                                |[stella, thatcher, executive, profile, market, research, specialist, grasp, machine, learning, looking, deeper, dive, career, professional, machine, learning, engineer, activities, certified, python, developer, projects, stock, market, analyzer, skills, research, associate, business, analyst, business, analytics, data, mining, data, modeling, predictive, analysis, business, intelligence, machine, learning, market, research, customer, engagement, risk, management, retention, audience, python, work, experience, kripa, infotech, associate, market, research, analyst, intern, apr, 2020, sep, 2020, worked, clients, get, overall, idea, product, perceived, target, audience, focused, large, groups, data, structured, unstructered, solutions, education, tech, mechanical, bhavleesh, duggar, college, nasik, 2020]                                                                                                                                                                                                                                                                                                    |[stella, thatcher, o, c, e, m, r, k, e, n, l, y, executive, profile, market, research, specialist, grasp, machine, learning, looking, deeper, dive, career, professional, machine, learning, engineer, activities, certified, python, developer, projects, stock, market, analyzer, skills, research, associate, business, analyst, business, analytics, data, mining, data, modeling, predictive, analysis, business, intelligence, machine, learning, market, research, customer, engagement, risk, management, retention, audience, python, work, experience, kripa, infotech, associate, market, research, analyst, intern, apr, 2020, sep, 2020, worked, clients, get, overall, idea, product, perceived, target, audience, focused, large, groups, data, structured, unstructered, solutions, education, b, tech, mechanical, bhavleesh, duggar, college, nasik, 2020]                                                                                                                                                                                                                                                                                  |[stella thatcher, kripa infotech, apr 2020 sep 2020, mechanical bhavleesh duggar college, 2020]                                           |\n",
      "|software developer niche towards end end machine learning projects motivated towards learning solving producing better results kln solutions junior data evangelist july 2019 till date building applications exploring data use different management solutions nolan drucks data manipulation data mining python sql programming powerbi tableau machine learning pyspark azure databricks aws tech instrumentation baburao patil college university aurangabad 2019 leveraged nltk spacy fast text libraries perform kinds nlp operations including limited cleaning stemming lemmatization word encoding etc introduction data ontology jb management software developer intern jan 2019 jun 2019 development python module assist ocr models                                                                                                                                                                                                                                                                 |[software, developer, niche, towards, end, end, machine, learning, projects, motivated, towards, learning, solving, producing, better, results, kln, solutions, junior, data, evangelist, july, 2019, till, date, building, applications, exploring, data, use, different, management, solutions, nolan, drucks, data, manipulation, data, mining, python, sql, programming, powerbi, tableau, machine, learning, pyspark, azure, databricks, aws, tech, instrumentation, baburao, patil, college, university, aurangabad, 2019, leveraged, nltk, spacy, fast, text, libraries, perform, kinds, nlp, operations, including, limited, cleaning, stemming, lemmatization, word, encoding, etc, introduction, data, ontology, jb, management, software, developer, intern, jan, 2019, jun, 2019, development, python, module, assist, ocr, models]                                                                                                                                                                                                                                                                                                |[p, r, o, f, l, e, software, developer, niche, towards, end, end, machine, learning, projects, motivated, towards, learning, solving, producing, better, results, kln, solutions, junior, data, evangelist, july, 2019, till, date, building, applications, exploring, data, use, different, management, solutions, nolan, drucks, k, l, l, data, manipulation, data, mining, python, sql, r, programming, powerbi, tableau, machine, learning, pyspark, azure, databricks, aws, e, x, p, e, r, e, n, c, e, e, d, u, c, o, n, b, tech, instrumentation, baburao, patil, college, university, aurangabad, 2019, d, d, e, g, n, e, r, p, r, o, j, e, c, leveraged, nltk, spacy, fast, text, libraries, perform, kinds, nlp, operations, including, limited, cleaning, stemming, lemmatization, word, encoding, etc, c, v, e, n, d, w, r, d, introduction, data, ontology, jb, management, software, developer, intern, jan, 2019, jun, 2019, development, python, module, assist, ocr, models]                                                                                                                                                                  |[kln, july 2019, nolan drucks, baburao patil college university, aurangabad, 2019, nltk spacy, jan 2019 jun 2019]                         |\n",
      "|kelsey stens skills software engineer data analyst machine learning text analytics software development object oriented programming pandas numpy java python springboot laravel education tech ece dr jagjiban rao engineering college 2019 personal profile software developer focused areas machine learning application development motivated learn grow excel experience challenging work background klp technology solutions software engineer jan 2019 till date built predictive decision models using machine learning algorithms various business study cases feature engineering evaluation methods activities ondevice machine learning ui ux development projects built predictive decision models using machine learning algorithms developed integrated ui components hmi framework head display                                                                                                                                                                                                   |[kelsey, stens, skills, software, engineer, data, analyst, machine, learning, text, analytics, software, development, object, oriented, programming, pandas, numpy, java, python, springboot, laravel, education, tech, ece, dr, jagjiban, rao, engineering, college, 2019, personal, profile, software, developer, focused, areas, machine, learning, application, development, motivated, learn, grow, excel, experience, challenging, work, background, klp, technology, solutions, software, engineer, jan, 2019, till, date, built, predictive, decision, models, using, machine, learning, algorithms, various, business, study, cases, feature, engineering, evaluation, methods, activities, ondevice, machine, learning, ui, ux, development, projects, built, predictive, decision, models, using, machine, learning, algorithms, developed, integrated, ui, components, hmi, framework, head, display]                                                                                                                                                                                                                              |[kelsey, stens, o, f, w, r, e, d, e, v, e, l, o, p, e, r, m, c, h, n, e, l, e, r, n, n, g, skills, software, engineer, data, analyst, machine, learning, text, analytics, software, development, object, oriented, programming, pandas, numpy, java, python, springboot, laravel, education, b, tech, ece, dr, jagjiban, rao, engineering, college, 2019, personal, profile, software, developer, focused, areas, machine, learning, application, development, motivated, learn, grow, excel, experience, challenging, work, background, klp, technology, solutions, software, engineer, jan, 2019, till, date, built, predictive, decision, models, using, machine, learning, algorithms, various, business, study, cases, feature, engineering, evaluation, methods, activities, ondevice, machine, learning, ui, ux, development, projects, built, predictive, decision, models, using, machine, learning, algorithms, developed, integrated, ui, components, hmi, framework, head, display]                                                                                                                                                               |[kelsey stens, pandas, numpy, springboot, ece dr, engineering college, 2019, jan 2019]                                                    |\n",
      "+-----------------------------------------------------------------------------------------------------------------------------------------------------------------------------------------------------------------------------------------------------------------------------------------------------------------------------------------------------------------------------------------------------------------------------------------------------------------------------------------------------------------------------------------------------------------------------------------------------------------------------------------------------------------------------------------------------------------------------------------------------------------------------------------------------------------------------------------------------------------------------------------------------------------------------------------------------------------------------------------------------------------+-----------------------------------------------------------------------------------------------------------------------------------------------------------------------------------------------------------------------------------------------------------------------------------------------------------------------------------------------------------------------------------------------------------------------------------------------------------------------------------------------------------------------------------------------------------------------------------------------------------------------------------------------------------------------------------------------------------------------------------------------------------------------------------------------------------------------------------------------------------------------------------------------------------------------------------------------------------------------------------------------------------------------------------------------------------------------------------------------------------------------------------------------+--------------------------------------------------------------------------------------------------------------------------------------------------------------------------------------------------------------------------------------------------------------------------------------------------------------------------------------------------------------------------------------------------------------------------------------------------------------------------------------------------------------------------------------------------------------------------------------------------------------------------------------------------------------------------------------------------------------------------------------------------------------------------------------------------------------------------------------------------------------------------------------------------------------------------------------------------------------------------------------------------------------------------------------------------------------------------------------------------------------------------------------------------------------+------------------------------------------------------------------------------------------------------------------------------------------+\n",
      "\n"
     ]
    }
   ],
   "execution_count": 66
  },
  {
   "metadata": {
    "ExecuteTime": {
     "end_time": "2025-05-08T22:49:45.437960Z",
     "start_time": "2025-05-08T22:49:45.413436Z"
    }
   },
   "cell_type": "code",
   "source": [
    "job_descriptions = [\n",
    "    {\n",
    "        \"title\": \"Backend Developer (Python/Django)\",\n",
    "        \"location\": \"Remote\",\n",
    "        \"description\": (\n",
    "            \"We are seeking a highly skilled Python Developer with strong experience in Django and RESTful APIs. \"\n",
    "            \"The ideal candidate has a deep understanding of relational databases (PostgreSQL), unit testing, and CI/CD pipelines. \"\n",
    "            \"You will also be responsible for system architecture decisions and optimizing performance of data-intensive applications. \"\n",
    "            \"Required skills: Python, Django, Django REST Framework, PostgreSQL, Redis, Celery, PyTest, Docker, Git, \"\n",
    "            \"GitHub Actions or Jenkins, AWS (EC2, S3, Lambda), Linux CLI, Swagger/OpenAPI.\"\n",
    "        )\n",
    "    },\n",
    "    {\n",
    "        \"title\": \"Frontend Developer (React/TypeScript)\",\n",
    "        \"location\": \"San Francisco, CA (Hybrid)\",\n",
    "        \"description\": (\n",
    "            \"We are looking for a Frontend Engineer to build scalable and accessible web applications using React, Redux, and TypeScript. \"\n",
    "            \"You'll collaborate with designers and backend engineers to deliver polished, user-centered products and reusable components. \"\n",
    "            \"Required skills: React, Redux, TypeScript, Styled Components, Tailwind CSS, RESTful APIs, GraphQL, Jest, \"\n",
    "            \"React Testing Library, Webpack, Vite, Accessibility standards (WCAG), Responsive design.\"\n",
    "        )\n",
    "    },\n",
    "    {\n",
    "        \"title\": \"DevOps Engineer\",\n",
    "        \"location\": \"Berlin, Germany (Remote possible)\",\n",
    "        \"description\": (\n",
    "            \"Join our infrastructure team to automate and scale our cloud-native platform. \"\n",
    "            \"You'll build and maintain CI/CD pipelines, manage Kubernetes clusters, and enforce security best practices. \"\n",
    "            \"Required skills: Docker, Kubernetes, Helm, Terraform, Ansible, AWS (EKS, IAM, CloudWatch), GCP, Bash, Python or Go, \"\n",
    "            \"ArgoCD or Flux, Prometheus, Grafana, monitoring and logging systems.\"\n",
    "        )\n",
    "    },\n",
    "    {\n",
    "        \"title\": \"Full Stack Developer (Node.js + Vue.js)\",\n",
    "        \"location\": \"Toronto, ON (Remote)\",\n",
    "        \"description\": (\n",
    "            \"We’re hiring a Full Stack Developer to help build features end-to-end across our digital product. \"\n",
    "            \"Backend logic with Node.js and Express, frontend components in Vue.js. \"\n",
    "            \"Required skills: Node.js, Express.js, Vue.js 3, Vuex, Composition API, MongoDB, PostgreSQL, RESTful API design, \"\n",
    "            \"Swagger/OpenAPI, WebSockets, JWT, OAuth2, Jest, Cypress, Docker.\"\n",
    "        )\n",
    "    },\n",
    "    {\n",
    "        \"title\": \"Data Scientist\",\n",
    "        \"location\": \"New York, NY\",\n",
    "        \"description\": (\n",
    "            \"Join our analytics team to extract insights from customer data, build machine learning models, and support data-driven decisions. \"\n",
    "            \"You'll work with big data and real-time analytics systems. \"\n",
    "            \"Required skills: Python (Pandas, NumPy, scikit-learn), SQL, BigQuery, Data visualization (Tableau, Matplotlib, Seaborn), \"\n",
    "            \"A/B testing, Jupyter, Airflow, dbt, MLflow, Git.\"\n",
    "        )\n",
    "    },\n",
    "    {\n",
    "        \"title\": \"Cloud Solutions Architect (AWS)\",\n",
    "        \"location\": \"London, UK\",\n",
    "        \"description\": (\n",
    "            \"Design secure and scalable cloud architectures for enterprise-grade applications. \"\n",
    "            \"Work closely with development teams and support cloud migrations. \"\n",
    "            \"Required skills: AWS (EC2, S3, VPC, RDS, IAM, Lambda), Terraform, CloudFormation, Kubernetes, Docker, \"\n",
    "            \"Cloud security best practices (CIS, ISO 27001), CI/CD automation, cost optimization, governance policies.\"\n",
    "        )\n",
    "    },\n",
    "    {\n",
    "        \"title\": \"Cybersecurity Analyst\",\n",
    "        \"location\": \"Remote (US only)\",\n",
    "        \"description\": (\n",
    "            \"Monitor network activity for threats, conduct vulnerability scans, and respond to incidents. \"\n",
    "            \"Assist in policy creation and ensure compliance with industry standards. \"\n",
    "            \"Required skills: SIEM tools (Splunk, QRadar, ELK), TCP/IP, HTTP, DNS, threat modeling, penetration testing, \"\n",
    "            \"Nessus, Qualys, firewalls, antivirus, knowledge of SOC 2, HIPAA, or NIST frameworks.\"\n",
    "        )\n",
    "    },\n",
    "    {\n",
    "        \"title\": \"Machine Learning Engineer\",\n",
    "        \"location\": \"Remote\",\n",
    "        \"description\": (\n",
    "            \"Design and deploy ML models in production systems. \"\n",
    "            \"Collaborate with data engineers and product teams for end-to-end implementation. \"\n",
    "            \"Required skills: Python, PyTorch, TensorFlow, HuggingFace, MLflow, SageMaker, Kubeflow, Apache Kafka, Airflow, \"\n",
    "            \"ROC/AUC, Optuna, Hyperopt, Docker, Kubernetes.\"\n",
    "        )\n",
    "    },\n",
    "    {\n",
    "        \"title\": \"Mobile Developer (Flutter)\",\n",
    "        \"location\": \"São Paulo, Brazil (Hybrid)\",\n",
    "        \"description\": (\n",
    "            \"We are looking for a Mobile Developer to build modern cross-platform applications using Flutter. \"\n",
    "            \"You'll participate in full app lifecycle from prototype to deployment. \"\n",
    "            \"Required skills: Dart, Flutter SDK, Firebase (Auth, Firestore, Crashlytics), RESTful APIs, GraphQL, Fastlane, Codemagic, \"\n",
    "            \"Android/iOS deployment, BLoC pattern, Clean architecture.\"\n",
    "        )\n",
    "    },\n",
    "    {\n",
    "        \"title\": \"QA Automation Engineer\",\n",
    "        \"location\": \"Austin, TX\",\n",
    "        \"description\": (\n",
    "            \"Develop and maintain end-to-end automated test suites. \"\n",
    "            \"Collaborate with developers to define test strategies and ensure software quality across web and API layers. \"\n",
    "            \"Required skills: Selenium, Cypress, Playwright, Postman, RestAssured, Python or Java, Jenkins, GitLab CI/CD, \"\n",
    "            \"Test case management, Jira, JMeter or k6.\"\n",
    "        )\n",
    "    }\n",
    "]\n",
    "\n",
    "jobs_df = spark.createDataFrame(job_descriptions, ['description', 'location', 'title'])\n",
    "from pyspark.sql.functions import concat_ws\n",
    "\n",
    "jobs_df = jobs_df.withColumn('document', concat_ws(\" \", col('title'), col('description'), col('location')))"
   ],
   "id": "10946e280c7ad2e1",
   "outputs": [],
   "execution_count": 78
  },
  {
   "metadata": {
    "ExecuteTime": {
     "end_time": "2025-05-08T22:35:56.325753600Z",
     "start_time": "2025-05-08T21:28:47.522287Z"
    }
   },
   "cell_type": "code",
   "source": "jobs_df.limit(5).show(truncate=False)",
   "id": "56b9c6df8a912663",
   "outputs": [
    {
     "name": "stdout",
     "output_type": "stream",
     "text": [
      "+-----------------------------------------------------------------------------------------------------------------------------------------------------------------------------------------------------------------------------------------------------------------------------------------------------------------------------------------------------------------------------------------------------------------------------------------------------------------------------------------------------------------------------------------+---------------------------------+---------------------------------------+----------------------------------------------------------------------------------------------------------------------------------------------------------------------------------------------------------------------------------------------------------------------------------------------------------------------------------------------------------------------------------------------------------------------------------------------------------------------------------------------------------------------------------------------------------------------------------+\n",
      "|description                                                                                                                                                                                                                                                                                                                                                                                                                                                                                                                              |location                         |title                                  |document                                                                                                                                                                                                                                                                                                                                                                                                                                                                                                                                                                          |\n",
      "+-----------------------------------------------------------------------------------------------------------------------------------------------------------------------------------------------------------------------------------------------------------------------------------------------------------------------------------------------------------------------------------------------------------------------------------------------------------------------------------------------------------------------------------------+---------------------------------+---------------------------------------+----------------------------------------------------------------------------------------------------------------------------------------------------------------------------------------------------------------------------------------------------------------------------------------------------------------------------------------------------------------------------------------------------------------------------------------------------------------------------------------------------------------------------------------------------------------------------------+\n",
      "|We are seeking a highly skilled Python Developer with strong experience in Django and RESTful APIs. The ideal candidate has a deep understanding of relational databases (PostgreSQL), unit testing, and CI/CD pipelines. You will also be responsible for system architecture decisions and optimizing performance of data-intensive applications. Required skills: Python, Django, Django REST Framework, PostgreSQL, Redis, Celery, PyTest, Docker, Git, GitHub Actions or Jenkins, AWS (EC2, S3, Lambda), Linux CLI, Swagger/OpenAPI.|Remote                           |Backend Developer (Python/Django)      |Backend Developer (Python/Django) We are seeking a highly skilled Python Developer with strong experience in Django and RESTful APIs. The ideal candidate has a deep understanding of relational databases (PostgreSQL), unit testing, and CI/CD pipelines. You will also be responsible for system architecture decisions and optimizing performance of data-intensive applications. Required skills: Python, Django, Django REST Framework, PostgreSQL, Redis, Celery, PyTest, Docker, Git, GitHub Actions or Jenkins, AWS (EC2, S3, Lambda), Linux CLI, Swagger/OpenAPI. Remote|\n",
      "|We are looking for a Frontend Engineer to build scalable and accessible web applications using React, Redux, and TypeScript. You'll collaborate with designers and backend engineers to deliver polished, user-centered products and reusable components. Required skills: React, Redux, TypeScript, Styled Components, Tailwind CSS, RESTful APIs, GraphQL, Jest, React Testing Library, Webpack, Vite, Accessibility standards (WCAG), Responsive design.                                                                              |San Francisco, CA (Hybrid)       |Frontend Developer (React/TypeScript)  |Frontend Developer (React/TypeScript) We are looking for a Frontend Engineer to build scalable and accessible web applications using React, Redux, and TypeScript. You'll collaborate with designers and backend engineers to deliver polished, user-centered products and reusable components. Required skills: React, Redux, TypeScript, Styled Components, Tailwind CSS, RESTful APIs, GraphQL, Jest, React Testing Library, Webpack, Vite, Accessibility standards (WCAG), Responsive design. San Francisco, CA (Hybrid)                                                      |\n",
      "|Join our infrastructure team to automate and scale our cloud-native platform. You'll build and maintain CI/CD pipelines, manage Kubernetes clusters, and enforce security best practices. Required skills: Docker, Kubernetes, Helm, Terraform, Ansible, AWS (EKS, IAM, CloudWatch), GCP, Bash, Python or Go, ArgoCD or Flux, Prometheus, Grafana, monitoring and logging systems.                                                                                                                                                       |Berlin, Germany (Remote possible)|DevOps Engineer                        |DevOps Engineer Join our infrastructure team to automate and scale our cloud-native platform. You'll build and maintain CI/CD pipelines, manage Kubernetes clusters, and enforce security best practices. Required skills: Docker, Kubernetes, Helm, Terraform, Ansible, AWS (EKS, IAM, CloudWatch), GCP, Bash, Python or Go, ArgoCD or Flux, Prometheus, Grafana, monitoring and logging systems. Berlin, Germany (Remote possible)                                                                                                                                              |\n",
      "|We’re hiring a Full Stack Developer to help build features end-to-end across our digital product. Backend logic with Node.js and Express, frontend components in Vue.js. Required skills: Node.js, Express.js, Vue.js 3, Vuex, Composition API, MongoDB, PostgreSQL, RESTful API design, Swagger/OpenAPI, WebSockets, JWT, OAuth2, Jest, Cypress, Docker.                                                                                                                                                                                |Toronto, ON (Remote)             |Full Stack Developer (Node.js + Vue.js)|Full Stack Developer (Node.js + Vue.js) We’re hiring a Full Stack Developer to help build features end-to-end across our digital product. Backend logic with Node.js and Express, frontend components in Vue.js. Required skills: Node.js, Express.js, Vue.js 3, Vuex, Composition API, MongoDB, PostgreSQL, RESTful API design, Swagger/OpenAPI, WebSockets, JWT, OAuth2, Jest, Cypress, Docker. Toronto, ON (Remote)                                                                                                                                                            |\n",
      "|Join our analytics team to extract insights from customer data, build machine learning models, and support data-driven decisions. You'll work with big data and real-time analytics systems. Required skills: Python (Pandas, NumPy, scikit-learn), SQL, BigQuery, Data visualization (Tableau, Matplotlib, Seaborn), A/B testing, Jupyter, Airflow, dbt, MLflow, Git.                                                                                                                                                                   |New York, NY                     |Data Scientist                         |Data Scientist Join our analytics team to extract insights from customer data, build machine learning models, and support data-driven decisions. You'll work with big data and real-time analytics systems. Required skills: Python (Pandas, NumPy, scikit-learn), SQL, BigQuery, Data visualization (Tableau, Matplotlib, Seaborn), A/B testing, Jupyter, Airflow, dbt, MLflow, Git. New York, NY                                                                                                                                                                                |\n",
      "+-----------------------------------------------------------------------------------------------------------------------------------------------------------------------------------------------------------------------------------------------------------------------------------------------------------------------------------------------------------------------------------------------------------------------------------------------------------------------------------------------------------------------------------------+---------------------------------+---------------------------------------+----------------------------------------------------------------------------------------------------------------------------------------------------------------------------------------------------------------------------------------------------------------------------------------------------------------------------------------------------------------------------------------------------------------------------------------------------------------------------------------------------------------------------------------------------------------------------------+\n",
      "\n"
     ]
    }
   ],
   "execution_count": 69
  },
  {
   "metadata": {
    "ExecuteTime": {
     "end_time": "2025-05-08T22:50:43.021070Z",
     "start_time": "2025-05-08T22:49:50.845623Z"
    }
   },
   "cell_type": "code",
   "source": [
    "jobs_df = preprocessor.process_df(jobs_df)\n",
    "jobs_df.limit(5).show()"
   ],
   "id": "81b124538b884c12",
   "outputs": [
    {
     "name": "stdout",
     "output_type": "stream",
     "text": [
      "+--------------------+--------------------+--------------------+--------------------+--------------------+--------------------+--------------------+\n",
      "|         description|            location|               title|            document|              tokens|        tokens_clean|          tokens_ner|\n",
      "+--------------------+--------------------+--------------------+--------------------+--------------------+--------------------+--------------------+\n",
      "|We are seeking a ...|              Remote|Backend Developer...|backend developer...|[backend, develop...|[backend, develop...|[python, django, ...|\n",
      "|We are looking fo...|San Francisco, CA...|Frontend Develope...|frontend develope...|[frontend, develo...|[frontend, develo...|[react, react red...|\n",
      "|Join our infrastr...|Berlin, Germany (...|     DevOps Engineer|devops engineer j...|[devops, engineer...|[devops, engineer...|[kubernetes clust...|\n",
      "|We’re hiring a Fu...|Toronto, ON (Remote)|Full Stack Develo...|full stack develo...|[full, stack, dev...|[full, stack, dev...|[vue, mongodb, sw...|\n",
      "|Join our analytic...|        New York, NY|      Data Scientist|data scientist jo...|[data, scientist,...|[data, scientist,...|[python, pandas, ...|\n",
      "+--------------------+--------------------+--------------------+--------------------+--------------------+--------------------+--------------------+\n",
      "\n"
     ]
    }
   ],
   "execution_count": 79
  },
  {
   "metadata": {
    "ExecuteTime": {
     "end_time": "2025-05-08T22:35:56.328754200Z",
     "start_time": "2025-05-08T21:30:36.291574Z"
    }
   },
   "cell_type": "code",
   "source": "jobs_df.limit(5).show(truncate=False)",
   "id": "acd75c85042e3da",
   "outputs": [
    {
     "name": "stdout",
     "output_type": "stream",
     "text": [
      "+-----------------------------------------------------------------------------------------------------------------------------------------------------------------------------------------------------------------------------------------------------------------------------------------------------------------------------------------------------------------------------------------------------------------------------------------------------------------------------------------------------------------------------------------+---------------------------------+---------------------------------------+---------------------------------------------------------------------------------------------------------------------------------------------------------------------------------------------------------------------------------------------------------------------------------------------------------------------------------------------------------------------------------------------------------------------------------------------------------------------------------------+-----------------------------------------------------------------------------------------------------------------------------------------------------------------------------------------------------------------------------------------------------------------------------------------------------------------------------------------------------------------------------------------------------------------------------------------------------------------------------------------------------------------------------------------------------+-----------------------------------------------------------------------------------------------------------------------------------------------------------------------------------------------------------------------------------------------------------------------------------------------------------------------------------------------------------------------------------------------------------------------------------------------------------------------------------------------------------------------------------------------------+-----------------------------------------------------------------------------------------------------+\n",
      "|description                                                                                                                                                                                                                                                                                                                                                                                                                                                                                                                              |location                         |title                                  |document                                                                                                                                                                                                                                                                                                                                                                                                                                                                               |tokens                                                                                                                                                                                                                                                                                                                                                                                                                                                                                                                                               |tokens_clean                                                                                                                                                                                                                                                                                                                                                                                                                                                                                                                                         |tokens_ner                                                                                           |\n",
      "+-----------------------------------------------------------------------------------------------------------------------------------------------------------------------------------------------------------------------------------------------------------------------------------------------------------------------------------------------------------------------------------------------------------------------------------------------------------------------------------------------------------------------------------------+---------------------------------+---------------------------------------+---------------------------------------------------------------------------------------------------------------------------------------------------------------------------------------------------------------------------------------------------------------------------------------------------------------------------------------------------------------------------------------------------------------------------------------------------------------------------------------+-----------------------------------------------------------------------------------------------------------------------------------------------------------------------------------------------------------------------------------------------------------------------------------------------------------------------------------------------------------------------------------------------------------------------------------------------------------------------------------------------------------------------------------------------------+-----------------------------------------------------------------------------------------------------------------------------------------------------------------------------------------------------------------------------------------------------------------------------------------------------------------------------------------------------------------------------------------------------------------------------------------------------------------------------------------------------------------------------------------------------+-----------------------------------------------------------------------------------------------------+\n",
      "|We are seeking a highly skilled Python Developer with strong experience in Django and RESTful APIs. The ideal candidate has a deep understanding of relational databases (PostgreSQL), unit testing, and CI/CD pipelines. You will also be responsible for system architecture decisions and optimizing performance of data-intensive applications. Required skills: Python, Django, Django REST Framework, PostgreSQL, Redis, Celery, PyTest, Docker, Git, GitHub Actions or Jenkins, AWS (EC2, S3, Lambda), Linux CLI, Swagger/OpenAPI.|Remote                           |Backend Developer (Python/Django)      |backend developer python django seeking highly skilled python developer strong experience django restful apis ideal candidate deep understanding relational databases postgresql unit testing ci cd pipelines also responsible system architecture decisions optimizing performance data intensive applications required skills python django django rest framework postgresql redis celery pytest docker git github actions jenkins aws ec2 s3 lambda linux cli swagger openapi remote|[backend, developer, python, django, seeking, highly, skilled, python, developer, strong, experience, django, restful, apis, ideal, candidate, deep, understanding, relational, databases, postgresql, unit, testing, ci, cd, pipelines, also, responsible, system, architecture, decisions, optimizing, performance, data, intensive, applications, required, skills, python, django, django, rest, framework, postgresql, redis, celery, pytest, docker, git, github, actions, jenkins, aws, ec2, s3, lambda, linux, cli, swagger, openapi, remote]|[backend, developer, python, django, seeking, highly, skilled, python, developer, strong, experience, django, restful, apis, ideal, candidate, deep, understanding, relational, databases, postgresql, unit, testing, ci, cd, pipelines, also, responsible, system, architecture, decisions, optimizing, performance, data, intensive, applications, required, skills, python, django, django, rest, framework, postgresql, redis, celery, pytest, docker, git, github, actions, jenkins, aws, ec2, s3, lambda, linux, cli, swagger, openapi, remote]|[python, django, postgresql, django, django, postgresql, pytest, jenkins, ec2, s3]                   |\n",
      "|We are looking for a Frontend Engineer to build scalable and accessible web applications using React, Redux, and TypeScript. You'll collaborate with designers and backend engineers to deliver polished, user-centered products and reusable components. Required skills: React, Redux, TypeScript, Styled Components, Tailwind CSS, RESTful APIs, GraphQL, Jest, React Testing Library, Webpack, Vite, Accessibility standards (WCAG), Responsive design.                                                                              |San Francisco, CA (Hybrid)       |Frontend Developer (React/TypeScript)  |frontend developer react typescript looking frontend engineer build scalable accessible web applications using react redux typescript ll collaborate designers backend engineers deliver polished user centered products reusable components required skills react redux typescript styled components tailwind css restful apis graphql jest react testing library webpack vite accessibility standards wcag responsive design san francisco ca hybrid                                 |[frontend, developer, react, typescript, looking, frontend, engineer, build, scalable, accessible, web, applications, using, react, redux, typescript, ll, collaborate, designers, backend, engineers, deliver, polished, user, centered, products, reusable, components, required, skills, react, redux, typescript, styled, components, tailwind, css, restful, apis, graphql, jest, react, testing, library, webpack, vite, accessibility, standards, wcag, responsive, design, san, francisco, ca, hybrid]                                       |[frontend, developer, react, typescript, looking, frontend, engineer, build, scalable, accessible, web, applications, using, react, redux, typescript, ll, collaborate, designers, backend, engineers, deliver, polished, user, centered, products, reusable, components, required, skills, react, redux, typescript, styled, components, tailwind, css, restful, apis, graphql, jest, react, testing, library, webpack, vite, accessibility, standards, wcag, responsive, design, san, francisco, ca, hybrid]                                       |[react, react redux, react redux, san francisco ca]                                                  |\n",
      "|Join our infrastructure team to automate and scale our cloud-native platform. You'll build and maintain CI/CD pipelines, manage Kubernetes clusters, and enforce security best practices. Required skills: Docker, Kubernetes, Helm, Terraform, Ansible, AWS (EKS, IAM, CloudWatch), GCP, Bash, Python or Go, ArgoCD or Flux, Prometheus, Grafana, monitoring and logging systems.                                                                                                                                                       |Berlin, Germany (Remote possible)|DevOps Engineer                        |devops engineer join infrastructure team automate scale cloud native platform ll build maintain ci cd pipelines manage kubernetes clusters enforce security best practices required skills docker kubernetes helm terraform ansible aws eks iam cloudwatch gcp bash python go argocd flux prometheus grafana monitoring logging systems berlin germany remote possible                                                                                                                 |[devops, engineer, join, infrastructure, team, automate, scale, cloud, native, platform, ll, build, maintain, ci, cd, pipelines, manage, kubernetes, clusters, enforce, security, best, practices, required, skills, docker, kubernetes, helm, terraform, ansible, aws, eks, iam, cloudwatch, gcp, bash, python, go, argocd, flux, prometheus, grafana, monitoring, logging, systems, berlin, germany, remote, possible]                                                                                                                             |[devops, engineer, join, infrastructure, team, automate, scale, cloud, native, platform, ll, build, maintain, ci, cd, pipelines, manage, kubernetes, clusters, enforce, security, best, practices, required, skills, docker, kubernetes, helm, terraform, ansible, aws, eks, iam, cloudwatch, gcp, bash, python, go, argocd, flux, prometheus, grafana, monitoring, logging, systems, berlin, germany, remote, possible]                                                                                                                             |[kubernetes clusters, docker kubernetes, terraform, iam cloudwatch, flux, prometheus, berlin germany]|\n",
      "|We’re hiring a Full Stack Developer to help build features end-to-end across our digital product. Backend logic with Node.js and Express, frontend components in Vue.js. Required skills: Node.js, Express.js, Vue.js 3, Vuex, Composition API, MongoDB, PostgreSQL, RESTful API design, Swagger/OpenAPI, WebSockets, JWT, OAuth2, Jest, Cypress, Docker.                                                                                                                                                                                |Toronto, ON (Remote)             |Full Stack Developer (Node.js + Vue.js)|full stack developer node js vue js re hiring full stack developer help build features end end across digital product backend logic node js express frontend components vue js required skills node js express js vue js vuex composition api mongodb postgresql restful api design swagger openapi websockets jwt oauth2 jest cypress docker toronto remote                                                                                                                           |[full, stack, developer, node, js, vue, js, re, hiring, full, stack, developer, help, build, features, end, end, across, digital, product, backend, logic, node, js, express, frontend, components, vue, js, required, skills, node, js, express, js, vue, js, vuex, composition, api, mongodb, postgresql, restful, api, design, swagger, openapi, websockets, jwt, oauth2, jest, cypress, docker, toronto, remote]                                                                                                                                 |[full, stack, developer, node, js, vue, js, re, hiring, full, stack, developer, help, build, features, end, end, across, digital, product, backend, logic, node, js, express, frontend, components, vue, js, required, skills, node, js, express, js, vue, js, 3, vuex, composition, api, mongodb, postgresql, restful, api, design, swagger, openapi, websockets, jwt, oauth2, jest, cypress, docker, toronto, remote]                                                                                                                              |[vue, mongodb, swagger, jwt, oauth2, jest cypress, toronto]                                          |\n",
      "|Join our analytics team to extract insights from customer data, build machine learning models, and support data-driven decisions. You'll work with big data and real-time analytics systems. Required skills: Python (Pandas, NumPy, scikit-learn), SQL, BigQuery, Data visualization (Tableau, Matplotlib, Seaborn), A/B testing, Jupyter, Airflow, dbt, MLflow, Git.                                                                                                                                                                   |New York, NY                     |Data Scientist                         |data scientist join analytics team extract insights customer data build machine learning models support data driven decisions ll work big data real time analytics systems required skills python pandas numpy scikit learn sql bigquery data visualization tableau matplotlib seaborn testing jupyter airflow dbt mlflow git new york ny                                                                                                                                              |[data, scientist, join, analytics, team, extract, insights, customer, data, build, machine, learning, models, support, data, driven, decisions, ll, work, big, data, real, time, analytics, systems, required, skills, python, pandas, numpy, scikit, learn, sql, bigquery, data, visualization, tableau, matplotlib, seaborn, testing, jupyter, airflow, dbt, mlflow, git, new, york, ny]                                                                                                                                                           |[data, scientist, join, analytics, team, extract, insights, customer, data, build, machine, learning, models, support, data, driven, decisions, ll, work, big, data, real, time, analytics, systems, required, skills, python, pandas, numpy, scikit, learn, sql, bigquery, data, visualization, tableau, matplotlib, seaborn, b, testing, jupyter, airflow, dbt, mlflow, git, new, york, ny]                                                                                                                                                        |[python, pandas, numpy, matplotlib, seaborn, jupyter, mlflow, new york]                              |\n",
      "+-----------------------------------------------------------------------------------------------------------------------------------------------------------------------------------------------------------------------------------------------------------------------------------------------------------------------------------------------------------------------------------------------------------------------------------------------------------------------------------------------------------------------------------------+---------------------------------+---------------------------------------+---------------------------------------------------------------------------------------------------------------------------------------------------------------------------------------------------------------------------------------------------------------------------------------------------------------------------------------------------------------------------------------------------------------------------------------------------------------------------------------+-----------------------------------------------------------------------------------------------------------------------------------------------------------------------------------------------------------------------------------------------------------------------------------------------------------------------------------------------------------------------------------------------------------------------------------------------------------------------------------------------------------------------------------------------------+-----------------------------------------------------------------------------------------------------------------------------------------------------------------------------------------------------------------------------------------------------------------------------------------------------------------------------------------------------------------------------------------------------------------------------------------------------------------------------------------------------------------------------------------------------+-----------------------------------------------------------------------------------------------------+\n",
      "\n"
     ]
    }
   ],
   "execution_count": 73
  },
  {
   "metadata": {},
   "cell_type": "markdown",
   "source": "## Generate Embbedings",
   "id": "39b94e901b6520cf"
  },
  {
   "metadata": {
    "ExecuteTime": {
     "end_time": "2025-05-08T23:26:52.321132Z",
     "start_time": "2025-05-08T23:26:52.308124Z"
    }
   },
   "cell_type": "code",
   "source": [
    "from abc import ABC, abstractmethod\n",
    "class ModelBase(ABC):\n",
    "    @abstractmethod\n",
    "    def train(self):\n",
    "        pass\n",
    "\n",
    "    @abstractmethod\n",
    "    def predict(self):\n",
    "        pass\n",
    "\n",
    "    @abstractmethod\n",
    "    def evaluate(self):\n",
    "        pass\n",
    "\n",
    "    @abstractmethod\n",
    "    def _load_model(self, config):\n",
    "        pass\n",
    "\n",
    "    @abstractmethod\n",
    "    def save_model(self):\n",
    "        pass\n",
    "\n",
    "    @abstractmethod\n",
    "    def encode(self, data):\n",
    "        pass\n",
    "\n",
    "    @abstractmethod\n",
    "    def cosine_similarity(self, emb1, emb2):\n",
    "        pass"
   ],
   "id": "4ab21d145056b136",
   "outputs": [],
   "execution_count": 125
  },
  {
   "metadata": {
    "ExecuteTime": {
     "end_time": "2025-05-08T23:26:52.804278Z",
     "start_time": "2025-05-08T23:26:52.791284Z"
    }
   },
   "cell_type": "code",
   "source": [
    "from transformers import AutoModel\n",
    "from sentence_transformers import util\n",
    "\n",
    "class EmbeddingModel(ModelBase):\n",
    "    def __init__(self, params):\n",
    "        self.params = params\n",
    "        self.device = 'cuda' if torch.cuda.is_available() else 'cpu'\n",
    "        self.model = self._load_model()\n",
    "        self.text_column = config['text_column']\n",
    "\n",
    "    def train(self):\n",
    "        pass\n",
    "\n",
    "    def predict(self):\n",
    "        pass\n",
    "\n",
    "    def evaluate(self):\n",
    "        pass\n",
    "\n",
    "    def _load_model(self):\n",
    "        model = SentenceTransformer(self.params['model_name_or_path'])\n",
    "        model.to(self.device)\n",
    "        return model\n",
    "\n",
    "    def save_model(self):\n",
    "        self.model.save(self.params['model_dir'])\n",
    "        self.params['model_name_or_path'] = self.params['model_dir']\n",
    "\n",
    "    def encode(self, data):\n",
    "        embeddings = self.model.encode([row[self.params['text_column']] for row in data.select(self.params['text_column']).collect()],\n",
    "            convert_to_tensor=True)\n",
    "        return embeddings\n",
    "\n",
    "    def cosine_similarity(self, emb1, emb2):\n",
    "        similarity = util.cos_sim(emb1, emb2)\n",
    "        return similarity"
   ],
   "id": "2710cec198d7be2",
   "outputs": [],
   "execution_count": 126
  },
  {
   "metadata": {
    "ExecuteTime": {
     "end_time": "2025-05-08T23:36:00.476158Z",
     "start_time": "2025-05-08T23:36:00.325432Z"
    }
   },
   "cell_type": "code",
   "source": [
    "import tarfile\n",
    "from datetime import date\n",
    "i = 0\n",
    "\n",
    "model_dir = config['model_dir']\n",
    "tar_path = f'model_{date.today()}.tar'.replace('-', '_')\n",
    "\n",
    "with tarfile.open(tar_path, 'w') as tar:\n",
    "    tar.add(model_dir, arcname='.')"
   ],
   "id": "e5c8701097db1bf7",
   "outputs": [],
   "execution_count": 134
  },
  {
   "metadata": {
    "ExecuteTime": {
     "end_time": "2025-05-08T23:37:43.495025Z",
     "start_time": "2025-05-08T23:37:40.360851Z"
    }
   },
   "cell_type": "code",
   "source": [
    "from minio import Minio\n",
    "from minio.error import S3Error\n",
    "\n",
    "client = Minio(\n",
    "    \"localhost:9000\",  # Replace with your MinIO endpoint\n",
    "    access_key=\"victor\",\n",
    "    secret_key=\"senha1234567\",\n",
    "    secure=False  # Set to False if not using HTTPS\n",
    ")\n",
    "\n",
    "bucket_name = \"models\"\n",
    "object_name = tar_path\n",
    "file_path = tar_path\n",
    "\n",
    "# Make sure the bucket exists\n",
    "if not client.bucket_exists(bucket_name):\n",
    "    client.make_bucket(bucket_name)\n",
    "\n",
    "# Upload the file\n",
    "client.fput_object(bucket_name, object_name, file_path)\n",
    "print(\"Upload successful!\")"
   ],
   "id": "ec4b7c50199cc126",
   "outputs": [
    {
     "name": "stdout",
     "output_type": "stream",
     "text": [
      "Upload successful!\n"
     ]
    }
   ],
   "execution_count": 135
  },
  {
   "metadata": {
    "ExecuteTime": {
     "end_time": "2025-05-08T23:26:56.927953Z",
     "start_time": "2025-05-08T23:26:53.671258Z"
    }
   },
   "cell_type": "code",
   "source": "emb_model = EmbeddingModel(config)",
   "id": "ae176d8f5df484f7",
   "outputs": [],
   "execution_count": 127
  },
  {
   "metadata": {
    "ExecuteTime": {
     "end_time": "2025-05-08T23:04:09.306877Z",
     "start_time": "2025-05-08T23:03:26.418957Z"
    }
   },
   "cell_type": "code",
   "source": [
    "resumes_emb = emb_model.encode(resumes_data)\n",
    "jobs_emb = emb_model.encode(jobs_df)"
   ],
   "id": "6e4bb2ce92ccfc9e",
   "outputs": [],
   "execution_count": 94
  },
  {
   "metadata": {
    "ExecuteTime": {
     "end_time": "2025-05-08T23:04:53.255280Z",
     "start_time": "2025-05-08T23:04:53.231464Z"
    }
   },
   "cell_type": "code",
   "source": "print(resumes_emb)",
   "id": "d33f452e72534350",
   "outputs": [
    {
     "name": "stdout",
     "output_type": "stream",
     "text": [
      "tensor([[-0.0420, -0.0260,  0.0759,  ..., -0.0024, -0.0427,  0.0188],\n",
      "        [-0.0635, -0.0208,  0.0059,  ..., -0.0233, -0.0286, -0.0031],\n",
      "        [-0.0112, -0.0931,  0.0154,  ..., -0.0584, -0.0306,  0.0789],\n",
      "        ...,\n",
      "        [-0.0685,  0.0030, -0.0437,  ..., -0.0824, -0.0959,  0.0250],\n",
      "        [-0.0363,  0.0127,  0.0204,  ..., -0.0549, -0.0619,  0.0059],\n",
      "        [-0.0516,  0.0011, -0.0252,  ..., -0.0066, -0.0225, -0.0190]],\n",
      "       device='cuda:0')\n"
     ]
    }
   ],
   "execution_count": 98
  },
  {
   "metadata": {
    "ExecuteTime": {
     "end_time": "2025-05-08T23:10:27.805960Z",
     "start_time": "2025-05-08T23:10:27.792965Z"
    }
   },
   "cell_type": "code",
   "source": [
    "def calculate_similarity(job, resumes_emb):\n",
    "    similarity_list = []\n",
    "    for i in range(len(resumes_emb)):\n",
    "        similarity = emb_model.cosine_similarity(job, resumes_emb[i])\n",
    "        similarity_list.append((similarity, i))\n",
    "    similarity_list.sort(reverse=True, key=lambda x: x[0])\n",
    "    return similarity_list\n",
    "\n",
    "def print_top_k(similarity_list, k, resumes):\n",
    "    for i, value in enumerate(similarity_list[:k]):\n",
    "        print(f\"Top {i + 1} Candidate: {list(resumes.select('document').collect())[value[1]]['document']}\")\n",
    "        print('')\n",
    "        print(\"==================\")"
   ],
   "id": "782e3ef16bef20da",
   "outputs": [],
   "execution_count": 110
  },
  {
   "metadata": {
    "ExecuteTime": {
     "end_time": "2025-05-08T23:15:21.136120Z",
     "start_time": "2025-05-08T23:15:20.504555Z"
    }
   },
   "cell_type": "code",
   "source": "similarity_list = calculate_similarity(jobs_emb[1], resumes_emb)",
   "id": "131e54e702195d12",
   "outputs": [],
   "execution_count": 115
  },
  {
   "metadata": {
    "ExecuteTime": {
     "end_time": "2025-05-08T23:15:42.258648Z",
     "start_time": "2025-05-08T23:15:21.376001Z"
    }
   },
   "cell_type": "code",
   "source": "print(f\"Job: {list(jobs_df.select('document').collect())[1]['document']}\")",
   "id": "2b9f01a5297b749c",
   "outputs": [
    {
     "name": "stdout",
     "output_type": "stream",
     "text": [
      "Job: frontend developer react typescript looking frontend engineer build scalable accessible web applications using react redux typescript ll collaborate designers backend engineers deliver polished user centered products reusable components required skills react redux typescript styled components tailwind css restful apis graphql jest react testing library webpack vite accessibility standards wcag responsive design san francisco ca hybrid\n"
     ]
    }
   ],
   "execution_count": 116
  },
  {
   "metadata": {
    "ExecuteTime": {
     "end_time": "2025-05-08T23:17:20.639305Z",
     "start_time": "2025-05-08T23:15:42.328098Z"
    }
   },
   "cell_type": "code",
   "source": "print_top_k(similarity_list, 5, resumes_data)",
   "id": "8b789d60ef3cdcb2",
   "outputs": [
    {
     "name": "stdout",
     "output_type": "stream",
     "text": [
      "Top 1 Candidate: jebin desktop support dubai jebin jino gmail com mobile 971581802708 objective seeking suitable position accordance professional experience qualification skills gained years full extends development contribution overall growth profitability organization well attaining self growth career self motivated ambitious hardworking zeal professional progress career advancement determination dedication academic details degree course institution year passing percentage grade computer science engineering mar ephraem college engineering technology 2015 49 diploma computer science engineering morning star polytechnic college 2012 71 96 hsc christucoil lms higher secondary school 2010 50 sslc st anthony high school 2008 76 work experience organization designation duration syska gadget pvt ltd desktop support mar 2017 dec 2017 valecha engineering ltd system support jul 2015 dec 2016 andromeda bpo pvt ltd support engineer apr 2012 aug 2012 roles desktop support research identify solutions software hardware issues diagnose troubleshoot technical issues including account setup network configuration track computer system issues resolution within agreed time limits talk clients series actions either via phone email chat ve solved technical issue properly escalate unresolved issues appropriate internal teams software developers provide prompt accurate feedback customers refer internal database external resources provide accurate tech solutions ensure issues properly logged prioritize manage several open issues one time system support first level escalation related incidents problems queries users infrastructure need make regular follow installations maintenance operating systems windows xp sp3 windows application softwares setup maintenance lan network share printer installations monitor network infrastructure using hp monitoring tools sla violation critical need solve issue making proper follow ups basic configuration router switches manage alerts hp sitescope network node manager support engineer operating automated call distribution phone software via remote connection internet diagnose resolve technical hardware software issues involving internet connectivity email clients iptv voip research required information using available resources follow standard processes procedures identify escalate priority issues per client specifications redirect problems appropriate resource stay current system information changes updates skills\n",
      "\n",
      "==================\n",
      "Top 2 Candidate: keisuke yamamoto profile professional months experience web development interested ml skills web developer data analyst web development machine learning python frontend html javascript php css mysql java data structures oop algorithms experience sai technologies intern aug 2020 till date working cybersecurity company intern working different projects need python cybersecurity html css javascript java docker containers main skills education tech computers shri guru gobind singhji college engineering technology nanded 2019 activities data analyst python programming projects character detection using svm classification\n",
      "\n",
      "==================\n",
      "Top 3 Candidate: software developer niche towards end end machine learning projects motivated towards learning solving producing better results kln solutions junior data evangelist july 2019 till date building applications exploring data use different management solutions nolan drucks data manipulation data mining python sql programming powerbi tableau machine learning pyspark azure databricks aws tech instrumentation baburao patil college university aurangabad 2019 leveraged nltk spacy fast text libraries perform kinds nlp operations including limited cleaning stemming lemmatization word encoding etc introduction data ontology jb management software developer intern jan 2019 jun 2019 development python module assist ocr models\n",
      "\n",
      "==================\n",
      "Top 4 Candidate: mirad yastein skills artificial intelligence deep learning reinforcement learning tensorflow keras scikit learn numpy pandas matplotlib education tech iiit kancheepuram chennai 2019 personal profile machine learning engineer seeking assignments deep learning reinforcement learning tensorflow keras work background larsen toubro analyst intern dec 2019 till date building ocr models based test report data activities ksst scholar projects wesbite using react made fully customizable website company\n",
      "\n",
      "==================\n",
      "Top 5 Candidate: coca cola big data analyst nov 2019 till date using production shipment data create delivery mechanism automate process data warehousing immediately batch served production line tech electronics amity school engineering technology aset noida 2019 work experience education jerome pelinsky big data analyst big data analytics working database warehouse manager robust experience handling kinds data also used multiple cloud infrastructure services well acquainted currently search role offers development big data hadoop hive python mapreduce spark java machine learning cloud hdfs yarn core java data science data structures dbms rdbms informatica talend amazon redshift microsoft azure skills\n",
      "\n",
      "==================\n"
     ]
    }
   ],
   "execution_count": 117
  },
  {
   "metadata": {
    "ExecuteTime": {
     "end_time": "2025-05-08T23:27:07.031720Z",
     "start_time": "2025-05-08T23:27:06.831960Z"
    }
   },
   "cell_type": "code",
   "source": "emb_model.save_model()",
   "id": "d02338f2c96b4bd9",
   "outputs": [],
   "execution_count": 128
  },
  {
   "metadata": {},
   "cell_type": "code",
   "outputs": [],
   "execution_count": null,
   "source": "",
   "id": "b08076373a6ffd96"
  },
  {
   "metadata": {},
   "cell_type": "code",
   "outputs": [],
   "execution_count": null,
   "source": "",
   "id": "c8a1bceb1b2bbdeb"
  }
 ],
 "metadata": {
  "kernelspec": {
   "display_name": "Python 3",
   "language": "python",
   "name": "python3"
  },
  "language_info": {
   "codemirror_mode": {
    "name": "ipython",
    "version": 2
   },
   "file_extension": ".py",
   "mimetype": "text/x-python",
   "name": "python",
   "nbconvert_exporter": "python",
   "pygments_lexer": "ipython2",
   "version": "2.7.6"
  }
 },
 "nbformat": 4,
 "nbformat_minor": 5
}
